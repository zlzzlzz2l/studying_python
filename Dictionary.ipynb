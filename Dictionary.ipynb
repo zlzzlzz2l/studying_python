{
 "cells": [
  {
   "cell_type": "markdown",
   "metadata": {},
   "source": [
    "## Dictionary (사전)\n",
    "\n",
    "**key**와 **value**의 형태\n",
    "\n",
    "**key**는 **중복 불가**\n",
    "\n",
    "**var** = **{key:value}**"
   ]
  },
  {
   "cell_type": "code",
   "execution_count": 1,
   "metadata": {},
   "outputs": [],
   "source": [
    "dic = {5: \"김아현\", 10: \"이호림\"}"
   ]
  },
  {
   "cell_type": "markdown",
   "metadata": {},
   "source": [
    "**[방법1]** **출력**하기 위해서 **index**안에 **key**값을 넣어주면 된다."
   ]
  },
  {
   "cell_type": "code",
   "execution_count": 2,
   "metadata": {},
   "outputs": [
    {
     "name": "stdout",
     "output_type": "stream",
     "text": [
      "김아현\n",
      "이호림\n"
     ]
    }
   ],
   "source": [
    "print(dic[5])\n",
    "print(dic[10])"
   ]
  },
  {
   "cell_type": "markdown",
   "metadata": {},
   "source": [
    "**[방법2]** **출력**하기 위해서 **get()**을 써준다."
   ]
  },
  {
   "cell_type": "code",
   "execution_count": 3,
   "metadata": {},
   "outputs": [
    {
     "name": "stdout",
     "output_type": "stream",
     "text": [
      "김아현\n",
      "이호림\n"
     ]
    }
   ],
   "source": [
    "print(dic.get(5))\n",
    "print(dic.get(10))"
   ]
  },
  {
   "cell_type": "markdown",
   "metadata": {},
   "source": [
    "### 만약 dictionary안에 없는 키를 출력하게 된다면\n",
    "\n",
    "**index**안에 **key**값을 넣어줬을 땐 **Error**가 뜨면서 프로그램이 종료된다."
   ]
  },
  {
   "cell_type": "code",
   "execution_count": 4,
   "metadata": {},
   "outputs": [
    {
     "ename": "KeyError",
     "evalue": "100",
     "output_type": "error",
     "traceback": [
      "\u001b[1;31m---------------------------------------------------------------------------\u001b[0m",
      "\u001b[1;31mKeyError\u001b[0m                                  Traceback (most recent call last)",
      "\u001b[1;32m<ipython-input-4-d04680c87258>\u001b[0m in \u001b[0;36m<module>\u001b[1;34m()\u001b[0m\n\u001b[1;32m----> 1\u001b[1;33m \u001b[0mprint\u001b[0m\u001b[1;33m(\u001b[0m\u001b[0mdic\u001b[0m\u001b[1;33m[\u001b[0m\u001b[1;36m100\u001b[0m\u001b[1;33m]\u001b[0m\u001b[1;33m)\u001b[0m\u001b[1;33m\u001b[0m\u001b[0m\n\u001b[0m",
      "\u001b[1;31mKeyError\u001b[0m: 100"
     ]
    }
   ],
   "source": [
    "print(dic[100])"
   ]
  },
  {
   "cell_type": "markdown",
   "metadata": {},
   "source": [
    "하지만 **get()**을 이용하면 **None이 출력**되면서 프로그램은 계속 실행된다."
   ]
  },
  {
   "cell_type": "code",
   "execution_count": 5,
   "metadata": {},
   "outputs": [
    {
     "name": "stdout",
     "output_type": "stream",
     "text": [
      "None\n"
     ]
    }
   ],
   "source": [
    "print(dic.get(100))"
   ]
  },
  {
   "cell_type": "markdown",
   "metadata": {},
   "source": [
    "그리고 **get()**을 썼을 때, **해당 key가 존재하지 않는다**면, **None이외의 다른 값을 출력**하게 할 수도 있다."
   ]
  },
  {
   "cell_type": "code",
   "execution_count": 6,
   "metadata": {},
   "outputs": [
    {
     "name": "stdout",
     "output_type": "stream",
     "text": [
      "비었음\n"
     ]
    }
   ],
   "source": [
    "print(dic.get(100, \"비었음\"))"
   ]
  },
  {
   "cell_type": "markdown",
   "metadata": {},
   "source": [
    "### key가 있는지 확인하기\n",
    "\n",
    "**key in 변수명**을 이용한다.\n",
    "\n",
    "있다면 True, 없다면 False 출력"
   ]
  },
  {
   "cell_type": "code",
   "execution_count": 7,
   "metadata": {},
   "outputs": [
    {
     "name": "stdout",
     "output_type": "stream",
     "text": [
      "True\n",
      "False\n"
     ]
    }
   ],
   "source": [
    "print(5 in dic)\n",
    "print(33 in dic)"
   ]
  },
  {
   "cell_type": "markdown",
   "metadata": {},
   "source": [
    "**key**는 **문자열도 가능**하다."
   ]
  },
  {
   "cell_type": "code",
   "execution_count": 10,
   "metadata": {},
   "outputs": [
    {
     "name": "stdout",
     "output_type": "stream",
     "text": [
      "김아현\n",
      "24\n"
     ]
    }
   ],
   "source": [
    "dic1 = {\"이름\":\"김아현\", \"나이\":\"24\"}\n",
    "print(dic1[\"이름\"])\n",
    "print(dic1.get(\"나이\"))"
   ]
  },
  {
   "cell_type": "markdown",
   "metadata": {},
   "source": [
    "### Dictionary에 새로운 객체를 추가한다.\n",
    "\n",
    "**dictionary명[key] = value**\n",
    "\n",
    "**원래 dictionary에 있는 key**에 value를 할당하게 된다면 원래 **값이 업데이트** 된다."
   ]
  },
  {
   "cell_type": "code",
   "execution_count": 11,
   "metadata": {},
   "outputs": [
    {
     "name": "stdout",
     "output_type": "stream",
     "text": [
      "{'이름': '김아현', '나이': '24'}\n",
      "{'이름': '박종현', '나이': '24', '사는 곳': '경기도'}\n"
     ]
    }
   ],
   "source": [
    "print(dic1)\n",
    "dic1[\"사는 곳\"] = \"경기도\"\n",
    "dic1[\"이름\"] = \"박종현\"\n",
    "print(dic1)"
   ]
  },
  {
   "cell_type": "markdown",
   "metadata": {},
   "source": [
    "### key 지우기\n",
    "\n",
    "**del dictionary명[key]**"
   ]
  },
  {
   "cell_type": "code",
   "execution_count": 12,
   "metadata": {},
   "outputs": [
    {
     "name": "stdout",
     "output_type": "stream",
     "text": [
      "{'나이': '24', '사는 곳': '경기도'}\n"
     ]
    }
   ],
   "source": [
    "del dic1[\"이름\"]\n",
    "print(dic1)"
   ]
  },
  {
   "cell_type": "markdown",
   "metadata": {},
   "source": [
    "### key만 출력\n",
    "\n",
    "**keys()**를 이용"
   ]
  },
  {
   "cell_type": "code",
   "execution_count": 13,
   "metadata": {},
   "outputs": [
    {
     "name": "stdout",
     "output_type": "stream",
     "text": [
      "dict_keys(['나이', '사는 곳'])\n"
     ]
    }
   ],
   "source": [
    "print(dic1.keys())"
   ]
  },
  {
   "cell_type": "markdown",
   "metadata": {},
   "source": [
    "### value만 출력\n",
    "\n",
    "**values()**를 이용"
   ]
  },
  {
   "cell_type": "code",
   "execution_count": 14,
   "metadata": {},
   "outputs": [
    {
     "name": "stdout",
     "output_type": "stream",
     "text": [
      "dict_values(['24', '경기도'])\n"
     ]
    }
   ],
   "source": [
    "print(dic1.values())"
   ]
  },
  {
   "cell_type": "markdown",
   "metadata": {},
   "source": [
    "### key, value 쌍으로 출력\n",
    "\n",
    "**items()** 이용"
   ]
  },
  {
   "cell_type": "code",
   "execution_count": 15,
   "metadata": {},
   "outputs": [
    {
     "name": "stdout",
     "output_type": "stream",
     "text": [
      "dict_items([('나이', '24'), ('사는 곳', '경기도')])\n"
     ]
    }
   ],
   "source": [
    "print(dic1.items())"
   ]
  },
  {
   "cell_type": "markdown",
   "metadata": {},
   "source": [
    "### key, value 모두 지우기\n",
    "\n",
    "**clear()** 이용"
   ]
  },
  {
   "cell_type": "code",
   "execution_count": 17,
   "metadata": {},
   "outputs": [
    {
     "name": "stdout",
     "output_type": "stream",
     "text": [
      "{}\n"
     ]
    }
   ],
   "source": [
    "dic1.clear()\n",
    "print(dic1)"
   ]
  }
 ],
 "metadata": {
  "kernelspec": {
   "display_name": "Python 3",
   "language": "python",
   "name": "python3"
  },
  "language_info": {
   "codemirror_mode": {
    "name": "ipython",
    "version": 3
   },
   "file_extension": ".py",
   "mimetype": "text/x-python",
   "name": "python",
   "nbconvert_exporter": "python",
   "pygments_lexer": "ipython3",
   "version": "3.6.4"
  }
 },
 "nbformat": 4,
 "nbformat_minor": 2
}
