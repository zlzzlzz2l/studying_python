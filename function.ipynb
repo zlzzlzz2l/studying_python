{
 "cells": [
  {
   "cell_type": "markdown",
   "metadata": {},
   "source": [
    "## 함수\n",
    "\n",
    "함수는 **어떤 역할을 하는 박스**이다.\n",
    "\n",
    "def 함수명():\n",
    "\n",
    "함수는 정의만 되는 것이지 호출하기 전까지는 실행되지 않는다."
   ]
  },
  {
   "cell_type": "code",
   "execution_count": 1,
   "metadata": {},
   "outputs": [
    {
     "name": "stdout",
     "output_type": "stream",
     "text": [
      "책을 펼쳤습니다.\n"
     ]
    }
   ],
   "source": [
    "def open_book():\n",
    "    print(\"책을 펼쳤습니다.\")\n",
    "\n",
    "open_book()"
   ]
  },
  {
   "cell_type": "markdown",
   "metadata": {},
   "source": [
    "### 전달값과 반환값"
   ]
  },
  {
   "cell_type": "code",
   "execution_count": 2,
   "metadata": {},
   "outputs": [
    {
     "name": "stdout",
     "output_type": "stream",
     "text": [
      "책은 1권 있습니다.\n",
      "1\n"
     ]
    }
   ],
   "source": [
    "def buy(my_book, buy_book):\n",
    "    print(\"책은 {0}권 있습니다.\".format(my_book + buy_book))\n",
    "    return my_book + buy_book\n",
    "\n",
    "my_book = 0\n",
    "my_book = buy(my_book, 1)\n",
    "print(my_book)"
   ]
  },
  {
   "cell_type": "code",
   "execution_count": 9,
   "metadata": {
    "scrolled": true
   },
   "outputs": [
    {
     "name": "stdout",
     "output_type": "stream",
     "text": [
      "책을 팔았습니다. 남은 책의 갯수는 0권입니다.\n",
      "현재 내 책은 4권이며, 책을 3권 샀습니다.\n"
     ]
    }
   ],
   "source": [
    "def sell(my_book, buy_book):\n",
    "    if my_book >= buy_book:\n",
    "        print(\"책을 팔았습니다. 남은 책의 갯수는 {}권입니다.\".format(my_book - buy_book))\n",
    "        return my_book - buy_book\n",
    "    else:\n",
    "        print(\"책을 팔지 못 했습니다. 남은 책의 갯수는 {}권입니다.\".format(my_book))\n",
    "        return my_book\n",
    "\n",
    "#my_book = sell(my_book, 3)\n",
    "my_book = sell(my_book, 1)\n",
    "\n",
    "def free(my_book, buy_book):\n",
    "    if buy_book >= 2:\n",
    "        my_book += 1\n",
    "        return my_book, buy_book # 튜플 형식으로 return, 2개를 return할 수 있다.\n",
    "    else:\n",
    "        print(\"무료로 받을 수 있는 책이 없습니다.\")\n",
    "        return my_book, buy_book\n",
    "\n",
    "my_book, buy_book = free(my_book, 3)\n",
    "print(\"현재 내 책은 {0}권이며, 책을 {1}권 샀습니다.\".format(my_book + buy_book, buy_book))"
   ]
  },
  {
   "cell_type": "markdown",
   "metadata": {},
   "source": [
    "줄이 너무 길어져 **줄바꿈을 하고 싶을 때**에는 **\\(역슬래시)를 입력**하고 줄바꿈을 한다."
   ]
  },
  {
   "cell_type": "markdown",
   "metadata": {},
   "source": [
    "### 기본값"
   ]
  },
  {
   "cell_type": "code",
   "execution_count": 10,
   "metadata": {},
   "outputs": [
    {
     "name": "stdout",
     "output_type": "stream",
     "text": [
      "이름 : 김아현\t나이 : 24\t사는 곳 : 와우리\n",
      "이름 : 이호림\t나이 : 23\t사는 곳 : 와우리\n"
     ]
    }
   ],
   "source": [
    "def profile(name, age, loc):\n",
    "    print(\"이름 : {0}\\t나이 : {1}\\t사는 곳 : {2}\".format(name, age, loc))\n",
    "profile(\"김아현\", 24, \"와우리\")\n",
    "profile(\"이호림\", 23, \"와우리\")"
   ]
  },
  {
   "cell_type": "markdown",
   "metadata": {},
   "source": [
    "만약에 사는 곳이 같다면 기본값을 부여하면 된다."
   ]
  },
  {
   "cell_type": "code",
   "execution_count": 12,
   "metadata": {
    "scrolled": true
   },
   "outputs": [
    {
     "name": "stdout",
     "output_type": "stream",
     "text": [
      "이름 : 김아현\t나이 : 24\t사는 곳 : 와우리\n",
      "이름 : 이호림\t나이 : 23\t사는 곳 : 와우리\n"
     ]
    }
   ],
   "source": [
    "def profile(name, age, loc=\"와우리\"):\n",
    "    print(\"이름 : {0}\\t나이 : {1}\\t사는 곳 : {2}\".format(name, age, loc))\n",
    "profile(\"김아현\", 24)\n",
    "profile(\"이호림\", 23)"
   ]
  },
  {
   "cell_type": "markdown",
   "metadata": {},
   "source": [
    "함수에 기본값이 존재한다면 호출할 때 매개변수를 입력하지 않아도 기본값으로 출력된다."
   ]
  },
  {
   "cell_type": "markdown",
   "metadata": {},
   "source": [
    "### 키워드값\n",
    "\n",
    "매개변수에 키워드값을 넣고 함수를 호출해주면 순서가 달라도 제대로 출력된다."
   ]
  },
  {
   "cell_type": "code",
   "execution_count": 13,
   "metadata": {},
   "outputs": [
    {
     "name": "stdout",
     "output_type": "stream",
     "text": [
      "이름 : 김아현\t나이 : 24\t사는 곳 : 와우리\n",
      "이름 : 이호림\t나이 : 23\t사는 곳 : 와우리\n"
     ]
    }
   ],
   "source": [
    "def profile(name, age, loc):\n",
    "    print(\"이름 : {0}\\t나이 : {1}\\t사는 곳 : {2}\".format(name, age, loc))\n",
    "profile(name = \"김아현\", loc=\"와우리\", age = 24)\n",
    "profile(loc=\"와우리\", age = 23, name=\"이호림\")"
   ]
  },
  {
   "cell_type": "markdown",
   "metadata": {},
   "source": [
    "### 가변 인자"
   ]
  },
  {
   "cell_type": "code",
   "execution_count": 14,
   "metadata": {},
   "outputs": [
    {
     "name": "stdout",
     "output_type": "stream",
     "text": [
      "이름 : 김아현\t나이 : 24\t 책 코딩\n",
      "이름 : 이호림\t나이 : 23\t 루미큐브 \n"
     ]
    }
   ],
   "source": [
    "def profile(name, age, loc ,like1, like2):\n",
    "    print(\"이름 : {0}\\t나이 : {1}\\t\".format(name, age), end=\" \")\n",
    "    print(like1, like2)\n",
    "\n",
    "profile(\"김아현\", 24, \"와우리\", \"책\", \"코딩\")\n",
    "profile(\"이호림\", 23, \"와우리\", \"루미큐브\", \"\") #\"\"로 보내면 빈칸으로 뜸"
   ]
  },
  {
   "cell_type": "markdown",
   "metadata": {},
   "source": [
    "2번째 줄에 보면 end=\" \"를 썼는데 줄바꿈없이 그대로 이어쓴다고 생각하면 된다.\n",
    "\n",
    "좋아하는 것이 없다면 \"\"로 써도 되지만 만약에 좋아하는 것이 2개보다 더 있거나 없다면 그 땐 가변인자를 쓰면 된다.\n",
    "\n",
    "** *like(가변인자)** 이렇게 입력해주면 내가 입력하고 싶은 만큼 쓰면 그 만큼 늘어난다.\n",
    "\n",
    "like를 출력할 때는 for문을 써주면 된다."
   ]
  },
  {
   "cell_type": "code",
   "execution_count": 16,
   "metadata": {},
   "outputs": [
    {
     "name": "stdout",
     "output_type": "stream",
     "text": [
      "이름 : 김아현\t나이 : 24\t 책 코딩 잠자기 \n",
      "이름 : 이호림\t나이 : 23\t 루미큐브 \n"
     ]
    }
   ],
   "source": [
    "def profile(name, age, loc , *like):\n",
    "    print(\"이름 : {0}\\t나이 : {1}\\t\".format(name, age), end=\" \")\n",
    "    for l in like:\n",
    "        print(l, end=\" \")\n",
    "    print()\n",
    "\n",
    "profile(\"김아현\", 24, \"와우리\", \"책\", \"코딩\", \"잠자기\")\n",
    "profile(\"이호림\", 23, \"와우리\", \"루미큐브\")"
   ]
  },
  {
   "cell_type": "markdown",
   "metadata": {},
   "source": [
    "### 지역변수와 전역변수\n",
    "\n",
    "**함수 호출될 때만 사용하는 변수**를 **지역변수**\n",
    "\n",
    "**프로그램 내에서 언제든지 부를 수 있는 변수**를 **전역변수**"
   ]
  },
  {
   "cell_type": "code",
   "execution_count": 17,
   "metadata": {},
   "outputs": [
    {
     "name": "stdout",
     "output_type": "stream",
     "text": [
      "전체 인원 : 6\n"
     ]
    },
    {
     "ename": "UnboundLocalError",
     "evalue": "local variable 'person' referenced before assignment",
     "output_type": "error",
     "traceback": [
      "\u001b[1;31m---------------------------------------------------------------------------\u001b[0m",
      "\u001b[1;31mUnboundLocalError\u001b[0m                         Traceback (most recent call last)",
      "\u001b[1;32m<ipython-input-17-01361bdc3466>\u001b[0m in \u001b[0;36m<module>\u001b[1;34m()\u001b[0m\n\u001b[0;32m      6\u001b[0m \u001b[1;33m\u001b[0m\u001b[0m\n\u001b[0;32m      7\u001b[0m \u001b[0mprint\u001b[0m\u001b[1;33m(\u001b[0m\u001b[1;34m\"전체 인원 : {0}\"\u001b[0m\u001b[1;33m.\u001b[0m\u001b[0mformat\u001b[0m\u001b[1;33m(\u001b[0m\u001b[0mperson\u001b[0m\u001b[1;33m)\u001b[0m\u001b[1;33m)\u001b[0m\u001b[1;33m\u001b[0m\u001b[0m\n\u001b[1;32m----> 8\u001b[1;33m \u001b[0mnum\u001b[0m\u001b[1;33m(\u001b[0m\u001b[1;36m5\u001b[0m\u001b[1;33m)\u001b[0m\u001b[1;33m\u001b[0m\u001b[0m\n\u001b[0m\u001b[0;32m      9\u001b[0m \u001b[0mprint\u001b[0m\u001b[1;33m(\u001b[0m\u001b[1;34m\"현재 남은 인원 : {0}\"\u001b[0m\u001b[1;33m.\u001b[0m\u001b[0mformat\u001b[0m\u001b[1;33m(\u001b[0m\u001b[0mperson\u001b[0m\u001b[1;33m)\u001b[0m\u001b[1;33m)\u001b[0m\u001b[1;33m\u001b[0m\u001b[0m\n",
      "\u001b[1;32m<ipython-input-17-01361bdc3466>\u001b[0m in \u001b[0;36mnum\u001b[1;34m(people)\u001b[0m\n\u001b[0;32m      2\u001b[0m \u001b[1;33m\u001b[0m\u001b[0m\n\u001b[0;32m      3\u001b[0m \u001b[1;32mdef\u001b[0m \u001b[0mnum\u001b[0m\u001b[1;33m(\u001b[0m\u001b[0mpeople\u001b[0m\u001b[1;33m)\u001b[0m\u001b[1;33m:\u001b[0m\u001b[1;33m\u001b[0m\u001b[0m\n\u001b[1;32m----> 4\u001b[1;33m     \u001b[0mperson\u001b[0m \u001b[1;33m=\u001b[0m \u001b[0mperson\u001b[0m \u001b[1;33m-\u001b[0m \u001b[0mpeople\u001b[0m\u001b[1;33m\u001b[0m\u001b[0m\n\u001b[0m\u001b[0;32m      5\u001b[0m     \u001b[0mprint\u001b[0m\u001b[1;33m(\u001b[0m\u001b[1;34m\"와우리에 남은 사람 : {0}\"\u001b[0m\u001b[1;33m.\u001b[0m\u001b[0mformat\u001b[0m\u001b[1;33m(\u001b[0m\u001b[0mperson\u001b[0m\u001b[1;33m)\u001b[0m\u001b[1;33m)\u001b[0m\u001b[1;33m\u001b[0m\u001b[0m\n\u001b[0;32m      6\u001b[0m \u001b[1;33m\u001b[0m\u001b[0m\n",
      "\u001b[1;31mUnboundLocalError\u001b[0m: local variable 'person' referenced before assignment"
     ]
    }
   ],
   "source": [
    "person = 6\n",
    "\n",
    "def num(people):\n",
    "    person = person - people\n",
    "    print(\"와우리에 남은 사람 : {0}\".format(person))\n",
    "\n",
    "print(\"전체 인원 : {0}\".format(person))\n",
    "num(5)\n",
    "print(\"현재 남은 인원 : {0}\".format(person))"
   ]
  },
  {
   "cell_type": "markdown",
   "metadata": {},
   "source": [
    "위 에러에서 볼 수 있는 것처럼 함수 내에 있는 person은 지역변수이기 때문에 따로 할당을 해줘야 된다.\n",
    "\n",
    "그래서 만약에 함수 밖에 있는 person을 쓰고 싶다면 **global** 전역변수를 써주면 된다.\n",
    "\n",
    "(사실 나는 파이썬에서 함수 밖에 있는 변수를 global을 이용해서 함수 내에서도 사용할 수 있다는 걸 이번 학습을 통해 알았다.)"
   ]
  },
  {
   "cell_type": "code",
   "execution_count": 21,
   "metadata": {},
   "outputs": [
    {
     "name": "stdout",
     "output_type": "stream",
     "text": [
      "전체 인원 : 6\n",
      "와우리에 남은 사람 : 5\n",
      "현재 남은 인원 : 5\n"
     ]
    }
   ],
   "source": [
    "person = 6\n",
    "\n",
    "def num(people):\n",
    "    global person\n",
    "    person = person - people\n",
    "    print(\"와우리에 남은 사람 : {0}\".format(person))\n",
    "\n",
    "print(\"전체 인원 : {0}\".format(person))\n",
    "num(1) #현재 와우리에 없는 사람\n",
    "print(\"현재 남은 인원 : {0}\".format(person))"
   ]
  },
  {
   "cell_type": "markdown",
   "metadata": {},
   "source": [
    "하지만 global을 쓰는 방법은 추천하지 않는다. parameter로 받아 결과를 return 하는 식으로 추천한다."
   ]
  },
  {
   "cell_type": "code",
   "execution_count": 24,
   "metadata": {},
   "outputs": [
    {
     "name": "stdout",
     "output_type": "stream",
     "text": [
      "전체 인원 : 6\n",
      "와우리에 남은 사람 : 5\n",
      "현재 남은 인원 : 5\n"
     ]
    }
   ],
   "source": [
    "person = 6\n",
    "\n",
    "def num(person, people): #매개변수로 person을 받아왔다.\n",
    "    person = person - people\n",
    "    print(\"와우리에 남은 사람 : {0}\".format(person))\n",
    "    return person\n",
    "\n",
    "print(\"전체 인원 : {0}\".format(person))\n",
    "person = num(person, 1) #현재 와우리에 없는 사람\n",
    "print(\"현재 남은 인원 : {0}\".format(person))"
   ]
  },
  {
   "cell_type": "markdown",
   "metadata": {},
   "source": [
    "매개변수로 person을 받아왔다.\n",
    "\n",
    "하지만 매개변수로 person을 받아온다고 하더라도 person은 함수 내에서 지역 변수이다.\n",
    "\n",
    "그래서 return값으로 person을 내보내줘야 같은 결과를 얻게 된다."
   ]
  },
  {
   "cell_type": "markdown",
   "metadata": {},
   "source": [
    "## Quiz"
   ]
  },
  {
   "cell_type": "code",
   "execution_count": 19,
   "metadata": {},
   "outputs": [
    {
     "name": "stdout",
     "output_type": "stream",
     "text": [
      "키 175cm 남자의 표준 체중은 67.38kg입니다.\n"
     ]
    }
   ],
   "source": [
    "def std_weight(height, gender):\n",
    "    if gender == \"남자\":\n",
    "        return height * height * 22\n",
    "    else:\n",
    "        return height * height * 21\n",
    "gender = \"남자\"\n",
    "height = 175 # m 단위\n",
    "weight = std_weight(height / 100, gender)\n",
    "print(\"키 {0}cm {1}의 표준 체중은 {2}kg입니다.\".format(height, gender, round(weight, 2)))"
   ]
  }
 ],
 "metadata": {
  "kernelspec": {
   "display_name": "Python 3",
   "language": "python",
   "name": "python3"
  },
  "language_info": {
   "codemirror_mode": {
    "name": "ipython",
    "version": 3
   },
   "file_extension": ".py",
   "mimetype": "text/x-python",
   "name": "python",
   "nbconvert_exporter": "python",
   "pygments_lexer": "ipython3",
   "version": "3.6.4"
  }
 },
 "nbformat": 4,
 "nbformat_minor": 2
}
