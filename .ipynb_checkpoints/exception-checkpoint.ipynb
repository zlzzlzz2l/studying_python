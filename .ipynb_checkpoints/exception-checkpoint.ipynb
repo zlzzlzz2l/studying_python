{
 "cells": [
  {
   "cell_type": "markdown",
   "metadata": {},
   "source": [
    "## 예외 처리\n",
    "\n",
    "숫자를 받아야 되는데 문자를 받았거나, 교통 카드를 찍었는데 잔액이 없다거나 이럴 경우에 처리를 어떻게 해줄 것인지 예외 처리를 해줘야 된다."
   ]
  },
  {
   "cell_type": "code",
   "execution_count": 11,
   "metadata": {
    "scrolled": true
   },
   "outputs": [
    {
     "name": "stdout",
     "output_type": "stream",
     "text": [
      "나누기 전용 계산기입니다.\n",
      "첫 번째 숫자를 입력하세요. : 6\n",
      "두 번째 숫자를 입력하세요. : 3\n",
      "6 / 3 = 2\n"
     ]
    }
   ],
   "source": [
    "print(\"나누기 전용 계산기입니다.\")\n",
    "num1 = int(input(\"첫 번째 숫자를 입력하세요. : \"))\n",
    "num2 = int(input(\"두 번째 숫자를 입력하세요. : \"))\n",
    "print(\"{0} / {1} = {2}\".format(num1, num2, int(num1/num2)))"
   ]
  },
  {
   "cell_type": "markdown",
   "metadata": {},
   "source": [
    "만약에 숫자 3을 문자 삼이라고 입력했을 때를 봐보자."
   ]
  },
  {
   "cell_type": "code",
   "execution_count": 12,
   "metadata": {},
   "outputs": [
    {
     "name": "stdout",
     "output_type": "stream",
     "text": [
      "나누기 전용 계산기입니다.\n",
      "첫 번째 숫자를 입력하세요. : 6\n",
      "두 번째 숫자를 입력하세요. : 삼\n"
     ]
    },
    {
     "ename": "ValueError",
     "evalue": "invalid literal for int() with base 10: '삼'",
     "output_type": "error",
     "traceback": [
      "\u001b[1;31m---------------------------------------------------------------------------\u001b[0m",
      "\u001b[1;31mValueError\u001b[0m                                Traceback (most recent call last)",
      "\u001b[1;32m<ipython-input-12-789faa0967b4>\u001b[0m in \u001b[0;36m<module>\u001b[1;34m()\u001b[0m\n\u001b[0;32m      1\u001b[0m \u001b[0mprint\u001b[0m\u001b[1;33m(\u001b[0m\u001b[1;34m\"나누기 전용 계산기입니다.\"\u001b[0m\u001b[1;33m)\u001b[0m\u001b[1;33m\u001b[0m\u001b[0m\n\u001b[0;32m      2\u001b[0m \u001b[0mnum1\u001b[0m \u001b[1;33m=\u001b[0m \u001b[0mint\u001b[0m\u001b[1;33m(\u001b[0m\u001b[0minput\u001b[0m\u001b[1;33m(\u001b[0m\u001b[1;34m\"첫 번째 숫자를 입력하세요. : \"\u001b[0m\u001b[1;33m)\u001b[0m\u001b[1;33m)\u001b[0m\u001b[1;33m\u001b[0m\u001b[0m\n\u001b[1;32m----> 3\u001b[1;33m \u001b[0mnum2\u001b[0m \u001b[1;33m=\u001b[0m \u001b[0mint\u001b[0m\u001b[1;33m(\u001b[0m\u001b[0minput\u001b[0m\u001b[1;33m(\u001b[0m\u001b[1;34m\"두 번째 숫자를 입력하세요. : \"\u001b[0m\u001b[1;33m)\u001b[0m\u001b[1;33m)\u001b[0m\u001b[1;33m\u001b[0m\u001b[0m\n\u001b[0m\u001b[0;32m      4\u001b[0m \u001b[0mprint\u001b[0m\u001b[1;33m(\u001b[0m\u001b[1;34m\"{0} / {1} = {2}\"\u001b[0m\u001b[1;33m.\u001b[0m\u001b[0mformat\u001b[0m\u001b[1;33m(\u001b[0m\u001b[0mnum1\u001b[0m\u001b[1;33m,\u001b[0m \u001b[0mnum2\u001b[0m\u001b[1;33m,\u001b[0m \u001b[0mint\u001b[0m\u001b[1;33m(\u001b[0m\u001b[0mnum1\u001b[0m\u001b[1;33m/\u001b[0m\u001b[0mnum2\u001b[0m\u001b[1;33m)\u001b[0m\u001b[1;33m)\u001b[0m\u001b[1;33m)\u001b[0m\u001b[1;33m\u001b[0m\u001b[0m\n",
      "\u001b[1;31mValueError\u001b[0m: invalid literal for int() with base 10: '삼'"
     ]
    }
   ],
   "source": [
    "print(\"나누기 전용 계산기입니다.\")\n",
    "num1 = int(input(\"첫 번째 숫자를 입력하세요. : \"))\n",
    "num2 = int(input(\"두 번째 숫자를 입력하세요. : \"))\n",
    "print(\"{0} / {1} = {2}\".format(num1, num2, int(num1/num2)))"
   ]
  },
  {
   "cell_type": "markdown",
   "metadata": {},
   "source": [
    "문자가 잘못됐다고 에러가 뜬다.\n",
    "\n",
    "이럴 경우에 예외처리를 쓴다."
   ]
  },
  {
   "cell_type": "code",
   "execution_count": 13,
   "metadata": {},
   "outputs": [
    {
     "name": "stdout",
     "output_type": "stream",
     "text": [
      "나누기 전용 계산기입니다.\n",
      "첫 번째 숫자를 입력하세요. : 6\n",
      "두 번째 숫자를 입력하세요. : 삼\n",
      "Error!!!! 잘못된 값을 입력했습니다.\n"
     ]
    }
   ],
   "source": [
    "try:\n",
    "    print(\"나누기 전용 계산기입니다.\")\n",
    "    num1 = int(input(\"첫 번째 숫자를 입력하세요. : \"))\n",
    "    num2 = int(input(\"두 번째 숫자를 입력하세요. : \"))\n",
    "    print(\"{0} / {1} = {2}\".format(num1, num2, int(num1/num2)))\n",
    "except ValueError: #위 에러에서 나온 ValueError 입력\n",
    "    print(\"Error!!!! 잘못된 값을 입력했습니다.\")"
   ]
  },
  {
   "cell_type": "markdown",
   "metadata": {},
   "source": [
    "이럴 때에는 위에서 나온 오류가 뜨지 않고, 우리가 입력했던 문구가 뜬다.\n",
    "\n",
    "원리는 위에서 해당하는 오류가 발생했을 때에 expect 안의 해당 에러에 관한 문구가 뜬다.\n",
    "\n",
    "**만약 0으로 나눠줬을 때에도 봐보자.**"
   ]
  },
  {
   "cell_type": "code",
   "execution_count": 14,
   "metadata": {},
   "outputs": [
    {
     "name": "stdout",
     "output_type": "stream",
     "text": [
      "나누기 전용 계산기입니다.\n",
      "첫 번째 숫자를 입력하세요. : 6\n",
      "두 번째 숫자를 입력하세요. : 0\n"
     ]
    },
    {
     "ename": "ZeroDivisionError",
     "evalue": "division by zero",
     "output_type": "error",
     "traceback": [
      "\u001b[1;31m---------------------------------------------------------------------------\u001b[0m",
      "\u001b[1;31mZeroDivisionError\u001b[0m                         Traceback (most recent call last)",
      "\u001b[1;32m<ipython-input-14-1d6824ad5198>\u001b[0m in \u001b[0;36m<module>\u001b[1;34m()\u001b[0m\n\u001b[0;32m      3\u001b[0m     \u001b[0mnum1\u001b[0m \u001b[1;33m=\u001b[0m \u001b[0mint\u001b[0m\u001b[1;33m(\u001b[0m\u001b[0minput\u001b[0m\u001b[1;33m(\u001b[0m\u001b[1;34m\"첫 번째 숫자를 입력하세요. : \"\u001b[0m\u001b[1;33m)\u001b[0m\u001b[1;33m)\u001b[0m\u001b[1;33m\u001b[0m\u001b[0m\n\u001b[0;32m      4\u001b[0m     \u001b[0mnum2\u001b[0m \u001b[1;33m=\u001b[0m \u001b[0mint\u001b[0m\u001b[1;33m(\u001b[0m\u001b[0minput\u001b[0m\u001b[1;33m(\u001b[0m\u001b[1;34m\"두 번째 숫자를 입력하세요. : \"\u001b[0m\u001b[1;33m)\u001b[0m\u001b[1;33m)\u001b[0m\u001b[1;33m\u001b[0m\u001b[0m\n\u001b[1;32m----> 5\u001b[1;33m     \u001b[0mprint\u001b[0m\u001b[1;33m(\u001b[0m\u001b[1;34m\"{0} / {1} = {2}\"\u001b[0m\u001b[1;33m.\u001b[0m\u001b[0mformat\u001b[0m\u001b[1;33m(\u001b[0m\u001b[0mnum1\u001b[0m\u001b[1;33m,\u001b[0m \u001b[0mnum2\u001b[0m\u001b[1;33m,\u001b[0m \u001b[0mint\u001b[0m\u001b[1;33m(\u001b[0m\u001b[0mnum1\u001b[0m\u001b[1;33m/\u001b[0m\u001b[0mnum2\u001b[0m\u001b[1;33m)\u001b[0m\u001b[1;33m)\u001b[0m\u001b[1;33m)\u001b[0m\u001b[1;33m\u001b[0m\u001b[0m\n\u001b[0m\u001b[0;32m      6\u001b[0m \u001b[1;32mexcept\u001b[0m \u001b[0mValueError\u001b[0m\u001b[1;33m:\u001b[0m \u001b[1;31m#위 에러에서 나온 ValueError 입력\u001b[0m\u001b[1;33m\u001b[0m\u001b[0m\n\u001b[0;32m      7\u001b[0m     \u001b[0mprint\u001b[0m\u001b[1;33m(\u001b[0m\u001b[1;34m\"Error!!!! 잘못된 값을 입력했습니다.\"\u001b[0m\u001b[1;33m)\u001b[0m\u001b[1;33m\u001b[0m\u001b[0m\n",
      "\u001b[1;31mZeroDivisionError\u001b[0m: division by zero"
     ]
    }
   ],
   "source": [
    "try:\n",
    "    print(\"나누기 전용 계산기입니다.\")\n",
    "    num1 = int(input(\"첫 번째 숫자를 입력하세요. : \"))\n",
    "    num2 = int(input(\"두 번째 숫자를 입력하세요. : \"))\n",
    "    print(\"{0} / {1} = {2}\".format(num1, num2, int(num1/num2)))\n",
    "except ValueError: #위 에러에서 나온 ValueError 입력\n",
    "    print(\"Error!!!! 잘못된 값을 입력했습니다.\")"
   ]
  },
  {
   "cell_type": "markdown",
   "metadata": {},
   "source": [
    "**ZeroDivisionErro**r가 뜬다.\n",
    "\n",
    "0으로 나눌 순 없다는 에러이다."
   ]
  },
  {
   "cell_type": "code",
   "execution_count": 15,
   "metadata": {},
   "outputs": [
    {
     "name": "stdout",
     "output_type": "stream",
     "text": [
      "나누기 전용 계산기입니다.\n",
      "첫 번째 숫자를 입력하세요. : 6\n",
      "두 번째 숫자를 입력하세요. : 0\n",
      "division by zero\n"
     ]
    }
   ],
   "source": [
    "try:\n",
    "    print(\"나누기 전용 계산기입니다.\")\n",
    "    num1 = int(input(\"첫 번째 숫자를 입력하세요. : \"))\n",
    "    num2 = int(input(\"두 번째 숫자를 입력하세요. : \"))\n",
    "    print(\"{0} / {1} = {2}\".format(num1, num2, int(num1/num2)))\n",
    "except ValueError: #위 에러에서 나온 ValueError 입력\n",
    "    print(\"Error!!!! 잘못된 값을 입력했습니다.\")\n",
    "except ZeroDivisionError as err: #err이라는 변수에 에러를 입력해준다.\n",
    "    print(err)"
   ]
  },
  {
   "cell_type": "code",
   "execution_count": 6,
   "metadata": {
    "scrolled": true
   },
   "outputs": [
    {
     "name": "stdout",
     "output_type": "stream",
     "text": [
      "더하기, 빼기 전용 계산기입니다.\n",
      "첫 번째 숫자를 입력하세요. : 5\n",
      "두 번째 숫자를 입력하세요. : 3\n",
      "5 / 3 = 1\n"
     ]
    }
   ],
   "source": [
    "try:\n",
    "    print(\"더하기, 빼기 전용 계산기입니다.\")\n",
    "    nums = []\n",
    "    nums.append(int(input(\"첫 번째 숫자를 입력하세요. : \")))\n",
    "    nums.append(int(input(\"두 번째 숫자를 입력하세요. : \")))\n",
    "    nums.append(int(nums[0] / nums[1]))\n",
    "    print(\"{0} / {1} = {2}\".format(nums[0], nums[1],nums[2]))\n",
    "except ValueError: #위 에러에서 나온 ValueError 입력\n",
    "    print(\"Error!!!! 잘못된 값을 입력했습니다.\")\n",
    "except ZeroDivisionError as err: #err이라는 변수에 에러를 입력해준다.\n",
    "    print(err)"
   ]
  },
  {
   "cell_type": "code",
   "execution_count": 16,
   "metadata": {},
   "outputs": [
    {
     "name": "stdout",
     "output_type": "stream",
     "text": [
      "나누기 전용 계산기입니다.\n",
      "첫 번째 숫자를 입력하세요. : 6\n",
      "두 번째 숫자를 입력하세요. : 3\n"
     ]
    },
    {
     "ename": "IndexError",
     "evalue": "list index out of range",
     "output_type": "error",
     "traceback": [
      "\u001b[1;31m---------------------------------------------------------------------------\u001b[0m",
      "\u001b[1;31mIndexError\u001b[0m                                Traceback (most recent call last)",
      "\u001b[1;32m<ipython-input-16-3c471c9ea294>\u001b[0m in \u001b[0;36m<module>\u001b[1;34m()\u001b[0m\n\u001b[0;32m      5\u001b[0m     \u001b[0mnums\u001b[0m\u001b[1;33m.\u001b[0m\u001b[0mappend\u001b[0m\u001b[1;33m(\u001b[0m\u001b[0mint\u001b[0m\u001b[1;33m(\u001b[0m\u001b[0minput\u001b[0m\u001b[1;33m(\u001b[0m\u001b[1;34m\"두 번째 숫자를 입력하세요. : \"\u001b[0m\u001b[1;33m)\u001b[0m\u001b[1;33m)\u001b[0m\u001b[1;33m)\u001b[0m\u001b[1;33m\u001b[0m\u001b[0m\n\u001b[0;32m      6\u001b[0m     \u001b[1;31m#nums.append(int(nums[0] / nums[1]))\u001b[0m\u001b[1;33m\u001b[0m\u001b[1;33m\u001b[0m\u001b[0m\n\u001b[1;32m----> 7\u001b[1;33m     \u001b[0mprint\u001b[0m\u001b[1;33m(\u001b[0m\u001b[1;34m\"{0} / {1} = {2}\"\u001b[0m\u001b[1;33m.\u001b[0m\u001b[0mformat\u001b[0m\u001b[1;33m(\u001b[0m\u001b[0mnums\u001b[0m\u001b[1;33m[\u001b[0m\u001b[1;36m0\u001b[0m\u001b[1;33m]\u001b[0m\u001b[1;33m,\u001b[0m \u001b[0mnums\u001b[0m\u001b[1;33m[\u001b[0m\u001b[1;36m1\u001b[0m\u001b[1;33m]\u001b[0m\u001b[1;33m,\u001b[0m\u001b[0mnums\u001b[0m\u001b[1;33m[\u001b[0m\u001b[1;36m2\u001b[0m\u001b[1;33m]\u001b[0m\u001b[1;33m)\u001b[0m\u001b[1;33m)\u001b[0m\u001b[1;33m\u001b[0m\u001b[0m\n\u001b[0m\u001b[0;32m      8\u001b[0m \u001b[1;32mexcept\u001b[0m \u001b[0mValueError\u001b[0m\u001b[1;33m:\u001b[0m \u001b[1;31m#위 에러에서 나온 ValueError 입력\u001b[0m\u001b[1;33m\u001b[0m\u001b[0m\n\u001b[0;32m      9\u001b[0m     \u001b[0mprint\u001b[0m\u001b[1;33m(\u001b[0m\u001b[1;34m\"Error!!!! 잘못된 값을 입력했습니다.\"\u001b[0m\u001b[1;33m)\u001b[0m\u001b[1;33m\u001b[0m\u001b[0m\n",
      "\u001b[1;31mIndexError\u001b[0m: list index out of range"
     ]
    }
   ],
   "source": [
    "try:\n",
    "    print(\"나누기 전용 계산기입니다.\")\n",
    "    nums = []\n",
    "    nums.append(int(input(\"첫 번째 숫자를 입력하세요. : \")))\n",
    "    nums.append(int(input(\"두 번째 숫자를 입력하세요. : \")))\n",
    "    #nums.append(int(nums[0] / nums[1]))\n",
    "    print(\"{0} / {1} = {2}\".format(nums[0], nums[1],nums[2]))\n",
    "except ValueError: #위 에러에서 나온 ValueError 입력\n",
    "    print(\"Error!!!! 잘못된 값을 입력했습니다.\")\n",
    "except ZeroDivisionError as err: #err이라는 변수에 에러를 입력해준다.\n",
    "    print(err)"
   ]
  },
  {
   "cell_type": "markdown",
   "metadata": {},
   "source": [
    "except: 를 추가해보자"
   ]
  },
  {
   "cell_type": "code",
   "execution_count": 17,
   "metadata": {},
   "outputs": [
    {
     "name": "stdout",
     "output_type": "stream",
     "text": [
      "나누기 전용 계산기입니다.\n",
      "첫 번째 숫자를 입력하세요. : 6\n",
      "두 번째 숫자를 입력하세요. : 3\n",
      "알 수 없는 에러가 발생했다.\n"
     ]
    }
   ],
   "source": [
    "try:\n",
    "    print(\"나누기 전용 계산기입니다.\")\n",
    "    nums = []\n",
    "    nums.append(int(input(\"첫 번째 숫자를 입력하세요. : \")))\n",
    "    nums.append(int(input(\"두 번째 숫자를 입력하세요. : \")))\n",
    "    #nums.append(int(nums[0] / nums[1]))\n",
    "    print(\"{0} / {1} = {2}\".format(nums[0], nums[1],nums[2]))\n",
    "except ValueError: #위 에러에서 나온 ValueError 입력\n",
    "    print(\"Error!!!! 잘못된 값을 입력했습니다.\")\n",
    "except ZeroDivisionError as err: #err이라는 변수에 에러를 입력해준다.\n",
    "    print(err)\n",
    "except:\n",
    "    print(\"알 수 없는 에러가 발생했다.\")"
   ]
  },
  {
   "cell_type": "markdown",
   "metadata": {},
   "source": [
    "위 코드는 ValueError나 ZeroDivisionError가 아닌 다른 아무 에러에 대해서 출력해준다.\n",
    "\n",
    "만약에 그 에러에 대한 정보를 알고 싶다면"
   ]
  },
  {
   "cell_type": "code",
   "execution_count": 18,
   "metadata": {},
   "outputs": [
    {
     "name": "stdout",
     "output_type": "stream",
     "text": [
      "나누기 전용 계산기입니다.\n",
      "첫 번째 숫자를 입력하세요. : 6\n",
      "두 번째 숫자를 입력하세요. : 3\n",
      "list index out of range\n"
     ]
    }
   ],
   "source": [
    "try:\n",
    "    print(\"나누기 전용 계산기입니다.\")\n",
    "    nums = []\n",
    "    nums.append(int(input(\"첫 번째 숫자를 입력하세요. : \")))\n",
    "    nums.append(int(input(\"두 번째 숫자를 입력하세요. : \")))\n",
    "    #nums.append(int(nums[0] / nums[1]))\n",
    "    print(\"{0} / {1} = {2}\".format(nums[0], nums[1],nums[2]))\n",
    "except ValueError: #위 에러에서 나온 ValueError 입력\n",
    "    print(\"Error!!!! 잘못된 값을 입력했습니다.\")\n",
    "except ZeroDivisionError as err: #err이라는 변수에 에러를 입력해준다.\n",
    "    print(err)\n",
    "except Exception as err:\n",
    "    print(err)"
   ]
  },
  {
   "cell_type": "markdown",
   "metadata": {},
   "source": [
    "Exception과 그 내용을 담는 변수 err만 선언해줘도 에러명을 알 수 있다."
   ]
  },
  {
   "cell_type": "markdown",
   "metadata": {},
   "source": [
    "## 에러 발생시키기\n",
    "\n",
    "**raise**를 통해서 에러를 발생시킬 수 있다."
   ]
  },
  {
   "cell_type": "code",
   "execution_count": 20,
   "metadata": {
    "scrolled": true
   },
   "outputs": [
    {
     "name": "stdout",
     "output_type": "stream",
     "text": [
      "두 자리 나누기 전용 계산기입니다.\n",
      "첫 번째 숫자를 입력하세요. : 10\n",
      "두 번째 숫자를 입력하세요. : 10\n",
      "10 / 10 = 1\n"
     ]
    }
   ],
   "source": [
    "try:\n",
    "    print(\"두 자리 나누기 전용 계산기입니다.\")\n",
    "    num1 = int(input(\"첫 번째 숫자를 입력하세요. : \"))\n",
    "    num2 = int(input(\"두 번째 숫자를 입력하세요. : \"))\n",
    "    if num1 >= 100 or num2 >= 100:\n",
    "        raise ValueError\n",
    "    print(\"{0} / {1} = {2}\".format(num1, num2, int(num1/num2)))\n",
    "except ValueError:\n",
    "    print(\"잘못된 값을 입력했습니다. 두 자리 숫자만 입력하세요,\")"
   ]
  },
  {
   "cell_type": "code",
   "execution_count": 21,
   "metadata": {},
   "outputs": [
    {
     "name": "stdout",
     "output_type": "stream",
     "text": [
      "두 자리 나누기 전용 계산기입니다.\n",
      "첫 번째 숫자를 입력하세요. : 100\n",
      "두 번째 숫자를 입력하세요. : 5\n",
      "잘못된 값을 입력했습니다. 두 자리 숫자만 입력하세요,\n"
     ]
    }
   ],
   "source": [
    "try:\n",
    "    print(\"두 자리 나누기 전용 계산기입니다.\")\n",
    "    num1 = int(input(\"첫 번째 숫자를 입력하세요. : \"))\n",
    "    num2 = int(input(\"두 번째 숫자를 입력하세요. : \"))\n",
    "    if num1 >= 100 or num2 >= 100:\n",
    "        raise ValueError\n",
    "    print(\"{0} / {1} = {2}\".format(num1, num2, int(num1/num2)))\n",
    "except ValueError:\n",
    "    print(\"잘못된 값을 입력했습니다. 두 자리 숫자만 입력하세요,\")"
   ]
  },
  {
   "cell_type": "markdown",
   "metadata": {},
   "source": [
    "잘못 입력했을 때를 방지하여 raise ValueError가 일어나면 자연스럽게 except 구문으로 내려올 수 있도록 한다.\n",
    "\n",
    "값을 출력해주는 부분은 실행되지 않고 바로 except 구문이 있는 곳으로 내려왔다."
   ]
  },
  {
   "cell_type": "markdown",
   "metadata": {},
   "source": [
    "## 사용자 정의 예외처리\n",
    "\n",
    "우리가 직접 에러를 정의해서 사용할 수 있다."
   ]
  },
  {
   "cell_type": "code",
   "execution_count": 22,
   "metadata": {
    "scrolled": true
   },
   "outputs": [
    {
     "name": "stdout",
     "output_type": "stream",
     "text": [
      "두 자리 나누기 전용 계산기입니다.\n",
      "첫 번째 숫자를 입력하세요. : 100\n",
      "두 번째 숫자를 입력하세요. : 2\n",
      "에러가 발생했습니다. 한 자리 숫자만 입력하세요.\n"
     ]
    }
   ],
   "source": [
    "class Big3NumberError(Exception):\n",
    "    pass\n",
    "\n",
    "try:\n",
    "    print(\"두 자리 나누기 전용 계산기입니다.\")\n",
    "    num1 = int(input(\"첫 번째 숫자를 입력하세요. : \"))\n",
    "    num2 = int(input(\"두 번째 숫자를 입력하세요. : \"))\n",
    "    if num1 >= 100 or num2 >= 100:\n",
    "        raise Big3NumberError\n",
    "    print(\"{0} / {1} = {2}\".format(num1, num2, int(num1/num2)))\n",
    "except ValueError:\n",
    "    print(\"잘못된 값을 입력했습니다. 두 자리 숫자만 입력하세요,\")\n",
    "except Big3NumberError:\n",
    "    print(\"에러가 발생했습니다. 한 자리 숫자만 입력하세요.\")"
   ]
  },
  {
   "cell_type": "code",
   "execution_count": 23,
   "metadata": {},
   "outputs": [
    {
     "name": "stdout",
     "output_type": "stream",
     "text": [
      "두 자리 나누기 전용 계산기입니다.\n",
      "첫 번째 숫자를 입력하세요. : 100\n",
      "두 번째 숫자를 입력하세요. : 2\n",
      "에러가 발생했습니다. 한 자리 숫자만 입력하세요.\n",
      "입력값 : 100, 2\n"
     ]
    }
   ],
   "source": [
    "class Big3NumberError(Exception):\n",
    "    def __init__(self, msg):\n",
    "        self.msg = msg\n",
    "    def __str__(self):\n",
    "        return self.msg\n",
    "\n",
    "try:\n",
    "    print(\"두 자리 나누기 전용 계산기입니다.\")\n",
    "    num1 = int(input(\"첫 번째 숫자를 입력하세요. : \"))\n",
    "    num2 = int(input(\"두 번째 숫자를 입력하세요. : \"))\n",
    "    if num1 >= 100 or num2 >= 100:\n",
    "        raise Big3NumberError(\"입력값 : {0}, {1}\".format(num1, num2))\n",
    "    print(\"{0} / {1} = {2}\".format(num1, num2, int(num1/num2)))\n",
    "except ValueError:\n",
    "    print(\"잘못된 값을 입력했습니다. 두 자리 숫자만 입력하세요,\")\n",
    "except Big3NumberError as err:\n",
    "    print(\"에러가 발생했습니다. 한 자리 숫자만 입력하세요.\")\n",
    "    print(err)"
   ]
  },
  {
   "cell_type": "markdown",
   "metadata": {},
   "source": [
    "Big3NumberError 클래스에 Exception을 상속해준다.\n",
    "\n",
    "그리고 Big3NumberError에서 전달해주는 인자를 받아 사용자가 원하는 에러도 띄워줄 수 있다."
   ]
  },
  {
   "cell_type": "markdown",
   "metadata": {},
   "source": [
    "## finally\n",
    "\n",
    "예외처리 부분에서 정상적으로 처리가 되든, 오류가 발생하든 상관없이 무조건 실행되는 구문\n",
    "\n",
    "try문 마지막에다가 쓸 수 있다."
   ]
  },
  {
   "cell_type": "code",
   "execution_count": 24,
   "metadata": {},
   "outputs": [
    {
     "name": "stdout",
     "output_type": "stream",
     "text": [
      "두 자리 나누기 전용 계산기입니다.\n",
      "첫 번째 숫자를 입력하세요. : 100\n",
      "두 번째 숫자를 입력하세요. : 3\n",
      "에러가 발생했습니다. 한 자리 숫자만 입력하세요.\n",
      "입력값 : 100, 3\n",
      "계산기를 이용해주셔서 감사합니다.\n"
     ]
    }
   ],
   "source": [
    "class Big3NumberError(Exception):\n",
    "    def __init__(self, msg):\n",
    "        self.msg = msg\n",
    "    def __str__(self):\n",
    "        return self.msg\n",
    "\n",
    "try:\n",
    "    print(\"두 자리 나누기 전용 계산기입니다.\")\n",
    "    num1 = int(input(\"첫 번째 숫자를 입력하세요. : \"))\n",
    "    num2 = int(input(\"두 번째 숫자를 입력하세요. : \"))\n",
    "    if num1 >= 100 or num2 >= 100:\n",
    "        raise Big3NumberError(\"입력값 : {0}, {1}\".format(num1, num2))\n",
    "    print(\"{0} / {1} = {2}\".format(num1, num2, int(num1/num2)))\n",
    "except ValueError:\n",
    "    print(\"잘못된 값을 입력했습니다. 두 자리 숫자만 입력하세요,\")\n",
    "except Big3NumberError as err:\n",
    "    print(\"에러가 발생했습니다. 한 자리 숫자만 입력하세요.\")\n",
    "    print(err)\n",
    "finally:\n",
    "    print(\"계산기를 이용해주셔서 감사합니다.\")"
   ]
  },
  {
   "cell_type": "markdown",
   "metadata": {},
   "source": [
    "예외처리를 함으로써 프로그램이 종료되는 걸 막을 수 있으며 성공적으로 프로그램을 만들 수 있다!\n",
    "\n",
    "애용해보자!"
   ]
  },
  {
   "cell_type": "markdown",
   "metadata": {},
   "source": [
    "## Quiz"
   ]
  },
  {
   "cell_type": "code",
   "execution_count": 1,
   "metadata": {
    "scrolled": false
   },
   "outputs": [
    {
     "name": "stdout",
     "output_type": "stream",
     "text": [
      "[남은 치킨 : 10]\n",
      "치킨 몇 마리 주문하시겠습니까?3\n",
      "[대기번호 1] 3마리 주문이 완료되었습니다.\n",
      "[남은 치킨 : 7]\n",
      "치킨 몇 마리 주문하시겠습니까?3\n",
      "[대기번호 2] 3마리 주문이 완료되었습니다.\n",
      "[남은 치킨 : 4]\n",
      "치킨 몇 마리 주문하시겠습니까?3\n",
      "[대기번호 3] 3마리 주문이 완료되었습니다.\n",
      "[남은 치킨 : 1]\n",
      "치킨 몇 마리 주문하시겠습니까?3\n",
      "재료가 부족합니다.\n",
      "[남은 치킨 : 1]\n",
      "치킨 몇 마리 주문하시겠습니까?1\n",
      "[대기번호 4] 1마리 주문이 완료되었습니다.\n",
      "[남은 치킨 : 0]\n",
      "치킨 몇 마리 주문하시겠습니까?0\n",
      "재고가 소진되어 더 이상 주문을 받지 않습니다.\n"
     ]
    }
   ],
   "source": [
    "class SoldOutError(Exception):\n",
    "    pass\n",
    "\n",
    "try:\n",
    "    chicken = 10\n",
    "    waiting = 1\n",
    "    while(True):\n",
    "        print(\"[남은 치킨 : {0}]\".format(chicken))\n",
    "        order = int(input(\"치킨 몇 마리 주문하시겠습니까?\"))\n",
    "        if order > chicken:\n",
    "            print(\"재료가 부족합니다.\")\n",
    "        elif order >= 10 or order == 0:\n",
    "            raise SoldOutError\n",
    "        elif order < 1:\n",
    "            raise ValueError\n",
    "        else:\n",
    "            print(\"[대기번호 {0}] {1}마리 주문이 완료되었습니다.\"\\\n",
    "                 .format(waiting, order))\n",
    "            waiting += 1\n",
    "            chicken -= order\n",
    "except ValueError:\n",
    "    print(\"잘못된 값을 입력하였습니다.\")\n",
    "except SoldOutError as err:\n",
    "    print(\"재고가 소진되어 더 이상 주문을 받지 않습니다.\")"
   ]
  },
  {
   "attachments": {
    "image.png": {
     "image/png": "[encoded data removed]"
    }
   },
   "cell_type": "markdown",
   "metadata": {},
   "source": [
    "![image.png](attachment:image.png)"
   ]
  }
 ],
 "metadata": {
  "kernelspec": {
   "display_name": "Python 3",
   "language": "python",
   "name": "python3"
  },
  "language_info": {
   "codemirror_mode": {
    "name": "ipython",
    "version": 3
   },
   "file_extension": ".py",
   "mimetype": "text/x-python",
   "name": "python",
   "nbconvert_exporter": "python",
   "pygments_lexer": "ipython3",
   "version": "3.6.4"
  }
 },
 "nbformat": 4,
 "nbformat_minor": 2
}
