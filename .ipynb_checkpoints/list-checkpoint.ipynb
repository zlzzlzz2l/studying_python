{
 "cells": [
  {
   "cell_type": "markdown",
   "metadata": {},
   "source": [
    "## List (리스트)\n",
    "\n",
    " : 순서를 갖는 객체의 집합\n",
    " \n",
    " f1 = \"김혜주\"\n",
    " \n",
    " f2 = \"이호림\"\n",
    " \n",
    " f3 = \"박종현\"\n",
    " \n",
    " 이런식으로 서로 관련있는 문자들을 하나의 변수에 하나씩 대입했는데 리스트를 이용하면 **한 줄로 표현**할 수 있다."
   ]
  },
  {
   "cell_type": "code",
   "execution_count": 1,
   "metadata": {},
   "outputs": [
    {
     "name": "stdout",
     "output_type": "stream",
     "text": [
      "['김혜주', '이호림', '박종현']\n"
     ]
    }
   ],
   "source": [
    "friend = [\"김혜주\", \"이호림\", \"박종현\"]\n",
    "print(friend)"
   ]
  },
  {
   "cell_type": "markdown",
   "metadata": {},
   "source": [
    "**리스트**에 **숫자**도 넣을 수 있다."
   ]
  },
  {
   "cell_type": "code",
   "execution_count": 2,
   "metadata": {},
   "outputs": [
    {
     "name": "stdout",
     "output_type": "stream",
     "text": [
      "[1, 2, 3]\n"
     ]
    }
   ],
   "source": [
    "number = [1, 2, 3]\n",
    "print(number)"
   ]
  },
  {
   "cell_type": "markdown",
   "metadata": {},
   "source": [
    "**이호림**이라는 친구의 위치를 알고싶을 때에는 **index**를 이용하면 된다."
   ]
  },
  {
   "cell_type": "code",
   "execution_count": 3,
   "metadata": {},
   "outputs": [
    {
     "name": "stdout",
     "output_type": "stream",
     "text": [
      "1\n"
     ]
    }
   ],
   "source": [
    "print(friend.index(\"이호림\"))"
   ]
  },
  {
   "cell_type": "markdown",
   "metadata": {},
   "source": [
    "중간에 친구를 **추가**하고 싶을 수도 있다.\n",
    "\n",
    "그럴 때에는 **append()**를 사용하면 된다."
   ]
  },
  {
   "cell_type": "code",
   "execution_count": 4,
   "metadata": {},
   "outputs": [
    {
     "name": "stdout",
     "output_type": "stream",
     "text": [
      "['김혜주', '이호림', '박종현', '이희재']\n"
     ]
    }
   ],
   "source": [
    "friend.append(\"이희재\")\n",
    "print(friend)"
   ]
  },
  {
   "cell_type": "markdown",
   "metadata": {},
   "source": [
    "**append()**를 이용하면 무조건 **맨 뒤에 추가**된다.\n",
    "\n",
    "**어떠한 객체 사이에 또 다른 객체를 집어넣고 싶을 때**에는 **insert()**를 쓰면 된다.\n",
    "\n",
    "**insert(index, object)**"
   ]
  },
  {
   "cell_type": "code",
   "execution_count": 6,
   "metadata": {},
   "outputs": [
    {
     "name": "stdout",
     "output_type": "stream",
     "text": [
      "['김혜주', '고지원', '고지원', '이호림', '박종현', '이희재']\n"
     ]
    }
   ],
   "source": [
    "friend.insert(1, \"고지원\")\n",
    "print(friend)"
   ]
  },
  {
   "cell_type": "markdown",
   "metadata": {},
   "source": [
    "List 안에 있는 객체들을 **뒤에서 꺼내고 싶을 때**에는 **pop()**을 쓴다."
   ]
  },
  {
   "cell_type": "markdown",
   "metadata": {},
   "source": [
    "print(friend.pop())\n",
    "print(friend)"
   ]
  },
  {
   "cell_type": "markdown",
   "metadata": {},
   "source": [
    "**pop()**을 이용하여 꺼낼 때에 **list안의 객체가 하나씩 줄어드는 것을 확인**할 수 있다."
   ]
  },
  {
   "cell_type": "code",
   "execution_count": 8,
   "metadata": {},
   "outputs": [
    {
     "name": "stdout",
     "output_type": "stream",
     "text": [
      "박종현\n",
      "['김혜주', '고지원', '고지원', '이호림']\n",
      "이호림\n",
      "['김혜주', '고지원', '고지원']\n"
     ]
    }
   ],
   "source": [
    "print(friend.pop())\n",
    "print(friend)\n",
    "print(friend.pop())\n",
    "print(friend)"
   ]
  },
  {
   "cell_type": "markdown",
   "metadata": {},
   "source": [
    "**count()** : 같은 객체가 몇 개 있는지 확인"
   ]
  },
  {
   "cell_type": "code",
   "execution_count": 9,
   "metadata": {},
   "outputs": [
    {
     "name": "stdout",
     "output_type": "stream",
     "text": [
      "['김혜주', '고지원', '고지원', '김혜주']\n"
     ]
    }
   ],
   "source": [
    "friend.append(\"김혜주\")\n",
    "print(friend)"
   ]
  },
  {
   "cell_type": "code",
   "execution_count": 10,
   "metadata": {},
   "outputs": [
    {
     "data": {
      "text/plain": [
       "2"
      ]
     },
     "execution_count": 10,
     "metadata": {},
     "output_type": "execute_result"
    }
   ],
   "source": [
    "friend.count(\"김혜주\")"
   ]
  },
  {
   "cell_type": "markdown",
   "metadata": {},
   "source": [
    "**sort()** : 객체를 순서대로 정렬"
   ]
  },
  {
   "cell_type": "code",
   "execution_count": 11,
   "metadata": {},
   "outputs": [
    {
     "name": "stdout",
     "output_type": "stream",
     "text": [
      "[1, 2, 3, 4, 5, 6]\n"
     ]
    }
   ],
   "source": [
    "nlist = [3,6,4,2,1,5]\n",
    "nlist.sort()\n",
    "print(nlist)"
   ]
  },
  {
   "cell_type": "markdown",
   "metadata": {},
   "source": [
    "**reverse()** : 객체를 역으로 정렬"
   ]
  },
  {
   "cell_type": "code",
   "execution_count": 12,
   "metadata": {},
   "outputs": [
    {
     "name": "stdout",
     "output_type": "stream",
     "text": [
      "[6, 5, 4, 3, 2, 1]\n"
     ]
    }
   ],
   "source": [
    "nlist.reverse()\n",
    "print(nlist)"
   ]
  },
  {
   "cell_type": "markdown",
   "metadata": {},
   "source": [
    "**clear()** : 객체 모두 지우기"
   ]
  },
  {
   "cell_type": "code",
   "execution_count": 13,
   "metadata": {},
   "outputs": [
    {
     "name": "stdout",
     "output_type": "stream",
     "text": [
      "[]\n"
     ]
    }
   ],
   "source": [
    "nlist.clear()\n",
    "print(nlist)"
   ]
  },
  {
   "cell_type": "markdown",
   "metadata": {},
   "source": [
    "### list 안에 여러가지 자료형 사용 가능"
   ]
  },
  {
   "cell_type": "code",
   "execution_count": 14,
   "metadata": {},
   "outputs": [
    {
     "name": "stdout",
     "output_type": "stream",
     "text": [
      "['김아현', 24, True]\n"
     ]
    }
   ],
   "source": [
    "mlist = [\"김아현\", 24, True]\n",
    "print(mlist)"
   ]
  },
  {
   "cell_type": "markdown",
   "metadata": {},
   "source": [
    "### list와 list를 섞어서 하나의 리스트로 만들기 (extend)"
   ]
  },
  {
   "cell_type": "code",
   "execution_count": 15,
   "metadata": {},
   "outputs": [
    {
     "name": "stdout",
     "output_type": "stream",
     "text": [
      "[3, 5, 2, 1, 5, '김아현', 24, True]\n"
     ]
    }
   ],
   "source": [
    "numL = [3,5,2,1,5]\n",
    "numL.extend(mlist)\n",
    "print(numL)"
   ]
  }
 ],
 "metadata": {
  "kernelspec": {
   "display_name": "Python 3",
   "language": "python",
   "name": "python3"
  },
  "language_info": {
   "codemirror_mode": {
    "name": "ipython",
    "version": 3
   },
   "file_extension": ".py",
   "mimetype": "text/x-python",
   "name": "python",
   "nbconvert_exporter": "python",
   "pygments_lexer": "ipython3",
   "version": "3.6.4"
  }
 },
 "nbformat": 4,
 "nbformat_minor": 2
}
