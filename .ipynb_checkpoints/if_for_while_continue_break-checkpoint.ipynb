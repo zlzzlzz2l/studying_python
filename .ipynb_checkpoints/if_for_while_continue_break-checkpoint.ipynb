{
 "cells": [
  {
   "cell_type": "markdown",
   "metadata": {},
   "source": [
    "## if문\n",
    "\n",
    "조건문 안에 **and나 or**을 넣어서 여러가지 경우를 비교할 수 있다.\n",
    "\n",
    "**if 조건: <br>\n",
    "elif 조건: <br>\n",
    "else:**"
   ]
  },
  {
   "cell_type": "markdown",
   "metadata": {},
   "source": [
    "## for문\n",
    "\n",
    "**for 변수명 in 범위:**"
   ]
  },
  {
   "cell_type": "code",
   "execution_count": 2,
   "metadata": {},
   "outputs": [
    {
     "name": "stdout",
     "output_type": "stream",
     "text": [
      "대기번호 : 0\n",
      "대기번호 : 1\n",
      "대기번호 : 2\n",
      "대기번호 : 3\n",
      "대기번호 : 4\n"
     ]
    }
   ],
   "source": [
    "for waiting_num in [0, 1, 2, 3, 4]:\n",
    "    print(\"대기번호 : {0}\".format(waiting_num))"
   ]
  },
  {
   "cell_type": "markdown",
   "metadata": {},
   "source": [
    "list안에 있는 객체들을 하나씩 waiting_num에 넣어주면서(부르면서) print문을 5번 출력하게 된다."
   ]
  },
  {
   "cell_type": "code",
   "execution_count": 3,
   "metadata": {},
   "outputs": [
    {
     "name": "stdout",
     "output_type": "stream",
     "text": [
      "대기번호 : 1\n",
      "대기번호 : 2\n",
      "대기번호 : 3\n",
      "대기번호 : 4\n",
      "대기번호 : 5\n"
     ]
    }
   ],
   "source": [
    "for waiting_num in range(1, 6): # 1부터 5까지\n",
    "    print(\"대기번호 : {0}\".format(waiting_num))"
   ]
  },
  {
   "cell_type": "code",
   "execution_count": 5,
   "metadata": {},
   "outputs": [
    {
     "name": "stdout",
     "output_type": "stream",
     "text": [
      "김혜주이(가) 노크했습니다.\n",
      "이호림이(가) 노크했습니다.\n",
      "박종현이(가) 노크했습니다.\n"
     ]
    }
   ],
   "source": [
    "friend = [\"김혜주\", \"이호림\", \"박종현\"]\n",
    "for myhome in friend:\n",
    "    print(\"{0}이(가) 노크했습니다.\".format(myhome))"
   ]
  },
  {
   "cell_type": "markdown",
   "metadata": {},
   "source": [
    "## while문\n",
    "\n",
    "어떤 조건이 만족할 때까지 반복하라는 의미"
   ]
  },
  {
   "cell_type": "code",
   "execution_count": 7,
   "metadata": {},
   "outputs": [
    {
     "name": "stdout",
     "output_type": "stream",
     "text": [
      "김혜주, 왜 불렀어. 3번만 더 물어볼게\n",
      "김혜주, 왜 불렀어. 2번만 더 물어볼게\n",
      "김혜주, 왜 불렀어. 1번만 더 물어볼게\n",
      "안부른 걸로 ㅋㅋ\n"
     ]
    }
   ],
   "source": [
    "friend = \"김혜주\"\n",
    "index = 3\n",
    "while index >= 1:\n",
    "    print(\"{0}, 왜 불렀어. {1}번만 더 물어볼게\".format(friend, index))\n",
    "    index -= 1\n",
    "    if index == 0:\n",
    "        print(\"안부른 걸로 ㅋㅋ\")"
   ]
  },
  {
   "cell_type": "markdown",
   "metadata": {},
   "source": [
    "계속해서 while문이 돌아가는 것을 **무한 루프**라고 한다.\n",
    "\n",
    "ex) while True:"
   ]
  },
  {
   "cell_type": "code",
   "execution_count": 1,
   "metadata": {},
   "outputs": [
    {
     "name": "stdout",
     "output_type": "stream",
     "text": [
      "이호림 집에서 나올 때 이름 말하면서 나오길..\n",
      "이름을 대시오이호림\n"
     ]
    }
   ],
   "source": [
    "friend = \"이호림\"\n",
    "person = \"unknown\"\n",
    "\n",
    "while friend != person:\n",
    "    print(\"{0} 집에서 나올 때 이름 말하면서 나오길..\".format(friend))\n",
    "    person = input(\"이름을 대시오\")"
   ]
  },
  {
   "cell_type": "markdown",
   "metadata": {},
   "source": [
    "## Continue & Break\n",
    "\n",
    "반복문 내에서 사용 가능하다.<br>\n",
    "**continue** : 해당 문장을 수행하지 않고 건너 뛰어 다음 반복으로 넘어간다.(skip)<br>\n",
    "**break** : 바로 반복문을 탈출한다."
   ]
  },
  {
   "cell_type": "code",
   "execution_count": 4,
   "metadata": {
    "scrolled": true
   },
   "outputs": [
    {
     "name": "stdout",
     "output_type": "stream",
     "text": [
      "김혜주, 현재 스카에 남은 인원\n",
      "나도 집 가고싶다ㅠ\n"
     ]
    }
   ],
   "source": [
    "absent = [\"이호림\"]\n",
    "member = [\"김혜주\", \"김아현\", \"박종현\", \"이호림\"]\n",
    "me = [\"김아현\"]\n",
    "for friend in member:\n",
    "    if friend in absent:\n",
    "        continue\n",
    "    elif friend in me:\n",
    "        print(\"나도 집 가고싶다ㅠ\")\n",
    "        break;\n",
    "    print(\"{0}, 현재 스카에 남은 인원\".format(friend))"
   ]
  },
  {
   "cell_type": "markdown",
   "metadata": {},
   "source": [
    "## 한 줄 for문"
   ]
  },
  {
   "cell_type": "markdown",
   "metadata": {},
   "source": [
    "변수 num에 있는 값을 i에 넣어주는데 i+100을 해줘 list에 넣어준다."
   ]
  },
  {
   "cell_type": "code",
   "execution_count": 5,
   "metadata": {},
   "outputs": [
    {
     "name": "stdout",
     "output_type": "stream",
     "text": [
      "[10, 20, 30, 40, 50]\n",
      "[110, 120, 130, 140, 150]\n"
     ]
    }
   ],
   "source": [
    "num = [10, 20, 30, 40, 50]\n",
    "print(num)\n",
    "num = [100+i for i in num]\n",
    "print(num)"
   ]
  },
  {
   "cell_type": "code",
   "execution_count": 6,
   "metadata": {},
   "outputs": [
    {
     "name": "stdout",
     "output_type": "stream",
     "text": [
      "['Kimhyeju', 'Parkjonghyun', 'Kimahyun']\n",
      "[8, 12, 8]\n"
     ]
    }
   ],
   "source": [
    "name = [\"Kimhyeju\", \"Parkjonghyun\", \"Kimahyun\"]\n",
    "print(name)\n",
    "name = [len(i) for i in name]\n",
    "print(name)"
   ]
  },
  {
   "cell_type": "code",
   "execution_count": 10,
   "metadata": {
    "scrolled": true
   },
   "outputs": [
    {
     "name": "stdout",
     "output_type": "stream",
     "text": [
      "['KIMHYEJU', 'PARKJONGHYUN', 'KIMAHYUN']\n"
     ]
    }
   ],
   "source": [
    "name = [\"Kimhyeju\", \"Parkjonghyun\", \"Kimahyun\"]\n",
    "name = [i.upper() for i in name]\n",
    "print(name)"
   ]
  },
  {
   "cell_type": "markdown",
   "metadata": {},
   "source": [
    "## Quiz"
   ]
  },
  {
   "cell_type": "code",
   "execution_count": 11,
   "metadata": {},
   "outputs": [
    {
     "name": "stdout",
     "output_type": "stream",
     "text": [
      "31\n",
      "35\n",
      "39\n",
      "15\n",
      "10\n",
      "22\n",
      "11\n",
      "31\n",
      "8\n",
      "35\n",
      "46\n",
      "19\n",
      "49\n",
      "10\n",
      "34\n",
      "7\n",
      "47\n",
      "16\n",
      "35\n",
      "54\n",
      "50\n",
      "22\n",
      "21\n",
      "18\n",
      "8\n",
      "19\n",
      "13\n",
      "14\n",
      "15\n",
      "28\n",
      "48\n",
      "40\n",
      "49\n",
      "27\n",
      "30\n",
      "36\n",
      "7\n",
      "32\n",
      "5\n",
      "8\n",
      "22\n",
      "16\n",
      "12\n",
      "12\n",
      "15\n",
      "19\n",
      "39\n",
      "54\n",
      "23\n",
      "24\n"
     ]
    }
   ],
   "source": [
    "from random import *\n",
    "\n",
    "for var in range(1, 51):\n",
    "    time = int(random() * 50) + 5\n",
    "    if 5 <= time or 15 >= time:\n",
    "        print()"
   ]
  }
 ],
 "metadata": {
  "kernelspec": {
   "display_name": "Python 3",
   "language": "python",
   "name": "python3"
  },
  "language_info": {
   "codemirror_mode": {
    "name": "ipython",
    "version": 3
   },
   "file_extension": ".py",
   "mimetype": "text/x-python",
   "name": "python",
   "nbconvert_exporter": "python",
   "pygments_lexer": "ipython3",
   "version": "3.6.4"
  }
 },
 "nbformat": 4,
 "nbformat_minor": 2
}
