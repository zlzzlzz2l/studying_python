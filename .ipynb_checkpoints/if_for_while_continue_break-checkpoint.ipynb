{
 "cells": [
  {
   "cell_type": "markdown",
   "metadata": {},
   "source": [
    "## if문\n",
    "\n",
    "조건문 안에 **and나 or**을 넣어서 여러가지 경우를 비교할 수 있다.\n",
    "\n",
    "**if 조건: <br>\n",
    "elif 조건: <br>\n",
    "else:**"
   ]
  },
  {
   "cell_type": "markdown",
   "metadata": {},
   "source": [
    "## for문\n",
    "\n",
    "**for 변수명 in 범위:**"
   ]
  },
  {
   "cell_type": "code",
   "execution_count": 2,
   "metadata": {},
   "outputs": [
    {
     "name": "stdout",
     "output_type": "stream",
     "text": [
      "대기번호 : 0\n",
      "대기번호 : 1\n",
      "대기번호 : 2\n",
      "대기번호 : 3\n",
      "대기번호 : 4\n"
     ]
    }
   ],
   "source": [
    "for waiting_num in [0, 1, 2, 3, 4]:\n",
    "    print(\"대기번호 : {0}\".format(waiting_num))"
   ]
  },
  {
   "cell_type": "markdown",
   "metadata": {},
   "source": [
    "list안에 있는 객체들을 하나씩 waiting_num에 넣어주면서(부르면서) print문을 5번 출력하게 된다."
   ]
  },
  {
   "cell_type": "code",
   "execution_count": 3,
   "metadata": {},
   "outputs": [
    {
     "name": "stdout",
     "output_type": "stream",
     "text": [
      "대기번호 : 1\n",
      "대기번호 : 2\n",
      "대기번호 : 3\n",
      "대기번호 : 4\n",
      "대기번호 : 5\n"
     ]
    }
   ],
   "source": [
    "for waiting_num in range(1, 6): # 1부터 5까지\n",
    "    print(\"대기번호 : {0}\".format(waiting_num))"
   ]
  },
  {
   "cell_type": "code",
   "execution_count": 5,
   "metadata": {},
   "outputs": [
    {
     "name": "stdout",
     "output_type": "stream",
     "text": [
      "김혜주이(가) 노크했습니다.\n",
      "이호림이(가) 노크했습니다.\n",
      "박종현이(가) 노크했습니다.\n"
     ]
    }
   ],
   "source": [
    "friend = [\"김혜주\", \"이호림\", \"박종현\"]\n",
    "for myhome in friend:\n",
    "    print(\"{0}이(가) 노크했습니다.\".format(myhome))"
   ]
  },
  {
   "cell_type": "markdown",
   "metadata": {},
   "source": [
    "## while문\n",
    "\n",
    "어떤 조건이 만족할 때까지 반복하라는 의미"
   ]
  },
  {
   "cell_type": "code",
   "execution_count": 7,
   "metadata": {},
   "outputs": [
    {
     "name": "stdout",
     "output_type": "stream",
     "text": [
      "김혜주, 왜 불렀어. 3번만 더 물어볼게\n",
      "김혜주, 왜 불렀어. 2번만 더 물어볼게\n",
      "김혜주, 왜 불렀어. 1번만 더 물어볼게\n",
      "안부른 걸로 ㅋㅋ\n"
     ]
    }
   ],
   "source": [
    "friend = \"김혜주\"\n",
    "index = 3\n",
    "while index >= 1:\n",
    "    print(\"{0}, 왜 불렀어. {1}번만 더 물어볼게\".format(friend, index))\n",
    "    index -= 1\n",
    "    if index == 0:\n",
    "        print(\"안부른 걸로 ㅋㅋ\")"
   ]
  },
  {
   "cell_type": "markdown",
   "metadata": {},
   "source": [
    "계속해서 while문이 돌아가는 것을 **무한 루프**라고 한다.\n",
    "\n",
    "ex) while True:"
   ]
  },
  {
   "cell_type": "code",
   "execution_count": 1,
   "metadata": {},
   "outputs": [
    {
     "name": "stdout",
     "output_type": "stream",
     "text": [
      "이호림 집에서 나올 때 이름 말하면서 나오길..\n",
      "이름을 대시오이호림\n"
     ]
    }
   ],
   "source": [
    "friend = \"이호림\"\n",
    "person = \"unknown\"\n",
    "\n",
    "while friend != person:\n",
    "    print(\"{0} 집에서 나올 때 이름 말하면서 나오길..\".format(friend))\n",
    "    person = input(\"이름을 대시오\")"
   ]
  },
  {
   "cell_type": "markdown",
   "metadata": {},
   "source": [
    "## Continue & Break\n",
    "\n",
    "반복문 내에서 사용 가능하다.<br>\n",
    "**continue** : 해당 문장을 수행하지 않고 건너 뛰어 다음 반복으로 넘어간다.(skip)<br>\n",
    "**break** : 바로 반복문을 탈출한다."
   ]
  },
  {
   "cell_type": "code",
   "execution_count": 4,
   "metadata": {
    "scrolled": true
   },
   "outputs": [
    {
     "name": "stdout",
     "output_type": "stream",
     "text": [
      "김혜주, 현재 스카에 남은 인원\n",
      "나도 집 가고싶다ㅠ\n"
     ]
    }
   ],
   "source": [
    "absent = [\"이호림\"]\n",
    "member = [\"김혜주\", \"김아현\", \"박종현\", \"이호림\"]\n",
    "me = [\"김아현\"]\n",
    "for friend in member:\n",
    "    if friend in absent:\n",
    "        continue\n",
    "    elif friend in me:\n",
    "        print(\"나도 집 가고싶다ㅠ\")\n",
    "        break;\n",
    "    print(\"{0}, 현재 스카에 남은 인원\".format(friend))"
   ]
  },
  {
   "cell_type": "markdown",
   "metadata": {},
   "source": [
    "## 한 줄 for문"
   ]
  },
  {
   "cell_type": "markdown",
   "metadata": {},
   "source": [
    "변수 num에 있는 값을 i에 넣어주는데 i+100을 해줘 list에 넣어준다."
   ]
  },
  {
   "cell_type": "code",
   "execution_count": 5,
   "metadata": {},
   "outputs": [
    {
     "name": "stdout",
     "output_type": "stream",
     "text": [
      "[10, 20, 30, 40, 50]\n",
      "[110, 120, 130, 140, 150]\n"
     ]
    }
   ],
   "source": [
    "num = [10, 20, 30, 40, 50]\n",
    "print(num)\n",
    "num = [100+i for i in num]\n",
    "print(num)"
   ]
  },
  {
   "cell_type": "code",
   "execution_count": 6,
   "metadata": {},
   "outputs": [
    {
     "name": "stdout",
     "output_type": "stream",
     "text": [
      "['Kimhyeju', 'Parkjonghyun', 'Kimahyun']\n",
      "[8, 12, 8]\n"
     ]
    }
   ],
   "source": [
    "name = [\"Kimhyeju\", \"Parkjonghyun\", \"Kimahyun\"]\n",
    "print(name)\n",
    "name = [len(i) for i in name]\n",
    "print(name)"
   ]
  },
  {
   "cell_type": "code",
   "execution_count": 10,
   "metadata": {
    "scrolled": true
   },
   "outputs": [
    {
     "name": "stdout",
     "output_type": "stream",
     "text": [
      "['KIMHYEJU', 'PARKJONGHYUN', 'KIMAHYUN']\n"
     ]
    }
   ],
   "source": [
    "name = [\"Kimhyeju\", \"Parkjonghyun\", \"Kimahyun\"]\n",
    "name = [i.upper() for i in name]\n",
    "print(name)"
   ]
  },
  {
   "cell_type": "markdown",
   "metadata": {},
   "source": [
    "## Quiz"
   ]
  },
  {
   "cell_type": "code",
   "execution_count": 11,
   "metadata": {},
   "outputs": [
    {
     "name": "stdout",
     "output_type": "stream",
     "text": [
      "[ ] 1번째 손님 (소요시간 : 26분)\n",
      "[ ] 2번째 손님 (소요시간 : 20분)\n",
      "[ ] 3번째 손님 (소요시간 : 27분)\n",
      "[ ] 4번째 손님 (소요시간 : 54분)\n",
      "[ ] 5번째 손님 (소요시간 : 34분)\n",
      "[o] 6번째 손님 (소요시간 : 14분)\n",
      "[ ] 7번째 손님 (소요시간 : 17분)\n",
      "[ ] 8번째 손님 (소요시간 : 52분)\n",
      "[ ] 9번째 손님 (소요시간 : 50분)\n",
      "[o] 10번째 손님 (소요시간 : 7분)\n",
      "[ ] 11번째 손님 (소요시간 : 28분)\n",
      "[ ] 12번째 손님 (소요시간 : 51분)\n",
      "[ ] 13번째 손님 (소요시간 : 50분)\n",
      "[ ] 14번째 손님 (소요시간 : 17분)\n",
      "[o] 15번째 손님 (소요시간 : 6분)\n",
      "[ ] 16번째 손님 (소요시간 : 51분)\n",
      "[o] 17번째 손님 (소요시간 : 14분)\n",
      "[ ] 18번째 손님 (소요시간 : 50분)\n",
      "[o] 19번째 손님 (소요시간 : 15분)\n",
      "[ ] 20번째 손님 (소요시간 : 19분)\n",
      "[ ] 21번째 손님 (소요시간 : 43분)\n",
      "[o] 22번째 손님 (소요시간 : 9분)\n",
      "[ ] 23번째 손님 (소요시간 : 26분)\n",
      "[ ] 24번째 손님 (소요시간 : 52분)\n",
      "[ ] 25번째 손님 (소요시간 : 53분)\n",
      "[ ] 26번째 손님 (소요시간 : 39분)\n",
      "[ ] 27번째 손님 (소요시간 : 41분)\n",
      "[o] 28번째 손님 (소요시간 : 8분)\n",
      "[ ] 29번째 손님 (소요시간 : 45분)\n",
      "[o] 30번째 손님 (소요시간 : 8분)\n",
      "[ ] 31번째 손님 (소요시간 : 28분)\n",
      "[ ] 32번째 손님 (소요시간 : 23분)\n",
      "[ ] 33번째 손님 (소요시간 : 37분)\n",
      "[ ] 34번째 손님 (소요시간 : 22분)\n",
      "[ ] 35번째 손님 (소요시간 : 22분)\n",
      "[o] 36번째 손님 (소요시간 : 10분)\n",
      "[ ] 37번째 손님 (소요시간 : 22분)\n",
      "[ ] 38번째 손님 (소요시간 : 22분)\n",
      "[ ] 39번째 손님 (소요시간 : 35분)\n",
      "[ ] 40번째 손님 (소요시간 : 53분)\n",
      "[ ] 41번째 손님 (소요시간 : 51분)\n",
      "[ ] 42번째 손님 (소요시간 : 28분)\n",
      "[ ] 43번째 손님 (소요시간 : 40분)\n",
      "[ ] 44번째 손님 (소요시간 : 17분)\n",
      "[ ] 45번째 손님 (소요시간 : 26분)\n",
      "[o] 46번째 손님 (소요시간 : 11분)\n",
      "[ ] 47번째 손님 (소요시간 : 54분)\n",
      "[ ] 48번째 손님 (소요시간 : 25분)\n",
      "[o] 49번째 손님 (소요시간 : 10분)\n",
      "[ ] 50번째 손님 (소요시간 : 34분)\n",
      "총 탑승 승객 : 11\n"
     ]
    }
   ],
   "source": [
    "from random import *\n",
    "\n",
    "person = 0;\n",
    "\n",
    "for var in range(1, 51):\n",
    "    time = int(random() * 50) + 5\n",
    "    if 5 <= time and 15 >= time:\n",
    "        check = \"o\"\n",
    "        person += 1\n",
    "    else:\n",
    "        check = \" \"\n",
    "    print(\"[{0}] {1}번째 손님 (소요시간 : {2}분)\".format(check, var, time))\n",
    "print(\"총 탑승 승객 : %d\" % person)"
   ]
  }
 ],
 "metadata": {
  "kernelspec": {
   "display_name": "Python 3",
   "language": "python",
   "name": "python3"
  },
  "language_info": {
   "codemirror_mode": {
    "name": "ipython",
    "version": 3
   },
   "file_extension": ".py",
   "mimetype": "text/x-python",
   "name": "python",
   "nbconvert_exporter": "python",
   "pygments_lexer": "ipython3",
   "version": "3.6.4"
  }
 },
 "nbformat": 4,
 "nbformat_minor": 2
}
