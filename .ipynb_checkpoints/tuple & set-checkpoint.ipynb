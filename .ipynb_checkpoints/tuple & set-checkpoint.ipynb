{
 "cells": [
  {
   "cell_type": "markdown",
   "metadata": {},
   "source": [
    "## Tuple (튜플)\n",
    "\n",
    "**Tuple**은 **list**와는 다르게 **내용 변경** 및 **추가를 할 수 없다.**\n",
    "\n",
    "그래서 딱히 할 수 있는 건 없지만 **속도**가 리스트보다 **빠르다.**\n",
    "\n",
    "변경되지 않는 항목을 사용(고정된 값)할 때 tuple을 많이 활용한다.\n",
    "\n",
    "**<tuple 사용법>**\n",
    "\n",
    "var = (\"value\", \"value\")\n",
    "\n",
    "value는 **,**로 구분한다.\n",
    "\n",
    "값을 출력할 때에는 list와 동일하게 index 번호를 입력하면 된다."
   ]
  },
  {
   "cell_type": "code",
   "execution_count": 1,
   "metadata": {},
   "outputs": [
    {
     "name": "stdout",
     "output_type": "stream",
     "text": [
      "김혜주\n",
      "이호림\n"
     ]
    }
   ],
   "source": [
    "friend = (\"김혜주\", \"이호림\")\n",
    "print(friend[0])\n",
    "print(friend[1])"
   ]
  },
  {
   "cell_type": "markdown",
   "metadata": {},
   "source": [
    "만약에 친구 한 명을 더 추가하고 싶어서 add()를 사용한다면 **Error**가 뜬다."
   ]
  },
  {
   "cell_type": "code",
   "execution_count": 2,
   "metadata": {},
   "outputs": [
    {
     "ename": "AttributeError",
     "evalue": "'tuple' object has no attribute 'add'",
     "output_type": "error",
     "traceback": [
      "\u001b[1;31m---------------------------------------------------------------------------\u001b[0m",
      "\u001b[1;31mAttributeError\u001b[0m                            Traceback (most recent call last)",
      "\u001b[1;32m<ipython-input-2-7c11d9b6c49f>\u001b[0m in \u001b[0;36m<module>\u001b[1;34m()\u001b[0m\n\u001b[1;32m----> 1\u001b[1;33m \u001b[0mfriend\u001b[0m\u001b[1;33m.\u001b[0m\u001b[0madd\u001b[0m\u001b[1;33m(\u001b[0m\u001b[1;34m\"박종현\"\u001b[0m\u001b[1;33m)\u001b[0m\u001b[1;33m\u001b[0m\u001b[0m\n\u001b[0m",
      "\u001b[1;31mAttributeError\u001b[0m: 'tuple' object has no attribute 'add'"
     ]
    }
   ],
   "source": [
    "friend.add(\"박종현\")"
   ]
  },
  {
   "cell_type": "markdown",
   "metadata": {},
   "source": [
    "### Tuple 활용\n",
    "\n",
    "변수 당 하나씩 값을 선언할 수 있지만"
   ]
  },
  {
   "cell_type": "code",
   "execution_count": 3,
   "metadata": {},
   "outputs": [
    {
     "name": "stdout",
     "output_type": "stream",
     "text": [
      "김아현 24 코딩\n"
     ]
    }
   ],
   "source": [
    "name = \"김아현\"\n",
    "age = 24\n",
    "hobby = \"코딩\"\n",
    "\n",
    "print(name, age, hobby)"
   ]
  },
  {
   "cell_type": "markdown",
   "metadata": {},
   "source": [
    "**튜플을 이용**한다면 **한 줄에 여러 개의 변수를 선언**할 수 있다."
   ]
  },
  {
   "cell_type": "code",
   "execution_count": 4,
   "metadata": {},
   "outputs": [
    {
     "name": "stdout",
     "output_type": "stream",
     "text": [
      "김아현 24 코딩\n"
     ]
    }
   ],
   "source": [
    "(name, age, hobby) = (\"김아현\", 24, \"코딩\")\n",
    "print(name, age, hobby)"
   ]
  },
  {
   "cell_type": "markdown",
   "metadata": {},
   "source": [
    "## Set (세트) (집합)\n",
    "\n",
    "중복이 안되고, 순서가 없다.\n",
    "\n",
    "**<set 사용법>**\n",
    "\n",
    "var = {value, value, ...}<br>\n",
    "var = set([value, value])"
   ]
  },
  {
   "cell_type": "code",
   "execution_count": 5,
   "metadata": {},
   "outputs": [
    {
     "name": "stdout",
     "output_type": "stream",
     "text": [
      "{1, 2, 4, 5}\n"
     ]
    }
   ],
   "source": [
    "num = {1,2,4,4,5,5}\n",
    "print(num)"
   ]
  },
  {
   "cell_type": "markdown",
   "metadata": {},
   "source": [
    "중복이 안되기 때문에 중복된 숫자는 하나만 출력되는 것을 확인할 수 있다."
   ]
  },
  {
   "cell_type": "markdown",
   "metadata": {},
   "source": [
    "### 교집합\n",
    "\n",
    "**[방법 1]** & <br>\n",
    "**[방법 2]** intersection"
   ]
  },
  {
   "cell_type": "code",
   "execution_count": 6,
   "metadata": {},
   "outputs": [],
   "source": [
    "incheon = {\"김혜주\", \"이희재\"}\n",
    "wauri = set([\"김혜주\", \"이호림\", \"김아현\"])"
   ]
  },
  {
   "cell_type": "code",
   "execution_count": 7,
   "metadata": {},
   "outputs": [
    {
     "name": "stdout",
     "output_type": "stream",
     "text": [
      "{'김혜주'}\n",
      "{'김혜주'}\n"
     ]
    }
   ],
   "source": [
    "print(incheon & wauri)\n",
    "print(incheon.intersection(wauri))"
   ]
  },
  {
   "cell_type": "markdown",
   "metadata": {},
   "source": [
    "### 합집합\n",
    "\n",
    "**[방법 1]** | <br>\n",
    "**[방법 2]** union"
   ]
  },
  {
   "cell_type": "code",
   "execution_count": 8,
   "metadata": {},
   "outputs": [
    {
     "name": "stdout",
     "output_type": "stream",
     "text": [
      "{'이희재', '김혜주', '이호림', '김아현'}\n",
      "{'이희재', '김혜주', '이호림', '김아현'}\n"
     ]
    }
   ],
   "source": [
    "print(incheon | wauri)\n",
    "print(incheon.union(wauri))"
   ]
  },
  {
   "cell_type": "markdown",
   "metadata": {},
   "source": [
    "### 차집합\n",
    "\n",
    "**[방법 1]** - <br>\n",
    "**[방법 2]** difference"
   ]
  },
  {
   "cell_type": "code",
   "execution_count": 9,
   "metadata": {},
   "outputs": [
    {
     "name": "stdout",
     "output_type": "stream",
     "text": [
      "{'이희재'}\n",
      "{'이희재'}\n"
     ]
    }
   ],
   "source": [
    "print(incheon - wauri)\n",
    "print(incheon.difference(wauri))"
   ]
  },
  {
   "cell_type": "markdown",
   "metadata": {},
   "source": [
    "### value 추가\n",
    "\n",
    "**add()** 이용"
   ]
  },
  {
   "cell_type": "code",
   "execution_count": 10,
   "metadata": {},
   "outputs": [
    {
     "name": "stdout",
     "output_type": "stream",
     "text": [
      "{'이희재', '김혜주', '김아현'}\n"
     ]
    }
   ],
   "source": [
    "incheon.add(\"김아현\")\n",
    "print(incheon)"
   ]
  },
  {
   "cell_type": "markdown",
   "metadata": {},
   "source": [
    "### value 삭제\n",
    "\n",
    "**remove()** 이용"
   ]
  },
  {
   "cell_type": "code",
   "execution_count": 11,
   "metadata": {},
   "outputs": [
    {
     "name": "stdout",
     "output_type": "stream",
     "text": [
      "{'이호림', '김아현'}\n"
     ]
    }
   ],
   "source": [
    "wauri.remove(\"김혜주\")\n",
    "print(wauri)"
   ]
  },
  {
   "cell_type": "markdown",
   "metadata": {},
   "source": [
    "## 자료구조의 변경\n",
    "\n",
    "자료형을 서로 바꿀 수 있다."
   ]
  },
  {
   "cell_type": "code",
   "execution_count": 12,
   "metadata": {},
   "outputs": [
    {
     "name": "stdout",
     "output_type": "stream",
     "text": [
      "{'커피', '토피넛', '라떼'}\n"
     ]
    }
   ],
   "source": [
    "ice = {\"커피\", \"라떼\", \"토피넛\"}\n",
    "print(ice)"
   ]
  },
  {
   "cell_type": "markdown",
   "metadata": {},
   "source": [
    "자신이 쓴 자료형을 알기 위해서 **type()**을 이용한다."
   ]
  },
  {
   "cell_type": "code",
   "execution_count": 13,
   "metadata": {},
   "outputs": [
    {
     "name": "stdout",
     "output_type": "stream",
     "text": [
      "{'커피', '토피넛', '라떼'} <class 'set'>\n"
     ]
    }
   ],
   "source": [
    "print(ice, type(ice))"
   ]
  },
  {
   "cell_type": "code",
   "execution_count": 14,
   "metadata": {},
   "outputs": [
    {
     "name": "stdout",
     "output_type": "stream",
     "text": [
      "['커피', '토피넛', '라떼'] <class 'list'>\n"
     ]
    }
   ],
   "source": [
    "ice = list(ice)\n",
    "print(ice, type(ice))"
   ]
  },
  {
   "cell_type": "code",
   "execution_count": 15,
   "metadata": {},
   "outputs": [
    {
     "name": "stdout",
     "output_type": "stream",
     "text": [
      "('커피', '토피넛', '라떼') <class 'tuple'>\n"
     ]
    }
   ],
   "source": [
    "ice = tuple(ice)\n",
    "print(ice, type(ice))"
   ]
  },
  {
   "cell_type": "code",
   "execution_count": 16,
   "metadata": {},
   "outputs": [
    {
     "name": "stdout",
     "output_type": "stream",
     "text": [
      "{'커피', '토피넛', '라떼'} <class 'set'>\n"
     ]
    }
   ],
   "source": [
    "ice = set(ice)\n",
    "print(ice, type(ice))"
   ]
  },
  {
   "cell_type": "markdown",
   "metadata": {},
   "source": [
    "## Quiz"
   ]
  },
  {
   "cell_type": "code",
   "execution_count": 46,
   "metadata": {
    "scrolled": true
   },
   "outputs": [
    {
     "name": "stdout",
     "output_type": "stream",
     "text": [
      "--당첨자 발표--\n",
      "치킨 당첨자 : 1\n",
      "커피 당첨자 : [15, 17, 2]\n",
      "--축하합니다--\n"
     ]
    }
   ],
   "source": [
    "from random import *\n",
    "id = [1, 2, 3, 4, 5, 6, 7, 8, 9, 10, 11, 12, 13, 14, 15, 16, 17, 18, 19, 20]\n",
    "chicken = int(random() * 20) + 1\n",
    "id.remove(chicken)\n",
    "coffee = sample(id, 3)\n",
    "\n",
    "print(\"--당첨자 발표--\")\n",
    "print(\"치킨 당첨자 : %d\" % chicken)\n",
    "print(\"커피 당첨자 : {}\".format(coffee))\n",
    "print(\"--축하합니다--\")"
   ]
  },
  {
   "cell_type": "code",
   "execution_count": 50,
   "metadata": {},
   "outputs": [
    {
     "name": "stdout",
     "output_type": "stream",
     "text": [
      "[12, 19, 4, 18, 13, 14, 17, 8, 2, 7, 5, 9, 11, 6, 20, 10, 1, 16, 3, 15]\n",
      "치킨 당첨자 : 5\n",
      "커피 당첨자 : [16, 8, 10]\n"
     ]
    }
   ],
   "source": [
    "users = range(1, 21) #1부터 20까지 숫자를 생성\n",
    "users = list(users)\n",
    "#print(users, type(users))\n",
    "shuffle(users)\n",
    "print(users)\n",
    "\n",
    "winners = sample(users, 4) # 4명 중 1명 치킨, 3명 커피\n",
    "print(\"치킨 당첨자 : {0}\".format(winners[0]))\n",
    "print(\"커피 당첨자 : {0}\".format(winners[1:]))"
   ]
  }
 ],
 "metadata": {
  "kernelspec": {
   "display_name": "Python 3",
   "language": "python",
   "name": "python3"
  },
  "language_info": {
   "codemirror_mode": {
    "name": "ipython",
    "version": 3
   },
   "file_extension": ".py",
   "mimetype": "text/x-python",
   "name": "python",
   "nbconvert_exporter": "python",
   "pygments_lexer": "ipython3",
   "version": "3.6.4"
  }
 },
 "nbformat": 4,
 "nbformat_minor": 2
}
