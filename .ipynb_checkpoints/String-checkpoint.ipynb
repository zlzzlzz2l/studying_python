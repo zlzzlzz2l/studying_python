{
 "cells": [
  {
   "cell_type": "markdown",
   "metadata": {},
   "source": [
    "## 문자열\n",
    "**' '(작은 따옴표)**와 **\" \"(큰 따옴표)**로 어떤 걸로 쓰든 문자열로 취급한다."
   ]
  },
  {
   "cell_type": "code",
   "execution_count": 1,
   "metadata": {},
   "outputs": [
    {
     "name": "stdout",
     "output_type": "stream",
     "text": [
      "My name is ahyun\n"
     ]
    }
   ],
   "source": [
    "sentence = 'My name is ahyun'\n",
    "print(sentence)"
   ]
  },
  {
   "cell_type": "code",
   "execution_count": 3,
   "metadata": {},
   "outputs": [
    {
     "name": "stdout",
     "output_type": "stream",
     "text": [
      "I'm studying Python\n"
     ]
    }
   ],
   "source": [
    "sentence1 = \"I'm studying Python\"\n",
    "print(sentence1)"
   ]
  },
  {
   "cell_type": "markdown",
   "metadata": {},
   "source": [
    "### 여러 문장 입력하기\n",
    "**\"\"\" \"\"\"** 큰 따옴표를 3개 입력하면 **줄바꿈한 여러 문장을 출력**할 수 있다."
   ]
  },
  {
   "cell_type": "code",
   "execution_count": 4,
   "metadata": {},
   "outputs": [
    {
     "name": "stdout",
     "output_type": "stream",
     "text": [
      "\n",
      "Hi, My name is ahyun.\n",
      "I'm studying Python.\n",
      "Python is easy until now\n",
      "\n"
     ]
    }
   ],
   "source": [
    "sentence2 = \"\"\"\n",
    "Hi, My name is ahyun.\n",
    "I'm studying Python.\n",
    "Python is easy until now\n",
    "\"\"\"\n",
    "print(sentence2)"
   ]
  },
  {
   "cell_type": "markdown",
   "metadata": {},
   "source": [
    "## 슬라이싱\n",
    "자신이 원하는 정보만 가져오는 것을 **슬라이싱**이라고 한다."
   ]
  },
  {
   "cell_type": "code",
   "execution_count": 5,
   "metadata": {},
   "outputs": [],
   "source": [
    "email = \"zlzzlzz2l@naver.com\""
   ]
  },
  {
   "cell_type": "markdown",
   "metadata": {},
   "source": [
    "위 이메일 정보에서 **@**만 가져오고 싶을 때\n",
    "\n",
    "**(Python에서의 index는 0부터 시작하고 대괄호를 이용한다.)**\n",
    "\n",
    "**@**는 **9번째**에 위치하고 있기 때문에 아래와 같이 작성한다."
   ]
  },
  {
   "cell_type": "code",
   "execution_count": 6,
   "metadata": {},
   "outputs": [
    {
     "name": "stdout",
     "output_type": "stream",
     "text": [
      "at : @\n"
     ]
    }
   ],
   "source": [
    "print(\"at : \" + email[9])"
   ]
  },
  {
   "cell_type": "markdown",
   "metadata": {},
   "source": [
    "만약 **아이디(zlzzlzz2l)**만 가져오고 싶을 때 <br>\n",
    "**어디서부터 어디(직전)까지**라고 명시할 때는 **:**를 이용한다.\n",
    "\n",
    "또한, **:**을 이용할 때에는 **끝나는 지점은 end point**를 포함하지 않는다."
   ]
  },
  {
   "cell_type": "code",
   "execution_count": 9,
   "metadata": {
    "scrolled": false
   },
   "outputs": [
    {
     "name": "stdout",
     "output_type": "stream",
     "text": [
      "ID : zlzzlzz2l\n"
     ]
    }
   ],
   "source": [
    "print(\"ID : \" + email[0:9])"
   ]
  },
  {
   "cell_type": "markdown",
   "metadata": {},
   "source": [
    "그래서 위 코드에서도 **l**이 위치한 곳은 **8번째 index**이지만\n",
    "index 9 직전까지로 입력해야 하기 때문에 **[0:9]**를 입력했다."
   ]
  },
  {
   "cell_type": "markdown",
   "metadata": {},
   "source": [
    "**.** 뒤에 **com**만 가져오고 싶을 때에도 마찬가지이다."
   ]
  },
  {
   "cell_type": "code",
   "execution_count": 10,
   "metadata": {},
   "outputs": [
    {
     "name": "stdout",
     "output_type": "stream",
     "text": [
      "after . : com\n"
     ]
    }
   ],
   "source": [
    "print(\"after . : \" + email[16:19])"
   ]
  },
  {
   "cell_type": "markdown",
   "metadata": {},
   "source": [
    "**아이디(zlzzlzz2l) 전체**를 가져오고 싶을 때 다른 방법이 존재한다. <br>\n",
    "굳이 처음 index부터 가져올 때 0을 쓰지 않고 **:**로 시작하면 된다."
   ]
  },
  {
   "cell_type": "code",
   "execution_count": 11,
   "metadata": {},
   "outputs": [
    {
     "name": "stdout",
     "output_type": "stream",
     "text": [
      "ID : zlzzlzz2l\n"
     ]
    }
   ],
   "source": [
    "print(\"ID : \" + email[:9])"
   ]
  },
  {
   "cell_type": "markdown",
   "metadata": {},
   "source": [
    "**어떤 index에서 문자열 끝까지** 가져오고 싶을 때에도 위와 비슷하다.\n",
    "\n",
    "naver.com만 가져오고 싶을 때"
   ]
  },
  {
   "cell_type": "code",
   "execution_count": 12,
   "metadata": {
    "scrolled": true
   },
   "outputs": [
    {
     "name": "stdout",
     "output_type": "stream",
     "text": [
      "company : naver.com\n"
     ]
    }
   ],
   "source": [
    "print(\"company : \" + email[10:])"
   ]
  },
  {
   "cell_type": "markdown",
   "metadata": {},
   "source": [
    "**뒤에서부터 문자열을 불러올 수도 있다.**\n",
    "\n",
    "**Python**에서는 **맨 뒤 index를 -1**로 본다.\n",
    "맨 뒤 그 다음은 -2\n",
    "즉, -1, -2, -3 ...\n",
    "\n",
    "만약 이메일 전체를 맨 뒤 9번째부터 끝까지 출력하고 싶다면"
   ]
  },
  {
   "cell_type": "code",
   "execution_count": 14,
   "metadata": {},
   "outputs": [
    {
     "name": "stdout",
     "output_type": "stream",
     "text": [
      "company : naver.com\n"
     ]
    }
   ],
   "source": [
    "print(\"company : \" + email[-9:])"
   ]
  },
  {
   "cell_type": "markdown",
   "metadata": {},
   "source": [
    "**index -9부터 끝까지 입력**해주면 된다."
   ]
  },
  {
   "cell_type": "code",
   "execution_count": null,
   "metadata": {},
   "outputs": [],
   "source": []
  }
 ],
 "metadata": {
  "kernelspec": {
   "display_name": "Python 3",
   "language": "python",
   "name": "python3"
  },
  "language_info": {
   "codemirror_mode": {
    "name": "ipython",
    "version": 3
   },
   "file_extension": ".py",
   "mimetype": "text/x-python",
   "name": "python",
   "nbconvert_exporter": "python",
   "pygments_lexer": "ipython3",
   "version": "3.6.4"
  }
 },
 "nbformat": 4,
 "nbformat_minor": 2
}
