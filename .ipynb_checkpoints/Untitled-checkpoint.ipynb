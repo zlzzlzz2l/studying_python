{
 "cells": [
  {
   "cell_type": "code",
   "execution_count": 1,
   "metadata": {},
   "outputs": [
    {
     "name": "stdout",
     "output_type": "stream",
     "text": [
      "1\n",
      "2\n",
      "3\n",
      "4\n"
     ]
    }
   ],
   "source": [
    "for i in range(1,5):\n",
    "    print(i)"
   ]
  },
  {
   "cell_type": "code",
   "execution_count": 9,
   "metadata": {},
   "outputs": [
    {
     "name": "stdout",
     "output_type": "stream",
     "text": [
      "45\n"
     ]
    }
   ],
   "source": [
    "score_list = [5, 10, 15, 20, 25, 30]\n",
    "\n",
    "sum_of_score = 0\n",
    "i = 0\n",
    "while i < len(score_list):\n",
    "    if i % 2 == 0:\n",
    "        sum_of_score += score_list[i]\n",
    "    i += 1\n",
    "print(sum_of_score)"
   ]
  },
  {
   "cell_type": "code",
   "execution_count": 10,
   "metadata": {},
   "outputs": [
    {
     "name": "stdout",
     "output_type": "stream",
     "text": [
      "t\n",
      "r\n"
     ]
    }
   ],
   "source": [
    "def what(word1, word2):\n",
    "    for letter in word2:\n",
    "        if letter not in word1:\n",
    "            print(letter)\n",
    "what('pineapple', 'appletree')"
   ]
  },
  {
   "cell_type": "code",
   "execution_count": 13,
   "metadata": {},
   "outputs": [
    {
     "name": "stdout",
     "output_type": "stream",
     "text": [
      "숫자를 입력하세요:10\n",
      "1010\n"
     ]
    }
   ],
   "source": [
    "decimal = int(input('숫자를 입력하세요:'))\n",
    "result = ''\n",
    "while (decimal > 0):\n",
    "    remainder = decimal % 2\n",
    "    decimal = decimal // 2\n",
    "    result = str(remainder) + result\n",
    "print(result)"
   ]
  },
  {
   "cell_type": "code",
   "execution_count": 14,
   "metadata": {},
   "outputs": [
    {
     "name": "stdout",
     "output_type": "stream",
     "text": [
      "10 20 \n",
      "30 40 \n",
      "50 60 \n"
     ]
    }
   ],
   "source": [
    "a = [[10, 20], [30, 40], [50, 60]]\n",
    "\n",
    "i = 0\n",
    "while i < len(a):\n",
    "    j = 0\n",
    "    while j < len(a[i]):\n",
    "        print(a[i][j], end=' ')\n",
    "        j += 1\n",
    "    print()\n",
    "    i+=1"
   ]
  },
  {
   "cell_type": "code",
   "execution_count": 15,
   "metadata": {},
   "outputs": [
    {
     "name": "stdout",
     "output_type": "stream",
     "text": [
      "-5\n"
     ]
    }
   ],
   "source": [
    "result = 0\n",
    "for i in range(5, -5, -2):\n",
    "    if i < -3:\n",
    "        result += 1\n",
    "    else:\n",
    "        result -= 1\n",
    "        \n",
    "print(result)"
   ]
  },
  {
   "cell_type": "code",
   "execution_count": 16,
   "metadata": {
    "scrolled": true
   },
   "outputs": [
    {
     "name": "stdout",
     "output_type": "stream",
     "text": [
      "[['alpha']]\n"
     ]
    }
   ],
   "source": [
    "a = ['alpha']\n",
    "b = [[i for i in a if len(i) == 5]]\n",
    "print(b)"
   ]
  },
  {
   "cell_type": "code",
   "execution_count": 18,
   "metadata": {
    "scrolled": true
   },
   "outputs": [
    {
     "name": "stdout",
     "output_type": "stream",
     "text": [
      "44\n"
     ]
    }
   ],
   "source": [
    "import math\n",
    "def what(n):\n",
    "    sum = 0\n",
    "    for i in range(n + 1):\n",
    "        sum = sum + math.factorial(i)\n",
    "    return sum\n",
    "print(what(4) + what(3))"
   ]
  },
  {
   "cell_type": "code",
   "execution_count": 19,
   "metadata": {},
   "outputs": [
    {
     "name": "stdout",
     "output_type": "stream",
     "text": [
      "s =  3\n",
      "s =  5\n",
      "s =  7\n",
      "s =  9\n",
      "s =  11\n"
     ]
    }
   ],
   "source": [
    "s = 1\n",
    "n = 2\n",
    "while s < 10:\n",
    "    s = s + n\n",
    "    print(\"s = \", s)"
   ]
  },
  {
   "cell_type": "code",
   "execution_count": 20,
   "metadata": {},
   "outputs": [
    {
     "name": "stdout",
     "output_type": "stream",
     "text": [
      "   $\n",
      "   $\n",
      "   $\n",
      "   $\n",
      "   $\n",
      "   $\n",
      "   $\n",
      "   $\n",
      "   $\n",
      "   $\n",
      "   $\n",
      "   $\n",
      "   $\n",
      "   $\n"
     ]
    }
   ],
   "source": [
    "for i in range(2):\n",
    "    for j in range(7):\n",
    "        print(\"   $\")"
   ]
  },
  {
   "cell_type": "code",
   "execution_count": 21,
   "metadata": {},
   "outputs": [
    {
     "name": "stdout",
     "output_type": "stream",
     "text": [
      "3000 4500\n"
     ]
    }
   ],
   "source": [
    "fruit = {'apple': 1500, 'pear':3000, 'grape': 1400}\n",
    "fruit['orange'] = 4500\n",
    "print(fruit['pear'], fruit['orange'])"
   ]
  },
  {
   "cell_type": "markdown",
   "metadata": {},
   "source": [
    "[0, 1]이 화면에 출력되는 이유는 파이썬의 함수 안 변수 호출 방식인 객체 호출이기 때문이다. 객체 호출은 새로운 값을 할당하기 전까지 기존에 넘어온 인수 객체의 주소값을 쓰는 방식이다.\n",
    "\n",
    "3행의 eggs = [2, 3]은 새로운 리스트를 만드는 코드이다. 새로운 리스트를 할당하기 전에 기존의 리스트 주소값을 쓰기 때문에 [0, 1]이 출력된다."
   ]
  }
 ],
 "metadata": {
  "kernelspec": {
   "display_name": "Python 3",
   "language": "python",
   "name": "python3"
  },
  "language_info": {
   "codemirror_mode": {
    "name": "ipython",
    "version": 3
   },
   "file_extension": ".py",
   "mimetype": "text/x-python",
   "name": "python",
   "nbconvert_exporter": "python",
   "pygments_lexer": "ipython3",
   "version": "3.6.4"
  }
 },
 "nbformat": 4,
 "nbformat_minor": 2
}
