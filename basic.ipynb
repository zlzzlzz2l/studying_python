{
 "cells": [
  {
   "cell_type": "code",
   "execution_count": 1,
   "metadata": {},
   "outputs": [
    {
     "name": "stdout",
     "output_type": "stream",
     "text": [
      "5\n"
     ]
    }
   ],
   "source": [
    "print(5)"
   ]
  },
  {
   "cell_type": "code",
   "execution_count": 2,
   "metadata": {},
   "outputs": [
    {
     "name": "stdout",
     "output_type": "stream",
     "text": [
      "풍선\n"
     ]
    }
   ],
   "source": [
    "print('풍선')"
   ]
  },
  {
   "cell_type": "code",
   "execution_count": 3,
   "metadata": {},
   "outputs": [
    {
     "name": "stdout",
     "output_type": "stream",
     "text": [
      "ahyun\n"
     ]
    }
   ],
   "source": [
    "print(\"ahyun\")"
   ]
  },
  {
   "cell_type": "code",
   "execution_count": 4,
   "metadata": {},
   "outputs": [
    {
     "name": "stdout",
     "output_type": "stream",
     "text": [
      "문자문자\n"
     ]
    }
   ],
   "source": [
    "print(\"문자\"*2)"
   ]
  },
  {
   "cell_type": "code",
   "execution_count": 5,
   "metadata": {
    "scrolled": true
   },
   "outputs": [
    {
     "name": "stdout",
     "output_type": "stream",
     "text": [
      "False\n"
     ]
    }
   ],
   "source": [
    "print(7 > 10)"
   ]
  },
  {
   "cell_type": "code",
   "execution_count": 6,
   "metadata": {},
   "outputs": [
    {
     "name": "stdout",
     "output_type": "stream",
     "text": [
      "True\n"
     ]
    }
   ],
   "source": [
    "print(7 < 10)"
   ]
  },
  {
   "cell_type": "code",
   "execution_count": 7,
   "metadata": {},
   "outputs": [
    {
     "name": "stdout",
     "output_type": "stream",
     "text": [
      "True\n"
     ]
    }
   ],
   "source": [
    "print(True)"
   ]
  },
  {
   "cell_type": "code",
   "execution_count": 8,
   "metadata": {},
   "outputs": [
    {
     "name": "stdout",
     "output_type": "stream",
     "text": [
      "False\n"
     ]
    }
   ],
   "source": [
    "print(False)"
   ]
  },
  {
   "cell_type": "code",
   "execution_count": 9,
   "metadata": {},
   "outputs": [
    {
     "name": "stdout",
     "output_type": "stream",
     "text": [
      "False\n"
     ]
    }
   ],
   "source": [
    "print(not True)"
   ]
  },
  {
   "cell_type": "code",
   "execution_count": 10,
   "metadata": {},
   "outputs": [
    {
     "name": "stdout",
     "output_type": "stream",
     "text": [
      "True\n"
     ]
    }
   ],
   "source": [
    "print(not False)"
   ]
  },
  {
   "cell_type": "code",
   "execution_count": 11,
   "metadata": {},
   "outputs": [
    {
     "name": "stdout",
     "output_type": "stream",
     "text": [
      "True\n"
     ]
    }
   ],
   "source": [
    "print(not (5 > 10))"
   ]
  },
  {
   "cell_type": "code",
   "execution_count": 21,
   "metadata": {
    "scrolled": true
   },
   "outputs": [
    {
     "name": "stdout",
     "output_type": "stream",
     "text": [
      "안녕하세요. ahyun입니다.\n",
      "ahyun의 나이는 24살입니다.\n",
      "ahyun은 경기도 ***에 거주중입니다.\n"
     ]
    }
   ],
   "source": [
    "print(\"안녕하세요. ahyun입니다.\")\n",
    "print(\"ahyun의 나이는 24살입니다.\")\n",
    "print(\"ahyun은 경기도 ***에 거주중입니다.\")"
   ]
  },
  {
   "cell_type": "code",
   "execution_count": 23,
   "metadata": {},
   "outputs": [
    {
     "name": "stdout",
     "output_type": "stream",
     "text": [
      "안녕하세요. ahyun입니다.\n",
      "ahyun의 나이는 24살입니다.\n",
      "ahyun은 경기도 ***에 거주중입니다.\n"
     ]
    }
   ],
   "source": [
    "name = \"ahyun\"\n",
    "\n",
    "print(\"안녕하세요. \" + name + \"입니다.\")\n",
    "print(name + \"의 나이는 24살입니다.\")\n",
    "print(name + \"은 경기도 ***에 거주중입니다.\")"
   ]
  },
  {
   "cell_type": "code",
   "execution_count": 14,
   "metadata": {},
   "outputs": [
    {
     "name": "stdout",
     "output_type": "stream",
     "text": [
      "제 이름은 kimahyun입니다.\n",
      "나이는 24입니다.\n",
      "직업은 학생입니다.\n"
     ]
    }
   ],
   "source": [
    "name = 'kimahyun'\n",
    "age = 24\n",
    "job = \"학생\"\n",
    "\n",
    "print(\"제 이름은 \" + name + \"입니다.\")\n",
    "print(\"나이는 \" + str(age) + \"입니다.\")\n",
    "print(\"직업은 \" + job + \"입니다.\")"
   ]
  },
  {
   "cell_type": "code",
   "execution_count": 15,
   "metadata": {},
   "outputs": [
    {
     "name": "stdout",
     "output_type": "stream",
     "text": [
      "제 이름은 kimahyun 입니다.\n",
      "나이는 24 입니다.\n",
      "직업은  학생 입니다.\n"
     ]
    }
   ],
   "source": [
    "name = 'kimahyun'\n",
    "age = 24\n",
    "job = \"학생\"\n",
    "\n",
    "print(\"제 이름은\" ,name, \"입니다.\")\n",
    "print(\"나이는\" ,age, \"입니다.\")\n",
    "print(\"직업은 \", job, \"입니다.\")"
   ]
  },
  {
   "cell_type": "code",
   "execution_count": 16,
   "metadata": {},
   "outputs": [
    {
     "name": "stdout",
     "output_type": "stream",
     "text": [
      "사당행 열차가 들어오고 있습니다.\n"
     ]
    }
   ],
   "source": [
    "# 변수를 이용하여 다음 문장을 출력하시오\n",
    "# 변수명 : station\n",
    "# 변수값 : \"사당\", \"신도림\", \"인천공항\" 순서대로 입력\n",
    "# 출력 문장 : XX행 열차가 들어오고 있습니다.\n",
    "\n",
    "station = \"사당\"\n",
    "print(station + \"행 열차가 들어오고 있습니다.\")"
   ]
  },
  {
   "cell_type": "code",
   "execution_count": 17,
   "metadata": {},
   "outputs": [
    {
     "name": "stdout",
     "output_type": "stream",
     "text": [
      "신도림행 열차가 들어오고 있습니다.\n"
     ]
    }
   ],
   "source": [
    "station = \"신도림\"\n",
    "print(station + \"행 열차가 들어오고 있습니다.\")"
   ]
  },
  {
   "cell_type": "code",
   "execution_count": 18,
   "metadata": {},
   "outputs": [
    {
     "name": "stdout",
     "output_type": "stream",
     "text": [
      "인천공항행 열차가 들어오고 있습니다.\n"
     ]
    }
   ],
   "source": [
    "station = \"인천공항\"\n",
    "print(station + \"행 열차가 들어오고 있습니다.\")"
   ]
  },
  {
   "cell_type": "code",
   "execution_count": 19,
   "metadata": {},
   "outputs": [
    {
     "name": "stdout",
     "output_type": "stream",
     "text": [
      "2\n",
      "1\n",
      "10\n",
      "2.0\n"
     ]
    }
   ],
   "source": [
    "print(1+1) # 2\n",
    "print(3-2) # 1\n",
    "print(5*2) # 10\n",
    "print(6/3) # 2"
   ]
  },
  {
   "cell_type": "code",
   "execution_count": 1,
   "metadata": {},
   "outputs": [
    {
     "name": "stdout",
     "output_type": "stream",
     "text": [
      "2\n",
      "1\n",
      "15\n",
      "4.0\n"
     ]
    }
   ],
   "source": [
    "print(1+1) # 2\n",
    "print(3-2) # 1\n",
    "print(5*3) # 15\n",
    "print(8/2) # 4"
   ]
  },
  {
   "cell_type": "code",
   "execution_count": 2,
   "metadata": {},
   "outputs": [
    {
     "name": "stdout",
     "output_type": "stream",
     "text": [
      "16\n"
     ]
    }
   ],
   "source": [
    "print(2**4)"
   ]
  },
  {
   "cell_type": "code",
   "execution_count": 3,
   "metadata": {},
   "outputs": [
    {
     "name": "stdout",
     "output_type": "stream",
     "text": [
      "1\n"
     ]
    }
   ],
   "source": [
    "print(7%3)"
   ]
  },
  {
   "cell_type": "code",
   "execution_count": 5,
   "metadata": {},
   "outputs": [
    {
     "name": "stdout",
     "output_type": "stream",
     "text": [
      "2\n"
     ]
    }
   ],
   "source": [
    "print(11//4)"
   ]
  },
  {
   "cell_type": "code",
   "execution_count": 6,
   "metadata": {},
   "outputs": [
    {
     "name": "stdout",
     "output_type": "stream",
     "text": [
      "True\n",
      "False\n",
      "False\n",
      "True\n",
      "True\n",
      "False\n",
      "True\n"
     ]
    }
   ],
   "source": [
    "print(15 > 11) # True\n",
    "print(8 <= 3) # False\n",
    "print(1 >= 3) # False\n",
    "print(5 <= 5) # True\n",
    "print(5 == 5) # True\n",
    "print(5 == 6) # False\n",
    "print(4 + 4 == 8) # True"
   ]
  },
  {
   "cell_type": "code",
   "execution_count": 8,
   "metadata": {},
   "outputs": [
    {
     "name": "stdout",
     "output_type": "stream",
     "text": [
      "True\n",
      "False\n"
     ]
    }
   ],
   "source": [
    "print(5 != 6) # True\n",
    "print(not(5!= 6)) # False"
   ]
  },
  {
   "cell_type": "code",
   "execution_count": 10,
   "metadata": {
    "scrolled": true
   },
   "outputs": [
    {
     "name": "stdout",
     "output_type": "stream",
     "text": [
      "True\n",
      "True\n"
     ]
    }
   ],
   "source": [
    "print((4 > 2) and (4 > 3)) # True\n",
    "print((4 > 2) & (4 > 3)) #True"
   ]
  },
  {
   "cell_type": "code",
   "execution_count": 12,
   "metadata": {
    "scrolled": true
   },
   "outputs": [
    {
     "name": "stdout",
     "output_type": "stream",
     "text": [
      "True\n",
      "False\n"
     ]
    }
   ],
   "source": [
    "print((4 > 2) or (4 < 2)) # True\n",
    "print((4 < 2) | (4 < 2)) # False"
   ]
  },
  {
   "cell_type": "code",
   "execution_count": 13,
   "metadata": {},
   "outputs": [
    {
     "name": "stdout",
     "output_type": "stream",
     "text": [
      "True\n",
      "False\n"
     ]
    }
   ],
   "source": [
    "print(3 < 4 < 5) # True\n",
    "print(3 < 4 < 2) # False"
   ]
  },
  {
   "cell_type": "code",
   "execution_count": 2,
   "metadata": {},
   "outputs": [
    {
     "name": "stdout",
     "output_type": "stream",
     "text": [
      "12\n",
      "14\n",
      "28\n",
      "14.0\n",
      "12.0\n",
      "6.0\n"
     ]
    }
   ],
   "source": [
    "num = 10\n",
    "num = num + 2\n",
    "print(num) # 12\n",
    "\n",
    "num += 2\n",
    "print(num) #14\n",
    "\n",
    "num *= 2 \n",
    "print(num) # 28\n",
    "\n",
    "num /= 2 # 14\n",
    "print(num)\n",
    "\n",
    "num -= 2 # 12\n",
    "print(num)\n",
    "\n",
    "num /= 2 # 0\n",
    "print(num)"
   ]
  },
  {
   "cell_type": "code",
   "execution_count": null,
   "metadata": {},
   "outputs": [],
   "source": []
  }
 ],
 "metadata": {
  "kernelspec": {
   "display_name": "Python 3",
   "language": "python",
   "name": "python3"
  },
  "language_info": {
   "codemirror_mode": {
    "name": "ipython",
    "version": 3
   },
   "file_extension": ".py",
   "mimetype": "text/x-python",
   "name": "python",
   "nbconvert_exporter": "python",
   "pygments_lexer": "ipython3",
   "version": "3.6.4"
  }
 },
 "nbformat": 4,
 "nbformat_minor": 2
}
