{
 "cells": [
  {
   "cell_type": "markdown",
   "metadata": {},
   "source": [
    "## 표준 입출력"
   ]
  },
  {
   "cell_type": "code",
   "execution_count": 3,
   "metadata": {},
   "outputs": [
    {
     "name": "stdout",
     "output_type": "stream",
     "text": [
      "1 2\n"
     ]
    }
   ],
   "source": [
    "print(\"1\",\"2\")"
   ]
  },
  {
   "cell_type": "code",
   "execution_count": 4,
   "metadata": {},
   "outputs": [
    {
     "name": "stdout",
     "output_type": "stream",
     "text": [
      "12\n"
     ]
    }
   ],
   "source": [
    "print(\"1\" + \"2\")"
   ]
  },
  {
   "cell_type": "markdown",
   "metadata": {},
   "source": [
    "위 코드에서 보는 것과 같이 **문자열 2개를 출력하기 위해서 ,**나 **+**를 쓸 수 있는데, **,**는 **한 칸 띄어쓰기가 되고, +**는 **띄어쓰기가 되지 않은 채(붙어서)**로 출력된다.\n",
    "\n",
    "**,**나 **+**를 제외하고도 **sep=\"\"**을 이용해서 출력할 수도 있다."
   ]
  },
  {
   "cell_type": "code",
   "execution_count": 6,
   "metadata": {},
   "outputs": [
    {
     "name": "stdout",
     "output_type": "stream",
     "text": [
      "1+2\n"
     ]
    }
   ],
   "source": [
    "print(\"1\", \"2\", sep=\"+\")"
   ]
  },
  {
   "cell_type": "markdown",
   "metadata": {},
   "source": [
    "문자열 1과 2사이를 +기호로 구분했다.\n",
    "\n",
    "또한, end=\"\"를 이용해서 2개의 print()를 붙여서 출력할 수 있다."
   ]
  },
  {
   "cell_type": "code",
   "execution_count": 7,
   "metadata": {},
   "outputs": [
    {
     "name": "stdout",
     "output_type": "stream",
     "text": [
      "1-3?-2\n"
     ]
    }
   ],
   "source": [
    "print(\"1\", \"3\", sep=\"-\", end=\"?\")\n",
    "print(\"-2\")"
   ]
  },
  {
   "cell_type": "markdown",
   "metadata": {},
   "source": [
    "end=\"\"는 문장의 끝을 \" \"로 하겠다라는 의미이다.\n",
    "\n",
    "원래 print()를 출력하면 줄바꿈이 되어 나오는데, 여기서 보면 기본적으로 end=\"\\n\"라는 것을 알 수 있다."
   ]
  },
  {
   "cell_type": "code",
   "execution_count": 9,
   "metadata": {},
   "outputs": [
    {
     "name": "stdout",
     "output_type": "stream",
     "text": [
      "1 2\n"
     ]
    },
    {
     "name": "stderr",
     "output_type": "stream",
     "text": [
      "1 2\n"
     ]
    }
   ],
   "source": [
    "import sys\n",
    "print(\"1\", \"2\", file=sys.stdout) #표준 출력으로 처리함\n",
    "print(\"1\", \"2\", file=sys.stderr) #표준 에러로 처리함"
   ]
  },
  {
   "cell_type": "markdown",
   "metadata": {},
   "source": [
    "표준 에러는 우리가 로그 처리를 따로 한다고 할 때, 표준 출력에 대해서는 잘 출력되는 부분이다라고 할 수 있는데, 에러 처리는 확인을 해서 프로그램 코드를 수정하던가 해야 된다라고 로깅을 해놓는 것이다."
   ]
  },
  {
   "cell_type": "markdown",
   "metadata": {},
   "source": [
    "### 출력 포멧"
   ]
  },
  {
   "cell_type": "code",
   "execution_count": 12,
   "metadata": {},
   "outputs": [
    {
     "name": "stdout",
     "output_type": "stream",
     "text": [
      "김아현  : 1997\n",
      "이호림  : 1998\n",
      "김혜주  : 1998\n"
     ]
    }
   ],
   "source": [
    "birth = {\"김아현\" : 1997, \"이호림\" : 1998, \"김혜주\" : 1998}\n",
    "for name, year in birth.items():\n",
    "    print(name.ljust(5), str(year).rjust(5), sep=\":\")"
   ]
  },
  {
   "cell_type": "markdown",
   "metadata": {},
   "source": [
    "**items()**를 해주면 딕셔너리 안에 있는 **key와 value를 쌍으로 튜플에 보내준다.**\n",
    "\n",
    "key와 value를 정렬해주고 싶을 때 ljust()와 rjust()를 이용하면 된다.\n",
    "\n",
    "**ljust()** : 왼쪽으로 정렬해주는데, ()만큼 띄어주세요 라는 의미\n",
    "\n",
    "**rjust()** : 오른쪽으로 정렬해주는데, ()만큼 띄어주세요 라는 의미"
   ]
  },
  {
   "cell_type": "code",
   "execution_count": 13,
   "metadata": {},
   "outputs": [
    {
     "name": "stdout",
     "output_type": "stream",
     "text": [
      "대기번호 : 001\n",
      "대기번호 : 002\n",
      "대기번호 : 003\n",
      "대기번호 : 004\n",
      "대기번호 : 005\n",
      "대기번호 : 006\n",
      "대기번호 : 007\n",
      "대기번호 : 008\n",
      "대기번호 : 009\n",
      "대기번호 : 010\n",
      "대기번호 : 011\n",
      "대기번호 : 012\n",
      "대기번호 : 013\n",
      "대기번호 : 014\n",
      "대기번호 : 015\n",
      "대기번호 : 016\n",
      "대기번호 : 017\n",
      "대기번호 : 018\n",
      "대기번호 : 019\n",
      "대기번호 : 020\n",
      "대기번호 : 021\n",
      "대기번호 : 022\n",
      "대기번호 : 023\n",
      "대기번호 : 024\n",
      "대기번호 : 025\n",
      "대기번호 : 026\n",
      "대기번호 : 027\n",
      "대기번호 : 028\n",
      "대기번호 : 029\n",
      "대기번호 : 030\n",
      "대기번호 : 031\n",
      "대기번호 : 032\n",
      "대기번호 : 033\n",
      "대기번호 : 034\n",
      "대기번호 : 035\n",
      "대기번호 : 036\n",
      "대기번호 : 037\n",
      "대기번호 : 038\n",
      "대기번호 : 039\n",
      "대기번호 : 040\n",
      "대기번호 : 041\n",
      "대기번호 : 042\n",
      "대기번호 : 043\n",
      "대기번호 : 044\n",
      "대기번호 : 045\n",
      "대기번호 : 046\n",
      "대기번호 : 047\n",
      "대기번호 : 048\n",
      "대기번호 : 049\n",
      "대기번호 : 050\n"
     ]
    }
   ],
   "source": [
    "# 대기표\n",
    "# 001, 002, 003\n",
    "\n",
    "for num in range(1, 51):\n",
    "    print(\"대기번호 : \" + str(num).zfill(3))"
   ]
  },
  {
   "cell_type": "markdown",
   "metadata": {},
   "source": [
    "zfill()은 말 그대로 ()공간만큼 0으로 채우라는 의미이다."
   ]
  },
  {
   "cell_type": "code",
   "execution_count": 15,
   "metadata": {},
   "outputs": [
    {
     "name": "stdout",
     "output_type": "stream",
     "text": [
      "숫자를 입력하세요.12345\n",
      "입력하신 값은 12345입니다.\n"
     ]
    }
   ],
   "source": [
    "answer = input(\"숫자를 입력하세요.\")\n",
    "print(\"입력하신 값은 \" + answer + \"입니다.\")"
   ]
  },
  {
   "cell_type": "markdown",
   "metadata": {},
   "source": [
    "원래같으면 숫자를 출력할 때에는 answer을 str()로 감싸줘야 되는데, input으로 숫자를 받게 되면 str로 받기 때문에 print()에서 출력할 수 있다."
   ]
  },
  {
   "cell_type": "markdown",
   "metadata": {},
   "source": [
    "## 다양한 출력 포맷"
   ]
  },
  {
   "cell_type": "code",
   "execution_count": 24,
   "metadata": {},
   "outputs": [
    {
     "name": "stdout",
     "output_type": "stream",
     "text": [
      "       500\n",
      "      +500\n",
      "      -500\n",
      "500_______\n",
      "+10,000,000,000\n",
      "-10,000,000,000\n",
      "+10,000,000,000^^^^^^^^^^^^^^^\n",
      "1.666667\n",
      "1.67\n"
     ]
    }
   ],
   "source": [
    "# 빈 자리는 빈 공간으로 두고, 오른쪽 정렬을 하되, 총 10자리 공간을 확보\n",
    "print(\"{0: >10}\".format(500))\n",
    "\n",
    "#양수일 땐 +로 표시, 음수일 땐 -로 표시\n",
    "print(\"{0: >+10}\".format(500))\n",
    "print(\"{0: >-10}\".format(-500))\n",
    "\n",
    "#왼쪽 정렬하고, 빈칸을 _로 채움\n",
    "print(\"{0:_<10}\".format(500))\n",
    "\n",
    "#3자리마다 콤마를 찍어주기\n",
    "print(\"{0:+,}\".format(10000000000))\n",
    "print(\"{0:+,}\".format(-10000000000))\n",
    "\n",
    "#3자리마다 콤마 찍어주기, 부호도 붙이고, 자릿수 확보하기\n",
    "#돈이 많으면 행복하니까 빈 자리는 ^로 채우기\n",
    "print(\"{0:^<+30,}\".format(10000000000))\n",
    "\n",
    "#소수점 출력\n",
    "print(\"{0:f}\".format(5/3))\n",
    "\n",
    "#소수점 특정 자리까지만 표시\n",
    "print(\"{0:.2f}\".format(5/3))"
   ]
  },
  {
   "cell_type": "markdown",
   "metadata": {},
   "source": [
    "## 파일 입출력\n",
    "\n",
    "**open()**을 통해서 파일을 열 수 있다.\n",
    "\n",
    "open(\"파일명\",\"쓰기(w), 이어쓰기(a), 읽기(r)\", encoding=\"utf-8\")\n",
    "\n",
    "encoding=utf-8을 쓰지 않으면 한글이 깨질 수 있으니 넣는 걸 추천한다.\n",
    "\n",
    "또한, 파일을 열었을 경우 **close()**을 통해 닫아줘야 된다."
   ]
  },
  {
   "cell_type": "markdown",
   "metadata": {},
   "source": [
    "### 쓰기"
   ]
  },
  {
   "cell_type": "code",
   "execution_count": 25,
   "metadata": {},
   "outputs": [],
   "source": [
    "birth_file = open(\"birth.txt\", \"w\", encoding=\"utf-8\")\n",
    "print(\"김아현 : 1997\", file=birth_file)\n",
    "print(\"이호림 : 1998\", file=birth_file)\n",
    "birth_file.close()"
   ]
  },
  {
   "cell_type": "markdown",
   "metadata": {},
   "source": [
    "덮어쓰고 싶을 때에는 print()를 쓰지 않고 write()를 통해 바로 이어 쓸 수 있다.\n",
    "\n",
    "print()는 줄바꿈이 포함되어 있지만 write()에는 포함되어 있지 않기 때문에 \\n을 포함해준다."
   ]
  },
  {
   "cell_type": "markdown",
   "metadata": {},
   "source": [
    "### 덮어쓰기"
   ]
  },
  {
   "cell_type": "code",
   "execution_count": 26,
   "metadata": {},
   "outputs": [],
   "source": [
    "birth_file = open(\"birth.txt\", \"a\", encoding=\"utf-8\")\n",
    "birth_file.write(\"김혜주 : 1998\")\n",
    "birth_file.write(\"\\n박종현 : 1997\")\n",
    "birth_file.close()"
   ]
  },
  {
   "cell_type": "markdown",
   "metadata": {},
   "source": [
    "### 읽기"
   ]
  },
  {
   "cell_type": "markdown",
   "metadata": {},
   "source": [
    "#### 한 번에 읽기"
   ]
  },
  {
   "cell_type": "code",
   "execution_count": 27,
   "metadata": {},
   "outputs": [
    {
     "name": "stdout",
     "output_type": "stream",
     "text": [
      "김아현 : 1997\n",
      "이호림 : 1998\n",
      "김혜주 : 1998\n",
      "박종현 : 1997\n"
     ]
    }
   ],
   "source": [
    "birth_file = open('birth.txt', 'r', encoding='utf-8')\n",
    "print(birth_file.read())\n",
    "birth_file.close()"
   ]
  },
  {
   "cell_type": "markdown",
   "metadata": {},
   "source": [
    "#### 한 줄 한 줄 읽기\n",
    "\n",
    "한 줄 읽고 커서는 다음 줄로 이동한다."
   ]
  },
  {
   "cell_type": "code",
   "execution_count": 28,
   "metadata": {},
   "outputs": [
    {
     "name": "stdout",
     "output_type": "stream",
     "text": [
      "김아현 : 1997\n",
      "\n",
      "이호림 : 1998\n",
      "\n",
      "김혜주 : 1998\n",
      "\n",
      "박종현 : 1997\n"
     ]
    }
   ],
   "source": [
    "birth_file = open('birth.txt', 'r', encoding='utf-8')\n",
    "print(birth_file.readline())\n",
    "print(birth_file.readline())\n",
    "print(birth_file.readline())\n",
    "print(birth_file.readline())\n",
    "birth_file.close()"
   ]
  },
  {
   "cell_type": "code",
   "execution_count": 31,
   "metadata": {},
   "outputs": [
    {
     "name": "stdout",
     "output_type": "stream",
     "text": [
      "김아현 : 1997\n",
      "이호림 : 1998\n",
      "김혜주 : 1998\n",
      "박종현 : 1997"
     ]
    }
   ],
   "source": [
    "# 몇 줄인지 모를 때\n",
    "birth_file = open('birth.txt', 'r', encoding='utf-8')\n",
    "while True:\n",
    "    line = birth_file.readline()\n",
    "    if not line:\n",
    "        break # 반복문 탈출\n",
    "    print(line, end=\"\")\n",
    "birth_file.close()"
   ]
  },
  {
   "cell_type": "code",
   "execution_count": 33,
   "metadata": {},
   "outputs": [
    {
     "name": "stdout",
     "output_type": "stream",
     "text": [
      "김아현 : 1997\n",
      "\n",
      "이호림 : 1998\n",
      "\n",
      "김혜주 : 1998\n",
      "\n",
      "박종현 : 1997\n"
     ]
    }
   ],
   "source": [
    "# 몇 줄인지 모를 때 (list로 저장)\n",
    "birth_file = open('birth.txt', 'r', encoding='utf-8')\n",
    "lines = birth_file.readlines() # list 형태로 저장\n",
    "for line in lines:\n",
    "    print(line)\n",
    "birth_file.close()"
   ]
  },
  {
   "cell_type": "markdown",
   "metadata": {},
   "source": [
    "## Pickle\n",
    "\n",
    "프로그램 상에서 우리가 사용하고 있는 데이터를 파일 형태로 저장해준다.\n",
    "\n",
    "그 파일은 누군가에게 주면 피클을 이용해 파일을 가져와 코드에서 또 쓸 수 있다.\n",
    "\n",
    "open(\"파일명.pickle\", \"wb(쓰기), rb(읽기)\")\n",
    "\n",
    "pickle을 쓰기 위해서는 b를 입력해야 된다. b는 바이너리 타입이다.\n",
    "\n",
    "또한, pickle에서는 따로 encoding을 해줄 필요는 없다."
   ]
  },
  {
   "cell_type": "code",
   "execution_count": 35,
   "metadata": {},
   "outputs": [
    {
     "name": "stdout",
     "output_type": "stream",
     "text": [
      "{'이름': '김아현', '나이': 24, '취미': ['책 읽기', '코딩']}\n"
     ]
    }
   ],
   "source": [
    "import pickle\n",
    "profile_file = open(\"profile.pickle\", \"wb\")\n",
    "profile = {\"이름\":\"김아현\", \"나이\": 24, \"취미\": [\"책 읽기\", \"코딩\"]}\n",
    "print(profile)\n",
    "pickle.dump(profile, profile_file)\n",
    "profile_file.close()"
   ]
  },
  {
   "cell_type": "markdown",
   "metadata": {},
   "source": [
    "제일 중요한 부분은 pickle을 이용해서 이 데이터를 파일에다가 쓰는 것이다.\n",
    "\n",
    "pickle.dump()를 이용하면 된다.\n",
    "\n",
    "pickle.dump(쓸 내용, 파일명)\n",
    "\n",
    "위 예시에서는 profile에 있는 정보를 file에 저장"
   ]
  },
  {
   "cell_type": "markdown",
   "metadata": {},
   "source": [
    "### profile.pickle에서 데이터 가져오기\n",
    "\n",
    "pickle.load()를 이용해서 데이터를 가져온다.\n",
    "\n",
    "pickle.load(파일명)"
   ]
  },
  {
   "cell_type": "code",
   "execution_count": 37,
   "metadata": {},
   "outputs": [
    {
     "name": "stdout",
     "output_type": "stream",
     "text": [
      "{'이름': '김아현', '나이': 24, '취미': ['책 읽기', '코딩']}\n"
     ]
    }
   ],
   "source": [
    "profile_f = open(\"profile.pickle\", \"rb\")\n",
    "p = pickle.load(profile_f)\n",
    "print(p)\n",
    "profile_f.close()"
   ]
  },
  {
   "cell_type": "markdown",
   "metadata": {},
   "source": [
    "## with\n",
    "\n",
    "with를 쓰면 더 쉽게 데이터를 받아올 수 있다.\n",
    "\n",
    "열었던 파일을 닫아줄 필요가 없다."
   ]
  },
  {
   "cell_type": "code",
   "execution_count": 39,
   "metadata": {
    "collapsed": true
   },
   "outputs": [
    {
     "name": "stdout",
     "output_type": "stream",
     "text": [
      "{'이름': '김아현', '나이': 24, '취미': ['책 읽기', '코딩']}\n"
     ]
    }
   ],
   "source": [
    "import pickle\n",
    "\n",
    "with open(\"profile.pickle\", \"rb\") as profile: # profile이라는 변수에 파일을 저장한다.\n",
    "    print(pickle.load(profile)) # 불러오기"
   ]
  },
  {
   "cell_type": "markdown",
   "metadata": {},
   "source": [
    "파일 쓰기와 읽기도 with으로 할 수 있다."
   ]
  },
  {
   "cell_type": "code",
   "execution_count": 41,
   "metadata": {},
   "outputs": [],
   "source": [
    "with open(\"where.txt\", \"w\", encoding=\"utf-8\") as me:\n",
    "    me.write(\"스카에서 공부중입니다.\")"
   ]
  },
  {
   "cell_type": "code",
   "execution_count": 42,
   "metadata": {
    "scrolled": true
   },
   "outputs": [
    {
     "name": "stdout",
     "output_type": "stream",
     "text": [
      "스카에서 공부중입니다.\n"
     ]
    }
   ],
   "source": [
    "with open(\"where.txt\", \"r\", encoding=\"utf-8\") as me:\n",
    "    print(me.read())"
   ]
  },
  {
   "cell_type": "markdown",
   "metadata": {},
   "source": [
    "## Quiz"
   ]
  },
  {
   "cell_type": "code",
   "execution_count": 43,
   "metadata": {},
   "outputs": [
    {
     "name": "stdout",
     "output_type": "stream",
     "text": [
      "<_io.TextIOWrapper name='1주차.txt' mode='w' encoding='utf-8'>\n",
      "<_io.TextIOWrapper name='2주차.txt' mode='w' encoding='utf-8'>\n",
      "<_io.TextIOWrapper name='3주차.txt' mode='w' encoding='utf-8'>\n",
      "<_io.TextIOWrapper name='4주차.txt' mode='w' encoding='utf-8'>\n",
      "<_io.TextIOWrapper name='5주차.txt' mode='w' encoding='utf-8'>\n",
      "<_io.TextIOWrapper name='6주차.txt' mode='w' encoding='utf-8'>\n",
      "<_io.TextIOWrapper name='7주차.txt' mode='w' encoding='utf-8'>\n",
      "<_io.TextIOWrapper name='8주차.txt' mode='w' encoding='utf-8'>\n",
      "<_io.TextIOWrapper name='9주차.txt' mode='w' encoding='utf-8'>\n",
      "<_io.TextIOWrapper name='10주차.txt' mode='w' encoding='utf-8'>\n",
      "<_io.TextIOWrapper name='11주차.txt' mode='w' encoding='utf-8'>\n",
      "<_io.TextIOWrapper name='12주차.txt' mode='w' encoding='utf-8'>\n",
      "<_io.TextIOWrapper name='13주차.txt' mode='w' encoding='utf-8'>\n",
      "<_io.TextIOWrapper name='14주차.txt' mode='w' encoding='utf-8'>\n",
      "<_io.TextIOWrapper name='15주차.txt' mode='w' encoding='utf-8'>\n",
      "<_io.TextIOWrapper name='16주차.txt' mode='w' encoding='utf-8'>\n",
      "<_io.TextIOWrapper name='17주차.txt' mode='w' encoding='utf-8'>\n",
      "<_io.TextIOWrapper name='18주차.txt' mode='w' encoding='utf-8'>\n",
      "<_io.TextIOWrapper name='19주차.txt' mode='w' encoding='utf-8'>\n",
      "<_io.TextIOWrapper name='20주차.txt' mode='w' encoding='utf-8'>\n",
      "<_io.TextIOWrapper name='21주차.txt' mode='w' encoding='utf-8'>\n",
      "<_io.TextIOWrapper name='22주차.txt' mode='w' encoding='utf-8'>\n",
      "<_io.TextIOWrapper name='23주차.txt' mode='w' encoding='utf-8'>\n",
      "<_io.TextIOWrapper name='24주차.txt' mode='w' encoding='utf-8'>\n",
      "<_io.TextIOWrapper name='25주차.txt' mode='w' encoding='utf-8'>\n",
      "<_io.TextIOWrapper name='26주차.txt' mode='w' encoding='utf-8'>\n",
      "<_io.TextIOWrapper name='27주차.txt' mode='w' encoding='utf-8'>\n",
      "<_io.TextIOWrapper name='28주차.txt' mode='w' encoding='utf-8'>\n",
      "<_io.TextIOWrapper name='29주차.txt' mode='w' encoding='utf-8'>\n",
      "<_io.TextIOWrapper name='30주차.txt' mode='w' encoding='utf-8'>\n",
      "<_io.TextIOWrapper name='31주차.txt' mode='w' encoding='utf-8'>\n",
      "<_io.TextIOWrapper name='32주차.txt' mode='w' encoding='utf-8'>\n",
      "<_io.TextIOWrapper name='33주차.txt' mode='w' encoding='utf-8'>\n",
      "<_io.TextIOWrapper name='34주차.txt' mode='w' encoding='utf-8'>\n",
      "<_io.TextIOWrapper name='35주차.txt' mode='w' encoding='utf-8'>\n",
      "<_io.TextIOWrapper name='36주차.txt' mode='w' encoding='utf-8'>\n",
      "<_io.TextIOWrapper name='37주차.txt' mode='w' encoding='utf-8'>\n",
      "<_io.TextIOWrapper name='38주차.txt' mode='w' encoding='utf-8'>\n",
      "<_io.TextIOWrapper name='39주차.txt' mode='w' encoding='utf-8'>\n",
      "<_io.TextIOWrapper name='40주차.txt' mode='w' encoding='utf-8'>\n",
      "<_io.TextIOWrapper name='41주차.txt' mode='w' encoding='utf-8'>\n",
      "<_io.TextIOWrapper name='42주차.txt' mode='w' encoding='utf-8'>\n",
      "<_io.TextIOWrapper name='43주차.txt' mode='w' encoding='utf-8'>\n",
      "<_io.TextIOWrapper name='44주차.txt' mode='w' encoding='utf-8'>\n",
      "<_io.TextIOWrapper name='45주차.txt' mode='w' encoding='utf-8'>\n",
      "<_io.TextIOWrapper name='46주차.txt' mode='w' encoding='utf-8'>\n",
      "<_io.TextIOWrapper name='47주차.txt' mode='w' encoding='utf-8'>\n",
      "<_io.TextIOWrapper name='48주차.txt' mode='w' encoding='utf-8'>\n",
      "<_io.TextIOWrapper name='49주차.txt' mode='w' encoding='utf-8'>\n",
      "<_io.TextIOWrapper name='50주차.txt' mode='w' encoding='utf-8'>\n"
     ]
    }
   ],
   "source": [
    "for day in range(1, 51):\n",
    "    with open(\"{0}주차.txt\".format(day), \"w\", encoding=\"utf-8\") as study:\n",
    "        study.write(\"-{0}주차 중간 보고-\\n부서:학생\\n이름 : kah\\n업무 요약 : 시험 공부중~~\".format(day))\n",
    "    print(study)"
   ]
  }
 ],
 "metadata": {
  "kernelspec": {
   "display_name": "Python 3",
   "language": "python",
   "name": "python3"
  },
  "language_info": {
   "codemirror_mode": {
    "name": "ipython",
    "version": 3
   },
   "file_extension": ".py",
   "mimetype": "text/x-python",
   "name": "python",
   "nbconvert_exporter": "python",
   "pygments_lexer": "ipython3",
   "version": "3.6.4"
  }
 },
 "nbformat": 4,
 "nbformat_minor": 2
}
