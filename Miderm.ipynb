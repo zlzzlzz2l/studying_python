{
 "cells": [
  {
   "cell_type": "code",
   "execution_count": 1,
   "metadata": {},
   "outputs": [
    {
     "name": "stdout",
     "output_type": "stream",
     "text": [
      "4\n"
     ]
    }
   ],
   "source": [
    "f = 0.2467 * 1.2 + 4.159\n",
    "print(int(f))"
   ]
  },
  {
   "cell_type": "markdown",
   "metadata": {},
   "source": [
    "==, != 는 값 자체를 비교, is와 is nost은 객체(object)를 비교"
   ]
  },
  {
   "cell_type": "code",
   "execution_count": 5,
   "metadata": {
    "scrolled": true
   },
   "outputs": [
    {
     "name": "stdout",
     "output_type": "stream",
     "text": [
      "False\n",
      "True\n",
      "False\n",
      "False\n"
     ]
    },
    {
     "name": "stderr",
     "output_type": "stream",
     "text": [
      "<>:5: SyntaxWarning: \"is\" with a literal. Did you mean \"==\"?\n",
      "<>:7: SyntaxWarning: \"is\" with a literal. Did you mean \"==\"?\n",
      "<>:9: SyntaxWarning: \"is\" with a literal. Did you mean \"==\"?\n",
      "<>:5: SyntaxWarning: \"is\" with a literal. Did you mean \"==\"?\n",
      "<>:7: SyntaxWarning: \"is\" with a literal. Did you mean \"==\"?\n",
      "<>:9: SyntaxWarning: \"is\" with a literal. Did you mean \"==\"?\n",
      "<ipython-input-5-ddafba839fa8>:5: SyntaxWarning: \"is\" with a literal. Did you mean \"==\"?\n",
      "  print(2 * 3 is 3 + 3)\n",
      "<ipython-input-5-ddafba839fa8>:7: SyntaxWarning: \"is\" with a literal. Did you mean \"==\"?\n",
      "  print(8 is 4 * 2.0)\n",
      "<ipython-input-5-ddafba839fa8>:9: SyntaxWarning: \"is\" with a literal. Did you mean \"==\"?\n",
      "  print(5 is 6 - 1.1)\n"
     ]
    }
   ],
   "source": [
    "#print(6 = 2*6)\n",
    "\n",
    "print(4 != 2+2)\n",
    "\n",
    "print(2 * 3 is 3 + 3)\n",
    "\n",
    "print(8 is 4 * 2.0)\n",
    "\n",
    "print(5 is 6 - 1.1)"
   ]
  },
  {
   "cell_type": "markdown",
   "metadata": {},
   "source": [
    "a[start : end : step]\n",
    "\n",
    "각각 start, end, step 모두 양수와 음수를 가질 수 있습니다.\n",
    "\n",
    "start: 슬라이싱을 시작할 시작위치입니다.\n",
    "\n",
    "end: 슬라이싱을 끝낼 위치로 end는 포함하지 않습니다!\n",
    "\n",
    "step: stride라고도 하며 몇개씩 끊어서 가져올지를 정합니다. (옵션)"
   ]
  },
  {
   "cell_type": "code",
   "execution_count": 7,
   "metadata": {},
   "outputs": [
    {
     "name": "stdout",
     "output_type": "stream",
     "text": [
      "Project: Apple, Price per unit : 5.25.\n"
     ]
    }
   ],
   "source": [
    "print(\"Project: {0}, Price per unit : {1:.2f}.\".format(\"Apple\", 5.245))"
   ]
  },
  {
   "cell_type": "markdown",
   "metadata": {},
   "source": [
    "round()를 이용해서 소수점을 끊어줄 수 있다고 생각했는데, :.2f으로도 소수점을 끊어줄 수 있다는 것을 알았다."
   ]
  },
  {
   "attachments": {},
   "cell_type": "markdown",
   "metadata": {},
   "source": [
    "### map(), filter()\n",
    "\n",
    "**map()** : map(적용시킬 함수, 적용할 요소들)\n",
    "\n",
    "map()함수는 반복가능한 iterable 객체를 받아서, 각 요소에 함수를 적용해주는 함수이다.\n",
    "\n",
    "적용시킬 함수가 재사용의 목적이 없다면, 람다 함수를 적용하는 게 좋다.\n",
    "\n",
    "만약 리스트 안에 있는 값들을 str 타입으로 변경하려면 적용시킬 함수에 str을 넣어주면 된다.\n",
    "\n",
    "**filter()** : filter(적용시킬 함수, 적용할 요소들)\n",
    "\n",
    "filter()함수는 특정 조건으로 걸러진 요소들을 iterator 객체를 만들어서 리턴해준다. map함수와 사용 방법은 동일하나, 함수의 결과가 참인지 거짓인지에 따라, 해당 요소를 포함할지를 결정한다.\n",
    "\n",
    "적용시킬 함수가재 사용할 이유가 없다면 람다 함수를 적용하는 게 좋다."
   ]
  },
  {
   "cell_type": "code",
   "execution_count": 1,
   "metadata": {},
   "outputs": [
    {
     "name": "stdout",
     "output_type": "stream",
     "text": [
      "s =  3\n",
      "s =  5\n",
      "s =  7\n",
      "s =  9\n",
      "s =  11\n"
     ]
    }
   ],
   "source": [
    "s = 1\n",
    "n = 2\n",
    "while s < 10:\n",
    "    s = s + n\n",
    "    print(\"s = \", s)"
   ]
  },
  {
   "cell_type": "code",
   "execution_count": 2,
   "metadata": {},
   "outputs": [
    {
     "name": "stdout",
     "output_type": "stream",
     "text": [
      "7\n",
      "14\n",
      "21\n",
      "28\n",
      "35\n",
      "42\n",
      "49\n"
     ]
    }
   ],
   "source": [
    "for i in range(7, 50, 7):\n",
    "    print(i)"
   ]
  },
  {
   "cell_type": "code",
   "execution_count": 3,
   "metadata": {},
   "outputs": [
    {
     "name": "stdout",
     "output_type": "stream",
     "text": [
      "     $\n",
      "     $\n",
      "     $\n",
      "     $\n",
      "     $\n",
      "     $\n",
      "     $\n",
      "     $\n",
      "     $\n",
      "     $\n",
      "     $\n",
      "     $\n",
      "     $\n",
      "     $\n"
     ]
    }
   ],
   "source": [
    "for i in range(2):\n",
    "    for j in range(7):\n",
    "        print(\"     $\")"
   ]
  },
  {
   "cell_type": "code",
   "execution_count": 4,
   "metadata": {},
   "outputs": [
    {
     "name": "stdout",
     "output_type": "stream",
     "text": [
      "55\n"
     ]
    }
   ],
   "source": [
    "a = 0\n",
    "for i in range(5):\n",
    "    a = a + 1\n",
    "    for j in range(5):\n",
    "        a = a + 2\n",
    "print(a)"
   ]
  },
  {
   "cell_type": "code",
   "execution_count": 5,
   "metadata": {},
   "outputs": [
    {
     "name": "stdout",
     "output_type": "stream",
     "text": [
      "0 1 2 3 4 5 "
     ]
    }
   ],
   "source": [
    "def pattern(n):\n",
    "    if n == 0 :\n",
    "        print(0, end=\" \")\n",
    "    else:\n",
    "        pattern(n - 1)\n",
    "        print(n, end=\" \")\n",
    "\n",
    "pattern(5)"
   ]
  },
  {
   "cell_type": "code",
   "execution_count": 6,
   "metadata": {},
   "outputs": [
    {
     "name": "stdout",
     "output_type": "stream",
     "text": [
      "i\n",
      "n\n"
     ]
    }
   ],
   "source": [
    "def what(word1 ,word2):\n",
    "    for letter in word1:\n",
    "        if letter not in word2:\n",
    "            print(letter)\n",
    "            \n",
    "what('pineapple', 'appletree')"
   ]
  },
  {
   "cell_type": "code",
   "execution_count": 7,
   "metadata": {},
   "outputs": [
    {
     "name": "stdout",
     "output_type": "stream",
     "text": [
      "44\n"
     ]
    }
   ],
   "source": [
    "import math\n",
    "def what(n):\n",
    "    sum = 0\n",
    "    for i in range(n+1):\n",
    "        sum = sum + math.factorial(i)\n",
    "    return sum\n",
    "\n",
    "print(what(4) + what(3))"
   ]
  },
  {
   "cell_type": "code",
   "execution_count": 8,
   "metadata": {},
   "outputs": [
    {
     "name": "stdout",
     "output_type": "stream",
     "text": [
      "ok\n"
     ]
    }
   ],
   "source": [
    "x = 5\n",
    "\n",
    "if x != 10:\n",
    "    print('ok')"
   ]
  },
  {
   "cell_type": "code",
   "execution_count": 10,
   "metadata": {},
   "outputs": [
    {
     "name": "stdout",
     "output_type": "stream",
     "text": [
      "불합격\n"
     ]
    }
   ],
   "source": [
    "written_test = 75\n",
    "coding_test = True\n",
    "\n",
    "if written_test >= 80 and coding_test == True:\n",
    "    print('합격')\n",
    "else:\n",
    "    print('불합격')"
   ]
  },
  {
   "cell_type": "code",
   "execution_count": 12,
   "metadata": {},
   "outputs": [
    {
     "name": "stdout",
     "output_type": "stream",
     "text": [
      "490 -170 250 1020 80 620 210 "
     ]
    }
   ],
   "source": [
    "x = [49, -17, 25, 102, 8, 62, 21]\n",
    "\n",
    "for i in x:\n",
    "    print(i*10, end=\" \")"
   ]
  },
  {
   "cell_type": "code",
   "execution_count": 15,
   "metadata": {},
   "outputs": [
    {
     "name": "stdout",
     "output_type": "stream",
     "text": [
      "2 5\n",
      "4 4\n",
      "8 3\n",
      "16 2\n",
      "32 1\n"
     ]
    }
   ],
   "source": [
    "i = 2\n",
    "j = 5\n",
    "\n",
    "while i <= 32 or j >= 1:\n",
    "    print(i, j)\n",
    "    i *= 2\n",
    "    j -= 1"
   ]
  },
  {
   "cell_type": "code",
   "execution_count": 19,
   "metadata": {},
   "outputs": [
    {
     "name": "stdout",
     "output_type": "stream",
     "text": [
      "['alpha', 'bravo', 'delta', 'hotel', 'india']\n"
     ]
    }
   ],
   "source": [
    "a = ['alpha', 'bravo', 'charlie', 'delta', 'echo', 'foxtrot', 'golf', 'hotel', 'india']\n",
    "b = [i for i in a if len(i) == 5]\n",
    "print(b)"
   ]
  },
  {
   "cell_type": "code",
   "execution_count": 21,
   "metadata": {},
   "outputs": [
    {
     "data": {
      "text/plain": [
       "(3, 1)"
      ]
     },
     "execution_count": 21,
     "metadata": {},
     "output_type": "execute_result"
    }
   ],
   "source": [
    "x = 10\n",
    "y = 3\n",
    "\n",
    "def get(a,b):\n",
    "    return a//b, a%b\n",
    "\n",
    "get(10,3)"
   ]
  },
  {
   "cell_type": "code",
   "execution_count": 23,
   "metadata": {
    "scrolled": true
   },
   "outputs": [
    {
     "name": "stdout",
     "output_type": "stream",
     "text": [
      "높은 점수 100\n",
      "높은 점수 91\n"
     ]
    }
   ],
   "source": [
    "korean, english, math, science = 100, 86, 81, 91\n",
    "\n",
    "def get_max_score(*args):\n",
    "    return max(args)\n",
    "\n",
    "max_score = get_max_score(korean, english, math, science)\n",
    "print(\"높은 점수\",  max_score)\n",
    "\n",
    "max_score = get_max_score(english, science)\n",
    "print(\"높은 점수\", max_score)"
   ]
  },
  {
   "cell_type": "code",
   "execution_count": 24,
   "metadata": {},
   "outputs": [
    {
     "name": "stdout",
     "output_type": "stream",
     "text": [
      "False\n",
      "True\n"
     ]
    }
   ],
   "source": [
    "def is_palindrome(word):\n",
    "    if len(word) < 2:\n",
    "        return True\n",
    "    if word[0] != word[-1]:\n",
    "        return False\n",
    "    return is_palindrome(word[1:-1])\n",
    "\n",
    "print(is_palindrome('hello'))\n",
    "print(is_palindrome('level'))"
   ]
  },
  {
   "cell_type": "code",
   "execution_count": 25,
   "metadata": {},
   "outputs": [
    {
     "name": "stdout",
     "output_type": "stream",
     "text": [
      "['1.png', '10.jpg', '2.jpg', '3.png']\n"
     ]
    }
   ],
   "source": [
    "files = ['font', '1.png', '10.jpg', '11.gif', '2.jpg', '3.png', 'table.xslx', 'spec.docx']\n",
    "\n",
    "print(list(filter(lambda x: x.find('.jpg') != -1 or x.find('.png') != -1, files)))"
   ]
  },
  {
   "cell_type": "code",
   "execution_count": 26,
   "metadata": {},
   "outputs": [
    {
     "name": "stdout",
     "output_type": "stream",
     "text": [
      "[0, 1]\n"
     ]
    }
   ],
   "source": [
    "def spam(eggs):\n",
    "    eggs.append(1)\n",
    "    \n",
    "    eggs = [2, 3]\n",
    "    \n",
    "ham = [0]\n",
    "spam(ham)\n",
    "print(ham)"
   ]
  },
  {
   "cell_type": "code",
   "execution_count": 27,
   "metadata": {
    "scrolled": true
   },
   "outputs": [
    {
     "name": "stdout",
     "output_type": "stream",
     "text": [
      "1010 \n"
     ]
    }
   ],
   "source": [
    "decimal = 10\n",
    "result = ' '\n",
    "while(decimal > 0):\n",
    "    remainder = decimal % 2\n",
    "    decimal = decimal // 2\n",
    "    result = str(remainder) + result\n",
    "print(result)"
   ]
  },
  {
   "cell_type": "code",
   "execution_count": 30,
   "metadata": {},
   "outputs": [
    {
     "name": "stdout",
     "output_type": "stream",
     "text": [
      "숫자를 입력하세요. : 20\n",
      "10100 \n"
     ]
    }
   ],
   "source": [
    "decimal1 = int(input('숫자를 입력하세요. : '))\n",
    "result1 = ' '\n",
    "while (decimal1 > 0):\n",
    "    remainder1 = decimal1 % 2\n",
    "    decimal1 = decimal1 // 2\n",
    "    result1 = str(remainder1) + result1\n",
    "print(result1)"
   ]
  }
 ],
 "metadata": {
  "kernelspec": {
   "display_name": "Python 3",
   "language": "python",
   "name": "python3"
  },
  "language_info": {
   "codemirror_mode": {
    "name": "ipython",
    "version": 3
   },
   "file_extension": ".py",
   "mimetype": "text/x-python",
   "name": "python",
   "nbconvert_exporter": "python",
   "pygments_lexer": "ipython3",
   "version": "3.8.3"
  }
 },
 "nbformat": 4,
 "nbformat_minor": 4
}
