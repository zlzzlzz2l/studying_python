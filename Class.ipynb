{
 "cells": [
  {
   "cell_type": "markdown",
   "metadata": {},
   "source": [
    "## 던전앤파이터"
   ]
  },
  {
   "cell_type": "code",
   "execution_count": 6,
   "metadata": {},
   "outputs": [
    {
     "name": "stdout",
     "output_type": "stream",
     "text": [
      "레인저 캐릭터가 생성되었습니다.\n",
      "체력 100, 공격력 5\n",
      "\n",
      "귀검사 캐릭터가 생성되었습니다.\n",
      "체력 200, 공격력 25\n",
      "\n",
      "귀검사 캐릭터가 생성되었습니다.\n",
      "체력 200, 공격력 25\n",
      "\n"
     ]
    }
   ],
   "source": [
    "# 레인저 : 공격\n",
    "name = \"레인저\" # 캐릭터 이름\n",
    "hp = 100 # 체력\n",
    "damage = 5 # 공격력\n",
    "\n",
    "print(\"{0} 캐릭터가 생성되었습니다.\".format(name))\n",
    "print(\"체력 {0}, 공격력 {1}\\n\".format(hp, damage))\n",
    "\n",
    "# 귀검사 : 공격, 여/남\n",
    "ghost_name = \"귀검사\"\n",
    "ghost_hp = 200\n",
    "ghost_damage = 25\n",
    "\n",
    "print(\"{0} 캐릭터가 생성되었습니다.\".format(ghost_name))\n",
    "print(\"체력 {0}, 공격력 {1}\\n\".format(ghost_hp, ghost_damage))\n",
    "\n",
    "# 귀검사 : 공격, 여/남\n",
    "ghost2_name = \"귀검사\"\n",
    "ghost2_hp = 200\n",
    "ghost2_damage = 25\n",
    "\n",
    "print(\"{0} 캐릭터가 생성되었습니다.\".format(ghost2_name))\n",
    "print(\"체력 {0}, 공격력 {1}\\n\".format(ghost2_hp, ghost2_damage))"
   ]
  },
  {
   "cell_type": "code",
   "execution_count": 7,
   "metadata": {},
   "outputs": [
    {
     "name": "stdout",
     "output_type": "stream",
     "text": [
      "레인저 : 오른쪽 방향으로 몬스터를 처치합니다. [공격력 5]\n",
      "귀검사 : 왼쪽 방향으로 몬스터를 처치합니다. [공격력 25]\n",
      "귀검사 : 왼쪽 방향으로 몬스터를 처치합니다. [공격력 25]\n"
     ]
    }
   ],
   "source": [
    "def attack(name, location, damage):\n",
    "    print(\"{0} : {1} 방향으로 몬스터를 처치합니다. [공격력 {2}]\".format( \\\n",
    "        name, location, damage))\n",
    "    \n",
    "attack(name, \"오른쪽\", damage)\n",
    "attack(ghost_name, \"왼쪽\", ghost_damage)\n",
    "attack(ghost2_name, \"왼쪽\", ghost2_damage)"
   ]
  },
  {
   "cell_type": "markdown",
   "metadata": {},
   "source": [
    "게임을 할 때 캐릭터는 수만가지인데 위처럼 계속 써줄 순 없다.\n",
    "\n",
    "그래서 이럴 때에는 **클래스**를 이용해야 한다.\n",
    "\n",
    "클래스는 붕어빵 틀에 비유를 한다.\n",
    "\n",
    "틀은 하나지만 붕어빵을 여러개 만들 수 있기 때문이다.\n",
    "\n",
    "**클래스**도 **하나의 틀**이라고 생각하면 되고, **서로 연관있는 변수와 함수의 집합** 정도로 이해하면 된다.\n",
    "\n",
    "클래스를 생성할 때에는<br>\n",
    "Class 클래스명:<br>\n",
    "    def __init__(self, 변수1, 변수2):<br>\n",
    "        self.변수1 = 변수1<br>\n",
    "        self.변수2 = 변수2"
   ]
  },
  {
   "cell_type": "code",
   "execution_count": 9,
   "metadata": {},
   "outputs": [
    {
     "name": "stdout",
     "output_type": "stream",
     "text": [
      "레인저 캐릭터가 생성되었습니다.\n",
      "체력 100, 공격력 5\n",
      "귀검사 캐릭터가 생성되었습니다.\n",
      "체력 200, 공격력 25\n",
      "귀검사 캐릭터가 생성되었습니다.\n",
      "체력 200, 공격력 25\n"
     ]
    }
   ],
   "source": [
    "class c:\n",
    "    def __init__(self, name, hp, damage):\n",
    "        self.name = name\n",
    "        self.hp = hp\n",
    "        self.damage = damage\n",
    "        print(\"{0} 캐릭터가 생성되었습니다.\".format(self.name))\n",
    "        print(\"체력 {0}, 공격력 {1}\".format(self.hp, self.damage))\n",
    "\n",
    "g = c(\"레인저\", 100, 5)\n",
    "g1 = c(\"귀검사\", 200, 25)\n",
    "g2 = c(\"귀검사\", 200, 25)"
   ]
  },
  {
   "cell_type": "markdown",
   "metadata": {},
   "source": [
    "## __init__\n",
    "\n",
    "파이썬에서 쓰이는 생성자다.\n",
    "\n",
    "위에서 선언한 g, g1, g2 같은 객체가 만들어질 때 자동으로 호출되는 부분이다.\n",
    "\n",
    "방금 객체라고 말했는데, 클래스로부터 생성되는 것을 객체라고 한다.\n",
    "\n",
    "g, g1, g2는 c라는 클래스의 인스턴스라고 한다.\n",
    "\n",
    "__init__ 에 있는 인자만큼 (ex) name, hp, damage) 인스턴스의 매개변수도 생성해줘야 된다."
   ]
  },
  {
   "cell_type": "markdown",
   "metadata": {},
   "source": [
    "## 멤버 변수\n",
    "\n",
    "위 코드 부분과 같이 self.name, self.hp, self.damage가 멤버 변수이다.\n",
    "\n",
    "멤버 변수라고 하면 클래스 내에서 생성된 변수이고, 그 변수를 가지고 초기화도 할 수 있고 실제로 쓸 수도 있다."
   ]
  },
  {
   "cell_type": "code",
   "execution_count": 11,
   "metadata": {},
   "outputs": [
    {
     "name": "stdout",
     "output_type": "stream",
     "text": [
      "마법사 캐릭터가 생성되었습니다.\n",
      "체력 70, 공격력 5\n",
      "캐릭터 이름 : 마법사, 공격력 : 5\n"
     ]
    }
   ],
   "source": [
    "# 마법사\n",
    "m = c(\"마법사\", 70, 5)\n",
    "print(\"캐릭터 이름 : {0}, 공격력 : {1}\".format(m.name, m.damage))"
   ]
  },
  {
   "cell_type": "markdown",
   "metadata": {},
   "source": [
    "위와 같이 클래스 밖에서 멤버 변수를 사용할 수 있다.\n",
    "\n",
    "**.**을 이용해서 접근할 수 있다.\n",
    "\n",
    "또한, **파이썬에서는 객체에서 추가로 외부 변수**를 만들 수 있다."
   ]
  },
  {
   "cell_type": "code",
   "execution_count": 13,
   "metadata": {},
   "outputs": [
    {
     "name": "stdout",
     "output_type": "stream",
     "text": [
      "마법사가 상대팀을 조종 중 캐릭터가 생성되었습니다.\n",
      "체력 70, 공격력 5\n",
      "마법사가 상대팀을 조종 중입니다.\n"
     ]
    }
   ],
   "source": [
    "m1 = c(\"마법사가 상대팀을 조종 중\", \"70\", \"5\")\n",
    "m1.drive = True\n",
    "\n",
    "if m1.drive == True:\n",
    "    print(\"{0}입니다.\".format(m1.name))"
   ]
  },
  {
   "cell_type": "markdown",
   "metadata": {},
   "source": [
    "클래스 외부에서 변수를 확장할 수 있다.\n",
    "\n",
    "m1한테는 drive라는 변수가 있지만, m한테는 drive라는 변수가 없기 때문에 위 구문이 실행되지 않는다."
   ]
  },
  {
   "cell_type": "markdown",
   "metadata": {},
   "source": [
    "## 메소드\n",
    "\n",
    "**self**는 **자기 자신**을 의미한다.\n",
    "\n",
    "메소드 앞에는 항상 self를 입력해줘야 한다.\n",
    "\n",
    "아래에서 attack과 attacked 라는 메소드를 만들어보자"
   ]
  },
  {
   "cell_type": "code",
   "execution_count": 17,
   "metadata": {
    "scrolled": true
   },
   "outputs": [
    {
     "name": "stdout",
     "output_type": "stream",
     "text": [
      "런처 : 왼쪽 방향으로 몬스터를 처치합니다. [공격력 16]\n",
      "런처 : 25 데미지를 입었습니다.\n",
      "런처 : 현재 체력은 25입니다.\n",
      "런처 : 25 데미지를 입었습니다.\n",
      "런처 : 현재 체력은 0입니다.\n",
      "런처 : 죽었습니다.\n"
     ]
    }
   ],
   "source": [
    "class attackC:\n",
    "    def __init__(self, name, hp, damage):\n",
    "        self.name = name # 오른쪽 name은 __init__에서 받음\n",
    "        self.hp = hp\n",
    "        self.damage = damage\n",
    "    def attack(self, location):\n",
    "        print(\"{0} : {1} 방향으로 몬스터를 처치합니다. [공격력 {2}]\"\\\n",
    "              .format(self.name, location, self.damage))\n",
    "    def attacked(self, damage):\n",
    "        print(\"{0} : {1} 데미지를 입었습니다.\".format(self.name, damage))\n",
    "        self.hp -= damage\n",
    "        print(\"{0} : 현재 체력은 {1}입니다.\".format(self.name, self.hp))\n",
    "        if self.hp <= 0:\n",
    "            print(\"{0} : 죽었습니다.\".format(self.name))\n",
    "\n",
    "#런처\n",
    "r = attackC(\"런처\", 50, 16)\n",
    "r.attack(\"왼쪽\")\n",
    "\n",
    "# 런처가 공격받음\n",
    "r.attacked(25)\n",
    "r.attacked(25)"
   ]
  },
  {
   "cell_type": "markdown",
   "metadata": {},
   "source": [
    "## 상속\n",
    "\n",
    "상속은 말 그대로 물려받는 걸 의미한다.\n",
    "\n",
    "class 클래스명(상속받고싶은 클래스명)"
   ]
  },
  {
   "cell_type": "code",
   "execution_count": 24,
   "metadata": {
    "scrolled": true
   },
   "outputs": [
    {
     "name": "stdout",
     "output_type": "stream",
     "text": [
      "런처 : 왼쪽 방향으로 몬스터를 처치합니다. [공격력 16]\n",
      "런처 : 25 데미지를 입었습니다.\n",
      "런처 : 현재 체력은 25입니다.\n",
      "런처 : 25 데미지를 입었습니다.\n",
      "런처 : 현재 체력은 0입니다.\n",
      "런처 : 죽었습니다.\n"
     ]
    }
   ],
   "source": [
    "# 일반 캐릭터\n",
    "class basic:\n",
    "    def __init__(self, name, hp, speed):\n",
    "        self.name = name\n",
    "        self.hp = hp\n",
    "        self.speed = speed\n",
    "        \n",
    "    def move(self, location):\n",
    "        print(\"캐릭터가 움직입니다.\")\n",
    "        print(\"{0} : {1} 방향으로 움직입니다. [속도 {2}]\".\\\n",
    "             format(self.name, self.hp, self.speed))\n",
    "        \n",
    "class attackChar(basic): # 상속하고 싶은 클래스명을 넣어줌\n",
    "    def __init__(self, name, hp, damage, speed):\n",
    "        basic.__init__(self, name, hp ,speed) # 상속함\n",
    "        self.damage = damage\n",
    "    def attack(self, location):\n",
    "        print(\"{0} : {1} 방향으로 몬스터를 처치합니다. [공격력 {2}]\"\\\n",
    "              .format(self.name, location, self.damage))\n",
    "    def attacked(self, damage):\n",
    "        print(\"{0} : {1} 데미지를 입었습니다.\".format(self.name, damage))\n",
    "        self.hp -= damage\n",
    "        print(\"{0} : 현재 체력은 {1}입니다.\".format(self.name, self.hp))\n",
    "        if self.hp <= 0:\n",
    "            print(\"{0} : 죽었습니다.\".format(self.name))\n",
    "\n",
    "#런처\n",
    "r = attackC(\"런처\", 50, 16)\n",
    "r.attack(\"왼쪽\")\n",
    "\n",
    "# 런처가 공격받음\n",
    "r.attacked(25)\n",
    "r.attacked(25)"
   ]
  },
  {
   "cell_type": "markdown",
   "metadata": {},
   "source": [
    "## 다중 상속\n",
    "\n",
    "**상속해주는 클래스**를 **부모 클래스**, **상속받는 클래스**를 **자식 클래스**라고 한다.\n",
    "\n",
    "**다중 상속**이라고 하면 **부모 클래스가 여러개인 것**을 의미한다.\n",
    "\n",
    "다중 상속을 받을 때에는 **,**로 구분하면 된다."
   ]
  },
  {
   "cell_type": "code",
   "execution_count": 32,
   "metadata": {
    "scrolled": true
   },
   "outputs": [
    {
     "name": "stdout",
     "output_type": "stream",
     "text": [
      "프리스트 : 오른 쪽에 있는 캐릭터를 회복시킵니다. [속도 5]\n"
     ]
    }
   ],
   "source": [
    "class uphp:\n",
    "    def __init__(self, speed_up):\n",
    "        self.speed_up = speed_up\n",
    "    def up(self, name, location):\n",
    "        print(\"{0} : {1} 쪽에 있는 캐릭터를 회복시킵니다. [속도 {2}]\".\\\n",
    "             format(name, location, self.speed_up))\n",
    "        \n",
    "class UpHpAttackChar(attackChar, uphp):\n",
    "    def __init__(self, name, hp, damage, speed_up):\n",
    "        attackChar.__init__(self, name, hp, damage, 0) #상속 받은 speed 변수를 0으로 처리\n",
    "        uphp.__init__(self, speed_up)\n",
    "    def move(self, location):\n",
    "        print(\"[캐릭터가 이동합니다.]\")\n",
    "        self.up(self.name, location)\n",
    "        \n",
    "pre = UpHpAttackChar(\"프리스트\", 100, 7, 5)\n",
    "pre.up(pre.name, \"오른\")"
   ]
  },
  {
   "cell_type": "markdown",
   "metadata": {},
   "source": [
    "## 메소드 오버라이딩\n",
    "\n",
    "부모 클래스에서 정의한 메소드 말고, 자식 클래스에서 정의한 메소드를 이용하고 싶을 때 메소드를 새롭게 정의해서 사용할 수 있는데 이것을 메소드 오버라이딩이라고 한다."
   ]
  },
  {
   "cell_type": "code",
   "execution_count": 35,
   "metadata": {
    "scrolled": true
   },
   "outputs": [
    {
     "name": "stdout",
     "output_type": "stream",
     "text": [
      "캐릭터가 움직입니다.\n",
      "격투가 : 100 방향으로 움직입니다. [속도 10]\n",
      "[캐릭터가 이동합니다.]\n",
      "도적 : 오른쪽 쪽에 있는 캐릭터를 회복시킵니다. [속도 5]\n"
     ]
    }
   ],
   "source": [
    "f = attackChar(\"격투가\", 100, 10, 10)\n",
    "d = UpHpAttackChar(\"도적\", 200, 25, 5)\n",
    "\n",
    "f.move(\"왼쪽\")\n",
    "#d.up(d.name, \"오른쪽\")\n",
    "d.move(\"오른쪽\") #move 함수를 재정의했다."
   ]
  },
  {
   "cell_type": "markdown",
   "metadata": {},
   "source": [
    "## pass\n",
    "\n",
    "pass의 의미는 일단 아무것도 안하고 그냥 넘어간다는 의미이다."
   ]
  },
  {
   "cell_type": "code",
   "execution_count": 37,
   "metadata": {},
   "outputs": [
    {
     "name": "stdout",
     "output_type": "stream",
     "text": [
      "[알림창] 새로운 게임을 시작합니다.\n"
     ]
    }
   ],
   "source": [
    "class Building(basic):\n",
    "    def __init__(self, name, hp, location):\n",
    "        pass # pass를 씀으로 일단 완성된 것처럼 보인다.\n",
    "    \n",
    "b = Building(\"건물명\", 300, \"왼쪽\")\n",
    "\n",
    "def start():\n",
    "    print(\"[알림창] 새로운 게임을 시작합니다.\")\n",
    "    \n",
    "def gameover():\n",
    "    pass\n",
    "\n",
    "start()\n",
    "gameover()"
   ]
  },
  {
   "cell_type": "markdown",
   "metadata": {},
   "source": [
    "## super"
   ]
  },
  {
   "cell_type": "code",
   "execution_count": 38,
   "metadata": {},
   "outputs": [],
   "source": [
    "class Building(basic):\n",
    "    def __init__(self, name, hp, location):\n",
    "        basic.__init__(self, name, hp, 0)\n",
    "        self.location = location"
   ]
  },
  {
   "cell_type": "markdown",
   "metadata": {},
   "source": [
    "위와 같이 정의할 수도 있지만 **super()**을 통해서 정의할 수 있다.\n",
    "\n",
    "하지만 super()을 쓰면 ()을 붙여야 되고, self를 뺀다.\n",
    "\n",
    "하지만 super()을 쓰면 다중상속 때 문제가 된다."
   ]
  },
  {
   "cell_type": "code",
   "execution_count": 39,
   "metadata": {},
   "outputs": [],
   "source": [
    "class Building(basic):\n",
    "    def __init__(self, name, hp, location):\n",
    "        super().__init__(name, hp, 0)\n",
    "        self.location = location"
   ]
  },
  {
   "cell_type": "code",
   "execution_count": 42,
   "metadata": {},
   "outputs": [
    {
     "name": "stdout",
     "output_type": "stream",
     "text": [
      "a입니다.\n"
     ]
    }
   ],
   "source": [
    "class a:\n",
    "    def __init__(self):\n",
    "        print(\"a입니다.\")\n",
    "        \n",
    "class b:\n",
    "    def __init__(self):\n",
    "        print(\"b입니다.\")\n",
    "        \n",
    "class ab(a, b):\n",
    "    def __init__(self):\n",
    "        super().__init__()\n",
    "    \n",
    "d = ab()"
   ]
  },
  {
   "cell_type": "markdown",
   "metadata": {},
   "source": [
    "a와 b 클래스 둘 다 다중 상속을 받았어도 super()을 쓰면 a밖에 a밖에 출력되지 않는다.\n",
    "\n",
    "만약 상속 위치를 바꾼다면"
   ]
  },
  {
   "cell_type": "code",
   "execution_count": 43,
   "metadata": {},
   "outputs": [
    {
     "name": "stdout",
     "output_type": "stream",
     "text": [
      "b입니다.\n"
     ]
    }
   ],
   "source": [
    "class a:\n",
    "    def __init__(self):\n",
    "        print(\"a입니다.\")\n",
    "        \n",
    "class b:\n",
    "    def __init__(self):\n",
    "        print(\"b입니다.\")\n",
    "        \n",
    "class ab(b, a):\n",
    "    def __init__(self):\n",
    "        super().__init__()\n",
    "    \n",
    "d = ab()"
   ]
  },
  {
   "cell_type": "markdown",
   "metadata": {},
   "source": [
    "b만 출력된다.\n",
    "\n",
    "그래서 다중 상속을 할 때는 super()을 쓰지 않고 따로따로 선언해줘야 된다."
   ]
  },
  {
   "cell_type": "code",
   "execution_count": 44,
   "metadata": {},
   "outputs": [
    {
     "name": "stdout",
     "output_type": "stream",
     "text": [
      "a입니다.\n",
      "b입니다.\n"
     ]
    }
   ],
   "source": [
    "class a:\n",
    "    def __init__(self):\n",
    "        print(\"a입니다.\")\n",
    "        \n",
    "class b:\n",
    "    def __init__(self):\n",
    "        print(\"b입니다.\")\n",
    "        \n",
    "class ab(a, b):\n",
    "    def __init__(self):\n",
    "        a.__init__(self)\n",
    "        b.__init__(self)\n",
    "    \n",
    "d = ab()"
   ]
  },
  {
   "cell_type": "markdown",
   "metadata": {},
   "source": [
    "## Quiz"
   ]
  },
  {
   "cell_type": "code",
   "execution_count": 54,
   "metadata": {},
   "outputs": [
    {
     "name": "stdout",
     "output_type": "stream",
     "text": [
      "강남 아파트 매매 10억 2010년\n",
      "마포 오피스텔 전세 5억 2007년\n",
      "송파 빌라 월세 500/50 2000년\n"
     ]
    }
   ],
   "source": [
    "class House:\n",
    "    # 매물 초기화\n",
    "    def __init__(self, location, house_type, deal_type, price, completion_year):\n",
    "        self.location = location\n",
    "        self.house_type = house_type\n",
    "        self.deal_type = deal_type\n",
    "        self.price = price\n",
    "        self.completion_year = completion_year\n",
    "    # 매물 정보 표시\n",
    "    def show_detail(self):\n",
    "        print(\"{0} {1} {2} {3} {4}\".format(self.location, self.house_type, self.deal_type, self.price, self.completion_year))\n",
    "\n",
    "b1 = House(\"강남\", \"아파트\", \"매매\", \"10억\", \"2010년\")\n",
    "b2 = House(\"마포\", \"오피스텔\", \"전세\", \"5억\", \"2007년\")\n",
    "b3 = House(\"송파\", \"빌라\", \"월세\", \"500/50\", \"2000년\")\n",
    "\n",
    "b1.show_detail()\n",
    "b2.show_detail()\n",
    "b3.show_detail()"
   ]
  },
  {
   "cell_type": "markdown",
   "metadata": {},
   "source": [
    "위 퀴즈에서 매물 정보 표시할 때 문자열이 없으니 그냥 매게변수들만 출력했어도 됐다."
   ]
  }
 ],
 "metadata": {
  "kernelspec": {
   "display_name": "Python 3",
   "language": "python",
   "name": "python3"
  },
  "language_info": {
   "codemirror_mode": {
    "name": "ipython",
    "version": 3
   },
   "file_extension": ".py",
   "mimetype": "text/x-python",
   "name": "python",
   "nbconvert_exporter": "python",
   "pygments_lexer": "ipython3",
   "version": "3.6.4"
  }
 },
 "nbformat": 4,
 "nbformat_minor": 2
}
