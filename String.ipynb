{
 "cells": [
  {
   "cell_type": "markdown",
   "metadata": {},
   "source": [
    "## 문자열\n",
    "**' '(작은 따옴표)**와 **\" \"(큰 따옴표)**로 어떤 걸로 쓰든 문자열로 취급한다."
   ]
  },
  {
   "cell_type": "code",
   "execution_count": 1,
   "metadata": {},
   "outputs": [
    {
     "name": "stdout",
     "output_type": "stream",
     "text": [
      "My name is ahyun\n"
     ]
    }
   ],
   "source": [
    "sentence = 'My name is ahyun'\n",
    "print(sentence)"
   ]
  },
  {
   "cell_type": "code",
   "execution_count": 3,
   "metadata": {},
   "outputs": [
    {
     "name": "stdout",
     "output_type": "stream",
     "text": [
      "I'm studying Python\n"
     ]
    }
   ],
   "source": [
    "sentence1 = \"I'm studying Python\"\n",
    "print(sentence1)"
   ]
  },
  {
   "cell_type": "markdown",
   "metadata": {},
   "source": [
    "### 여러 문장 입력하기\n",
    "**\"\"\" \"\"\"** 큰 따옴표를 3개 입력하면 **줄바꿈한 여러 문장을 출력**할 수 있다."
   ]
  },
  {
   "cell_type": "code",
   "execution_count": 4,
   "metadata": {},
   "outputs": [
    {
     "name": "stdout",
     "output_type": "stream",
     "text": [
      "\n",
      "Hi, My name is ahyun.\n",
      "I'm studying Python.\n",
      "Python is easy until now\n",
      "\n"
     ]
    }
   ],
   "source": [
    "sentence2 = \"\"\"\n",
    "Hi, My name is ahyun.\n",
    "I'm studying Python.\n",
    "Python is easy until now\n",
    "\"\"\"\n",
    "print(sentence2)"
   ]
  },
  {
   "cell_type": "markdown",
   "metadata": {},
   "source": [
    "## 슬라이싱\n",
    "자신이 원하는 정보만 가져오는 것을 **슬라이싱**이라고 한다."
   ]
  },
  {
   "cell_type": "code",
   "execution_count": 5,
   "metadata": {},
   "outputs": [],
   "source": [
    "email = \"zlzzlzz2l@naver.com\""
   ]
  },
  {
   "cell_type": "markdown",
   "metadata": {},
   "source": [
    "위 이메일 정보에서 **@**만 가져오고 싶을 때\n",
    "\n",
    "**(Python에서의 index는 0부터 시작하고 대괄호를 이용한다.)**\n",
    "\n",
    "**@**는 **9번째**에 위치하고 있기 때문에 아래와 같이 작성한다."
   ]
  },
  {
   "cell_type": "code",
   "execution_count": 6,
   "metadata": {},
   "outputs": [
    {
     "name": "stdout",
     "output_type": "stream",
     "text": [
      "at : @\n"
     ]
    }
   ],
   "source": [
    "print(\"at : \" + email[9])"
   ]
  },
  {
   "cell_type": "markdown",
   "metadata": {},
   "source": [
    "만약 **아이디(zlzzlzz2l)**만 가져오고 싶을 때 <br>\n",
    "**어디서부터 어디(직전)까지**라고 명시할 때는 **:**를 이용한다.\n",
    "\n",
    "또한, **:**을 이용할 때에는 **끝나는 지점은 end point**를 포함하지 않는다."
   ]
  },
  {
   "cell_type": "code",
   "execution_count": 9,
   "metadata": {
    "scrolled": false
   },
   "outputs": [
    {
     "name": "stdout",
     "output_type": "stream",
     "text": [
      "ID : zlzzlzz2l\n"
     ]
    }
   ],
   "source": [
    "print(\"ID : \" + email[0:9])"
   ]
  },
  {
   "cell_type": "markdown",
   "metadata": {},
   "source": [
    "그래서 위 코드에서도 **l**이 위치한 곳은 **8번째 index**이지만\n",
    "index 9 직전까지로 입력해야 하기 때문에 **[0:9]**를 입력했다."
   ]
  },
  {
   "cell_type": "markdown",
   "metadata": {},
   "source": [
    "**.** 뒤에 **com**만 가져오고 싶을 때에도 마찬가지이다."
   ]
  },
  {
   "cell_type": "code",
   "execution_count": 10,
   "metadata": {},
   "outputs": [
    {
     "name": "stdout",
     "output_type": "stream",
     "text": [
      "after . : com\n"
     ]
    }
   ],
   "source": [
    "print(\"after . : \" + email[16:19])"
   ]
  },
  {
   "cell_type": "markdown",
   "metadata": {},
   "source": [
    "**아이디(zlzzlzz2l) 전체**를 가져오고 싶을 때 다른 방법이 존재한다. <br>\n",
    "굳이 처음 index부터 가져올 때 0을 쓰지 않고 **:**로 시작하면 된다."
   ]
  },
  {
   "cell_type": "code",
   "execution_count": 11,
   "metadata": {},
   "outputs": [
    {
     "name": "stdout",
     "output_type": "stream",
     "text": [
      "ID : zlzzlzz2l\n"
     ]
    }
   ],
   "source": [
    "print(\"ID : \" + email[:9])"
   ]
  },
  {
   "cell_type": "markdown",
   "metadata": {},
   "source": [
    "**어떤 index에서 문자열 끝까지** 가져오고 싶을 때에도 위와 비슷하다.\n",
    "\n",
    "naver.com만 가져오고 싶을 때"
   ]
  },
  {
   "cell_type": "code",
   "execution_count": 12,
   "metadata": {
    "scrolled": true
   },
   "outputs": [
    {
     "name": "stdout",
     "output_type": "stream",
     "text": [
      "company : naver.com\n"
     ]
    }
   ],
   "source": [
    "print(\"company : \" + email[10:])"
   ]
  },
  {
   "cell_type": "markdown",
   "metadata": {},
   "source": [
    "**뒤에서부터 문자열을 불러올 수도 있다.**\n",
    "\n",
    "**Python**에서는 **맨 뒤 index를 -1**로 본다.\n",
    "맨 뒤 그 다음은 -2\n",
    "즉, -1, -2, -3 ...\n",
    "\n",
    "만약 이메일 전체를 맨 뒤 9번째부터 끝까지 출력하고 싶다면"
   ]
  },
  {
   "cell_type": "code",
   "execution_count": 14,
   "metadata": {},
   "outputs": [
    {
     "name": "stdout",
     "output_type": "stream",
     "text": [
      "company : naver.com\n"
     ]
    }
   ],
   "source": [
    "print(\"company : \" + email[-9:])"
   ]
  },
  {
   "cell_type": "markdown",
   "metadata": {},
   "source": [
    "**index -9부터 끝까지 입력**해주면 된다."
   ]
  },
  {
   "cell_type": "markdown",
   "metadata": {},
   "source": [
    "## 문자열처리함수\n",
    "\n",
    "**lower()**은 모든 문자를 **소문자**로 바꿔준다.\n",
    "\n",
    "**upper()**은 모든 문자를 **대문자**로 바꿔준다."
   ]
  },
  {
   "cell_type": "code",
   "execution_count": 2,
   "metadata": {},
   "outputs": [
    {
     "name": "stdout",
     "output_type": "stream",
     "text": [
      "my name is kimahyun\n",
      "MY NAME IS KIMAHYUN\n"
     ]
    }
   ],
   "source": [
    "intro = \"My name is KimAHyun\"\n",
    "print(intro.lower())\n",
    "print(intro.upper())"
   ]
  },
  {
   "cell_type": "markdown",
   "metadata": {},
   "source": [
    "또한, **문자열 index**가 **대문자인지 소문자인지** boolean을 통해 알려주기도 한다.\n",
    "\n",
    "이 때는 **isupper()**와 **islower()**을 쓴다."
   ]
  },
  {
   "cell_type": "code",
   "execution_count": 4,
   "metadata": {},
   "outputs": [
    {
     "name": "stdout",
     "output_type": "stream",
     "text": [
      "True\n",
      "False\n"
     ]
    }
   ],
   "source": [
    "print(intro[0].isupper())\n",
    "print(intro[0].islower())"
   ]
  },
  {
   "cell_type": "markdown",
   "metadata": {},
   "source": [
    "**len()** : **문자열의 길이**를 알 수 있다."
   ]
  },
  {
   "cell_type": "code",
   "execution_count": 5,
   "metadata": {},
   "outputs": [
    {
     "name": "stdout",
     "output_type": "stream",
     "text": [
      "19\n"
     ]
    }
   ],
   "source": [
    "print(len(intro))"
   ]
  },
  {
   "cell_type": "markdown",
   "metadata": {},
   "source": [
    "위 문자열 My name is KimAHyun에서 이름 부분을 **다른 문자열로 바꾸고 싶을 때**에 **replace(\"바꿀 문자열\", \"바꾸고 싶은 문자열\")**을 쓰면 된다."
   ]
  },
  {
   "cell_type": "code",
   "execution_count": 6,
   "metadata": {},
   "outputs": [
    {
     "name": "stdout",
     "output_type": "stream",
     "text": [
      "My name is HoJu\n"
     ]
    }
   ],
   "source": [
    "print(intro.replace(\"KimAHyun\", \"HoJu\"))"
   ]
  },
  {
   "cell_type": "markdown",
   "metadata": {},
   "source": [
    "replace()를 썼다고 해서 변수값이 HoJu로 완전 바뀌는 건 아니다."
   ]
  },
  {
   "cell_type": "code",
   "execution_count": 7,
   "metadata": {},
   "outputs": [
    {
     "name": "stdout",
     "output_type": "stream",
     "text": [
      "My name is KimAHyun\n"
     ]
    }
   ],
   "source": [
    "print(intro)"
   ]
  },
  {
   "cell_type": "markdown",
   "metadata": {},
   "source": [
    "**index(\"문자\")** : 문자열 내에서 **찾고자 하는 문자**가 있을 때"
   ]
  },
  {
   "cell_type": "code",
   "execution_count": 8,
   "metadata": {},
   "outputs": [
    {
     "name": "stdout",
     "output_type": "stream",
     "text": [
      "3\n"
     ]
    }
   ],
   "source": [
    "index = intro.index(\"n\")\n",
    "print(index)"
   ]
  },
  {
   "cell_type": "markdown",
   "metadata": {},
   "source": [
    "**index(\"문자\", index + 1)** : intro라는 변수에는 n이 2개 있는데, 첫번째 n을 제외한 나머지 n을 찾고싶을 때"
   ]
  },
  {
   "cell_type": "code",
   "execution_count": 9,
   "metadata": {},
   "outputs": [
    {
     "name": "stdout",
     "output_type": "stream",
     "text": [
      "18\n"
     ]
    }
   ],
   "source": [
    "index = intro.index(\"n\", index + 1)\n",
    "print(index)"
   ]
  },
  {
   "cell_type": "markdown",
   "metadata": {},
   "source": [
    "**find()** : index()와 비슷한 기능을 한다."
   ]
  },
  {
   "cell_type": "code",
   "execution_count": 11,
   "metadata": {},
   "outputs": [
    {
     "name": "stdout",
     "output_type": "stream",
     "text": [
      "3\n"
     ]
    }
   ],
   "source": [
    "print(intro.find(\"n\"))"
   ]
  },
  {
   "cell_type": "markdown",
   "metadata": {},
   "source": [
    "**find()로 문자열 내에 없는 문자를 입력한다면 -1을 반환**하지만 **index()은 Error**가 뜬다."
   ]
  },
  {
   "cell_type": "code",
   "execution_count": 14,
   "metadata": {},
   "outputs": [
    {
     "name": "stdout",
     "output_type": "stream",
     "text": [
      "-1\n"
     ]
    }
   ],
   "source": [
    "print(intro.find(\"HoJu\"))"
   ]
  },
  {
   "cell_type": "code",
   "execution_count": 15,
   "metadata": {},
   "outputs": [
    {
     "ename": "ValueError",
     "evalue": "substring not found",
     "output_type": "error",
     "traceback": [
      "\u001b[1;31m---------------------------------------------------------------------------\u001b[0m",
      "\u001b[1;31mValueError\u001b[0m                                Traceback (most recent call last)",
      "\u001b[1;32m<ipython-input-15-008c1ad5dfa7>\u001b[0m in \u001b[0;36m<module>\u001b[1;34m()\u001b[0m\n\u001b[1;32m----> 1\u001b[1;33m \u001b[0mprint\u001b[0m\u001b[1;33m(\u001b[0m\u001b[0mintro\u001b[0m\u001b[1;33m.\u001b[0m\u001b[0mindex\u001b[0m\u001b[1;33m(\u001b[0m\u001b[1;34m\"HoJu\"\u001b[0m\u001b[1;33m)\u001b[0m\u001b[1;33m)\u001b[0m\u001b[1;33m\u001b[0m\u001b[0m\n\u001b[0m",
      "\u001b[1;31mValueError\u001b[0m: substring not found"
     ]
    }
   ],
   "source": [
    "print(intro.index(\"HoJu\"))"
   ]
  },
  {
   "cell_type": "markdown",
   "metadata": {},
   "source": [
    "**count()** : 해당 문자가 몇 번 나왔는지 알려준다."
   ]
  },
  {
   "cell_type": "code",
   "execution_count": 16,
   "metadata": {},
   "outputs": [
    {
     "name": "stdout",
     "output_type": "stream",
     "text": [
      "2\n"
     ]
    }
   ],
   "source": [
    "print(intro.count(\"n\"))"
   ]
  },
  {
   "cell_type": "markdown",
   "metadata": {},
   "source": [
    "## 문자열 포맷\n",
    "\n",
    "지금까지 **+**나 **,**를 써서 문자를 합칠 수 있었다."
   ]
  },
  {
   "cell_type": "code",
   "execution_count": 17,
   "metadata": {},
   "outputs": [
    {
     "name": "stdout",
     "output_type": "stream",
     "text": [
      "Kimahyun\n",
      "Kim ahyun\n"
     ]
    }
   ],
   "source": [
    "print(\"Kim\" + \"ahyun\")\n",
    "print(\"Kim\", \"ahyun\")"
   ]
  },
  {
   "cell_type": "markdown",
   "metadata": {},
   "source": [
    "### %d (정수)"
   ]
  },
  {
   "cell_type": "code",
   "execution_count": 18,
   "metadata": {},
   "outputs": [
    {
     "name": "stdout",
     "output_type": "stream",
     "text": [
      "저는 24살입니다.\n"
     ]
    }
   ],
   "source": [
    "print(\"저는 %d살입니다.\" % 24)"
   ]
  },
  {
   "cell_type": "markdown",
   "metadata": {},
   "source": [
    "### %s (문자열)"
   ]
  },
  {
   "cell_type": "code",
   "execution_count": 19,
   "metadata": {},
   "outputs": [
    {
     "name": "stdout",
     "output_type": "stream",
     "text": [
      "제 이름은 김아현입니다.\n"
     ]
    }
   ],
   "source": [
    "print(\"제 이름은 %s입니다.\" %\"김아현\")"
   ]
  },
  {
   "cell_type": "markdown",
   "metadata": {},
   "source": [
    "### %c (문자)"
   ]
  },
  {
   "cell_type": "code",
   "execution_count": 20,
   "metadata": {},
   "outputs": [
    {
     "name": "stdout",
     "output_type": "stream",
     "text": [
      "제 성은 K로 시작해요.\n"
     ]
    }
   ],
   "source": [
    "print(\"제 성은 %c로 시작해요.\" %\"K\")"
   ]
  },
  {
   "cell_type": "markdown",
   "metadata": {},
   "source": [
    "하지만 %s를 통해 위 방법들을 다 출력할 수 있다."
   ]
  },
  {
   "cell_type": "code",
   "execution_count": 21,
   "metadata": {},
   "outputs": [
    {
     "name": "stdout",
     "output_type": "stream",
     "text": [
      "저는 24살 입니다.\n"
     ]
    }
   ],
   "source": [
    "print(\"저는 %s살 입니다.\" % 24)"
   ]
  },
  {
   "cell_type": "markdown",
   "metadata": {},
   "source": [
    "**여러 개**의 문자를 출력하고 싶을 때에는 **()**를 이용해서 넣어주면 된다."
   ]
  },
  {
   "cell_type": "code",
   "execution_count": 22,
   "metadata": {},
   "outputs": [
    {
     "name": "stdout",
     "output_type": "stream",
     "text": [
      "저는 경기도 화성시에 거주중입니다.\n"
     ]
    }
   ],
   "source": [
    "print(\"저는 %s도 %s시에 거주중입니다.\" %(\"경기\", \"화성\"))"
   ]
  },
  {
   "cell_type": "markdown",
   "metadata": {},
   "source": [
    "### {} format\n",
    "\n",
    "**{}**와 **format**을 이용해서 위와 같은 **문자열들을 출력**할 수 있다."
   ]
  },
  {
   "cell_type": "code",
   "execution_count": 23,
   "metadata": {},
   "outputs": [
    {
     "name": "stdout",
     "output_type": "stream",
     "text": [
      "저는 24살입니다.\n"
     ]
    }
   ],
   "source": [
    "print(\"저는 {}살입니다.\".format(24))"
   ]
  },
  {
   "cell_type": "code",
   "execution_count": 25,
   "metadata": {},
   "outputs": [
    {
     "name": "stdout",
     "output_type": "stream",
     "text": [
      "저는 경기도 화성시에 거주중입니다.\n"
     ]
    }
   ],
   "source": [
    "print(\"저는 {}도 {}시에 거주중입니다.\".format(\"경기\", \"화성\"))"
   ]
  },
  {
   "cell_type": "markdown",
   "metadata": {},
   "source": [
    "**{} 중괄호에 index를 넣어서 여러 개의 문자열들의 위치를 바꿔줄 수 있다.**"
   ]
  },
  {
   "cell_type": "code",
   "execution_count": 26,
   "metadata": {},
   "outputs": [
    {
     "name": "stdout",
     "output_type": "stream",
     "text": [
      "저는 화성도 경기시에 거주중입니다.\n"
     ]
    }
   ],
   "source": [
    "print(\"저는 {1}도 {0}시에 거주중입니다.\".format(\"경기\", \"화성\"))"
   ]
  },
  {
   "cell_type": "markdown",
   "metadata": {},
   "source": [
    "### format(변수 = 값)"
   ]
  },
  {
   "cell_type": "code",
   "execution_count": 28,
   "metadata": {},
   "outputs": [
    {
     "name": "stdout",
     "output_type": "stream",
     "text": [
      "저는 24살이며, 경기도에 거주중입니다.\n"
     ]
    }
   ],
   "source": [
    "print(\"저는 {age}살이며, {loc}에 거주중입니다.\".format(age = 24, loc = \"경기도\"))"
   ]
  },
  {
   "cell_type": "markdown",
   "metadata": {},
   "source": [
    "### print(f\"문자열\")\n",
    "\n",
    "변수를 선언하고 위와 같은 형식으로 입력해주면 변수값이 문자열 안으로 들어가게 된다."
   ]
  },
  {
   "cell_type": "code",
   "execution_count": 29,
   "metadata": {},
   "outputs": [
    {
     "name": "stdout",
     "output_type": "stream",
     "text": [
      "저는 24살이며, 경기도에 거주중입니다.\n"
     ]
    }
   ],
   "source": [
    "age = 24\n",
    "loc = \"경기도\"\n",
    "print(f\"저는 {age}살이며, {loc}에 거주중입니다.\")"
   ]
  },
  {
   "cell_type": "markdown",
   "metadata": {},
   "source": [
    "## 탈출문자"
   ]
  },
  {
   "cell_type": "markdown",
   "metadata": {},
   "source": [
    "**\\n** : 줄바꿈"
   ]
  },
  {
   "cell_type": "code",
   "execution_count": 31,
   "metadata": {},
   "outputs": [
    {
     "name": "stdout",
     "output_type": "stream",
     "text": [
      "안녕하세요.\n",
      "김아현입니다.\n"
     ]
    }
   ],
   "source": [
    "print(\"안녕하세요.\\n김아현입니다.\")"
   ]
  },
  {
   "cell_type": "markdown",
   "metadata": {},
   "source": [
    "**\\\" \\'** : 문장 내에서 큰 따옴표나 작은 따옴표를 쓸 때"
   ]
  },
  {
   "cell_type": "code",
   "execution_count": 32,
   "metadata": {},
   "outputs": [
    {
     "name": "stdout",
     "output_type": "stream",
     "text": [
      "안녕하세요. \"김아현\"입니다.\n",
      "안녕하세요. '김아현'입니다.\n"
     ]
    }
   ],
   "source": [
    "print(\"안녕하세요. \\\"김아현\\\"입니다.\")\n",
    "print(\"안녕하세요. \\'김아현\\'입니다.\")"
   ]
  },
  {
   "cell_type": "markdown",
   "metadata": {},
   "source": [
    "**\\\\** : 문장 내에서의 역슬래시"
   ]
  },
  {
   "cell_type": "code",
   "execution_count": 33,
   "metadata": {},
   "outputs": [
    {
     "name": "stdout",
     "output_type": "stream",
     "text": [
      "C:\\zlzzl\\desktop\n"
     ]
    }
   ],
   "source": [
    "print(\"C:\\\\zlzzl\\\\desktop\")"
   ]
  },
  {
   "cell_type": "markdown",
   "metadata": {},
   "source": [
    "**\\r** : 커서를 맨 앞으로 이동한다."
   ]
  },
  {
   "cell_type": "code",
   "execution_count": 34,
   "metadata": {},
   "outputs": [
    {
     "name": "stdout",
     "output_type": "stream",
     "text": [
      "Kim\r",
      "ahyun\n"
     ]
    }
   ],
   "source": [
    "print(\"Kim\\rahyun\")"
   ]
  },
  {
   "cell_type": "markdown",
   "metadata": {},
   "source": [
    "**\\b** : 한 글자를 삭제한다. (백스페이스)"
   ]
  },
  {
   "cell_type": "code",
   "execution_count": 35,
   "metadata": {},
   "outputs": [
    {
     "name": "stdout",
     "output_type": "stream",
     "text": [
      "kimaa\bhyun\n"
     ]
    }
   ],
   "source": [
    "print(\"kimaa\\bhyun\")"
   ]
  },
  {
   "cell_type": "markdown",
   "metadata": {},
   "source": [
    "**\\t** : tab"
   ]
  },
  {
   "cell_type": "code",
   "execution_count": 36,
   "metadata": {},
   "outputs": [
    {
     "name": "stdout",
     "output_type": "stream",
     "text": [
      "Kim\tahyun\n"
     ]
    }
   ],
   "source": [
    "print(\"Kim\\tahyun\")"
   ]
  },
  {
   "cell_type": "markdown",
   "metadata": {},
   "source": [
    "## Quiz"
   ]
  },
  {
   "cell_type": "code",
   "execution_count": 67,
   "metadata": {},
   "outputs": [
    {
     "name": "stdout",
     "output_type": "stream",
     "text": [
      "goo61!\n"
     ]
    }
   ],
   "source": [
    "domain = \"http://google.com\"\n",
    "com = domain[7:]\n",
    "final = com[:-4]\n",
    "print(\"{}{}{}{}\".format(final[:3],len(final),final.count(\"e\"),\"!\"))"
   ]
  },
  {
   "cell_type": "code",
   "execution_count": 69,
   "metadata": {},
   "outputs": [
    {
     "name": "stdout",
     "output_type": "stream",
     "text": [
      "http://naver.com의 비밀번호는 nav51!입니다.\n"
     ]
    }
   ],
   "source": [
    "url = \"http://naver.com\"\n",
    "my_str = url.replace(\"http://\",\"\")\n",
    "my_str = my_str[:my_str.index(\".\")]\n",
    "password = my_str[:3] + str(len(my_str)) + str(my_str.count(\"e\")) + \"!\"\n",
    "print(\"{0}의 비밀번호는 {1}입니다.\".format(url, password))"
   ]
  }
 ],
 "metadata": {
  "kernelspec": {
   "display_name": "Python 3",
   "language": "python",
   "name": "python3"
  },
  "language_info": {
   "codemirror_mode": {
    "name": "ipython",
    "version": 3
   },
   "file_extension": ".py",
   "mimetype": "text/x-python",
   "name": "python",
   "nbconvert_exporter": "python",
   "pygments_lexer": "ipython3",
   "version": "3.6.4"
  }
 },
 "nbformat": 4,
 "nbformat_minor": 2
}
